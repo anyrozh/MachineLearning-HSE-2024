{
 "cells": [
  {
   "cell_type": "markdown",
   "metadata": {
    "id": "HcF9My_FhLuk"
   },
   "source": [
    "## Машинное обучение 1, ПМИ ФКН ВШЭ\n",
    "\n",
    "## Практическое домашнее задание 1\n",
    "\n",
    "### Общая информация\n",
    "\n",
    "Дата выдачи: 19.09.2023\n",
    "\n",
    "Мягкий дедлайн: 23:59MSK 02.10.2023\n",
    "\n",
    "Жесткий дедлайн: 23:59MSK 06.10.2023"
   ]
  },
  {
   "cell_type": "markdown",
   "metadata": {
    "id": "G64TptyJhLuo"
   },
   "source": [
    "### О задании\n",
    "\n",
    "Задание состоит из двух разделов, посвященных работе с табличными данными с помощью библиотеки pandas и визуализации с помощью matplotlib. В первом разделе вам предстоит выполнить базовые задания с помощью вышеуказанных библиотек, а во втором распределить студентов по курсам. Баллы даются за выполнение отдельных пунктов. Задачи в рамках одного раздела рекомендуется решать в том порядке, в котором они даны в задании.\n",
    "\n",
    "Задание направлено на освоение jupyter notebook (будет использоваться в дальнейших заданиях), библиотек pandas и matplotlib.\n",
    "\n",
    "### Оценивание и штрафы\n",
    "Каждая из задач имеет определенную «стоимость» (указана в скобках около задачи). Максимально допустимая оценка за работу — 10 баллов.\n",
    "\n",
    "Сдавать задание после жёсткого дедлайна нельзя. При выставлении неполного балла за задание в связи с наличием ошибок на усмотрение проверяющего предусмотрена возможность исправить работу на указанных в ответном письме условиях.\n",
    "\n",
    "Задание выполняется самостоятельно. «Похожие» решения считаются плагиатом и все задействованные студенты (в том числе те, у кого списали) не могут получить за него больше 0 баллов (подробнее о плагиате см. на странице курса). Если вы нашли решение какого-то из заданий (или его часть) в открытом источнике, необходимо указать ссылку на этот источник (скорее всего вы будете не единственным, кто это нашел, поэтому чтобы исключить подозрение в плагиате, необходима ссылка на источник).\n",
    "\n",
    "### Формат сдачи\n",
    "Задания сдаются через систему Anytask. Инвайт можно получить у семинариста или ассистента. Присылать необходимо ноутбук с выполненным заданием. Сам ноутбук называйте в формате homework-practice-01-pandas-Username.ipynb, где Username — ваша фамилия.\n",
    "\n",
    "Для удобства проверки самостоятельно посчитайте свою максимальную оценку (исходя из набора решенных задач) и укажите ниже.\n",
    "\n",
    "Оценка: xx."
   ]
  },
  {
   "cell_type": "markdown",
   "metadata": {
    "id": "BaXlfHE_hLup"
   },
   "source": [
    "## 0. Введение"
   ]
  },
  {
   "cell_type": "markdown",
   "metadata": {
    "id": "wirAvJNxhLup"
   },
   "source": [
    "Сейчас мы находимся в jupyter-ноутбуке (или ipython-ноутбуке). Это удобная среда для написания кода, проведения экспериментов, изучения данных, построения визуализаций и других нужд, не связанных с написанием production-кода. \n",
    "\n",
    "Ноутбук состоит из ячеек, каждая из которых может быть либо ячейкой с кодом, либо ячейкой с текстом размеченным и неразмеченным. Текст поддерживает markdown-разметку и формулы в Latex.\n",
    "\n",
    "Для работы с содержимым ячейки используется *режим редактирования* (*Edit mode*, включается нажатием клавиши **Enter** после выбора ячейки), а для навигации между ячейками искользуется *командный режим* (*Command mode*, включается нажатием клавиши **Esc**). Тип ячейки можно задать в командном режиме либо с помощью горячих клавиш (**y** to code, **m** to markdown, **r** to edit raw text), либо в меню *Cell -> Cell type*. \n",
    "\n",
    "После заполнения ячейки нужно нажать *Shift + Enter*, эта команда обработает содержимое ячейки: проинтерпретирует код или сверстает размеченный текст."
   ]
  },
  {
   "cell_type": "code",
   "execution_count": 1,
   "metadata": {
    "id": "aQ2_j3nkhLuq"
   },
   "outputs": [
    {
     "data": {
      "text/plain": [
       "4"
      ]
     },
     "execution_count": 1,
     "metadata": {},
     "output_type": "execute_result"
    }
   ],
   "source": [
    "# ячейка с кодом, при выполнении которой появится output\n",
    "2 + 2"
   ]
  },
  {
   "cell_type": "raw",
   "metadata": {
    "id": "ZlulCwVKhLur"
   },
   "source": [
    "Ячейка с неразмеченным текстом."
   ]
  },
  {
   "cell_type": "markdown",
   "metadata": {
    "id": "A4wkVlIehLur"
   },
   "source": [
    "Попробуйте создать свои ячейки, написать какой-нибудь код и текст какой-нибудь формулой."
   ]
  },
  {
   "cell_type": "code",
   "execution_count": 2,
   "metadata": {
    "id": "BIuaYSvqhLus"
   },
   "outputs": [],
   "source": [
    "# your code"
   ]
  },
  {
   "cell_type": "markdown",
   "metadata": {
    "id": "iWs6ljrIhLus"
   },
   "source": [
    "[Здесь](https://athena.brynmawr.edu/jupyter/hub/dblank/public/Jupyter%20Notebook%20Users%20Manual.ipynb) находится <s>не</s>большая заметка о используемом языке разметки Markdown. Он позволяет:\n",
    "\n",
    "0. Составлять упорядоченные списки\n",
    "1. Выделять *текст* <s>при</s> **необходимости**\n",
    "2. Добавлять [ссылки](http://imgs.xkcd.com/comics/the_universal_label.png)\n",
    "\n",
    "\n",
    "* Составлять неупорядоченные списки\n",
    "\n",
    "Делать вставки с помощью LaTex:\n",
    "    \n",
    "$\n",
    "\\left\\{\n",
    "\\begin{array}{ll}\n",
    "x = 16 \\sin^3 (t) \\\\ \n",
    "y = 13 \\cos (t) - 5 \\cos (2t) - 2 \\cos (3t) - \\cos (4t) \\\\\n",
    "t \\in [0, 2 \\pi]\n",
    "\\end{array}\n",
    "\\right.$"
   ]
  },
  {
   "cell_type": "markdown",
   "metadata": {
    "id": "6fmTGcXOhLus"
   },
   "source": [
    "А ещё можно вставлять картинки, или гифки, или что захотите:\n",
    "\n",
    "<img src=\"https://media1.tenor.com/images/9b8fbe9214504bcf6c60fe4e4f7e114e/tenor.gif?itemid=5416416\" style=\"width: 400px\">"
   ]
  },
  {
   "cell_type": "markdown",
   "metadata": {
    "id": "J_toGw7DhLut"
   },
   "source": [
    "### Google Colab"
   ]
  },
  {
   "cell_type": "markdown",
   "metadata": {
    "id": "jpkbCVjGhLut"
   },
   "source": [
    "Что за колаб? \n",
    "\n",
    "**Google Colab (Colaboratory)** это **Jupyter Notebook + Cloud + Google Drive.**\n",
    "\n",
    "Компания Google предоставляет возможность бесплатно запускать ноутбуки (предварительно загрузив их на свой гугл-диск) прямо в облаке. При этом вам не требуется установка никаких пакетов на свою машину, а работать можно прямиком из браузера. Вот ссылка:"
   ]
  },
  {
   "cell_type": "markdown",
   "metadata": {
    "id": "06MQog3yhLut"
   },
   "source": [
    "https://colab.research.google.com"
   ]
  },
  {
   "cell_type": "markdown",
   "metadata": {
    "id": "5_hfWXKPhLut"
   },
   "source": [
    "При использовании вы увидете много сходств с jupyter ноутбуком. Одним из преимуществ является доступность GPU, соответствующую опцию можно активировать в настройках сервиса. При желании вы сможете найти в интернете много туториалов по использованию или разобраться самостоятельно =)"
   ]
  },
  {
   "cell_type": "markdown",
   "metadata": {
    "id": "sUe2vnFGhLuu"
   },
   "source": [
    "## 1. Табличные данные и Pandas"
   ]
  },
  {
   "cell_type": "markdown",
   "metadata": {
    "id": "DJQzjjqJhLuu"
   },
   "source": [
    "Pandas — удобная библиотека для работы с табличными данными в Python, если данных не слишком много и они помещаются в оперативную память вашего компьютера. Несмотря на неэффективность реализации и некоторые проблемы, библиотека стала стандартом в анализе данных.\n",
    "\n",
    "Основной объект в pandas — это DataFrame, представляющий собой таблицу с именованными колонками различных типов, индексом (может быть многоуровневым). DataFrame можно создавать, считывая таблицу из файла или задавая вручную из других объектов.\n",
    "\n",
    "В этой части потребуется выполнить несколько небольших заданий. Можно пойти двумя путями: сначала изучить материалы, а потом приступить к заданиям, или же разбираться \"по ходу\". Выбирайте сами.\n",
    "\n",
    "Материалы:\n",
    "1. [Pandas за 10 минут из официального руководства](http://pandas.pydata.org/pandas-docs/stable/10min.html)\n",
    "2. [Документация](http://pandas.pydata.org/pandas-docs/stable/index.html) (стоит обращаться, если не понятно, как вызывать конкретный метод)\n",
    "3. [Примеры использования функционала](http://nbviewer.jupyter.org/github/justmarkham/pandas-videos/blob/master/pandas.ipynb)\n",
    "\n",
    "Многие из заданий можно выполнить несколькими способами. Не существуют единственно верного, но попробуйте максимально задействовать арсенал pandas и ориентируйтесь на простоту и понятность вашего кода. Мы не будем подсказывать, что нужно использовать для решения конкретной задачи, попробуйте находить необходимый функционал сами (название метода чаще всего очевидно). В помощь вам документация, поиск и stackoverflow."
   ]
  },
  {
   "cell_type": "code",
   "execution_count": 89,
   "metadata": {
    "id": "26zbFY25hLuv",
    "outputId": "404c22c6-2696-48ab-c71e-7a3ffbc36b18"
   },
   "outputs": [
    {
     "name": "stdout",
     "output_type": "stream",
     "text": [
      "%pylab is deprecated, use %matplotlib inline and import the required libraries.\n",
      "Populating the interactive namespace from numpy and matplotlib\n"
     ]
    }
   ],
   "source": [
    "%pylab inline\n",
    "import pandas as pd"
   ]
  },
  {
   "cell_type": "markdown",
   "metadata": {},
   "source": [
    "<span style=\"color:red\">Перед выполнением задания необходимо ознакомиться с первым семинаром (seminars/sem01-pandas.ipynb) </span>.\n",
    "\n",
    "Это поможет вам получить общее понимание происходяшего и успешнее справиться с заданием.\n",
    "\n",
    "Также успешному выполнению способствует внимательное чтение текста задания от начала до конца.\n",
    "\n",
    "Удачи!"
   ]
  },
  {
   "cell_type": "markdown",
   "metadata": {
    "id": "dneJl9TyhLuv"
   },
   "source": [
    "Скачаем подготовленные на семинаре данные:"
   ]
  },
  {
   "cell_type": "code",
   "execution_count": 90,
   "metadata": {
    "id": "rj_I0RslhLuw"
   },
   "outputs": [],
   "source": [
    "#!wget  -O 'end_seminar.xlsx' -q 'https://www.dropbox.com/s/f4rm8sjc3v99p0m/_end_seminar.xlsx?dl=0'"
   ]
  },
  {
   "cell_type": "code",
   "execution_count": 91,
   "metadata": {},
   "outputs": [],
   "source": [
    "# Укажите нужный вам движок чтения файлов Excel\n",
    "df = pd.read_excel('../MO FTDA/_end_seminar.xlsx')"
   ]
  },
  {
   "cell_type": "code",
   "execution_count": 92,
   "metadata": {},
   "outputs": [],
   "source": [
    "#df"
   ]
  },
  {
   "cell_type": "markdown",
   "metadata": {
    "id": "5hp7bn_ThLuw"
   },
   "source": [
    "Для пользователей Windows: скачайте файл самостоятельно и поместите его в папку с тетрадкой. Или попробуйте один из следующих вариантов:"
   ]
  },
  {
   "cell_type": "code",
   "execution_count": 93,
   "metadata": {
    "id": "4h4_BaX8hLuw"
   },
   "outputs": [],
   "source": [
    "#!powershell iwr -outf somefile https://somesite/somefile"
   ]
  },
  {
   "cell_type": "code",
   "execution_count": 94,
   "metadata": {
    "id": "7bHroLGChLuw"
   },
   "outputs": [],
   "source": [
    "#!pip install wget\n",
    "#import wget \n",
    "#wget.download('https://dropbox.com/s/f4rm8sjc3v99p0m/_end_seminar.xlsx?dl=1', 'end_seminar.xlsx')"
   ]
  },
  {
   "cell_type": "markdown",
   "metadata": {
    "id": "VFs_6IythLux"
   },
   "source": [
    "##### В первой части задания (до раздела \"Распределение студентов по курсам\") использование циклов запрещается и повлечет за собой снижение оценки. Использование <code>vectorize</code> и  <code>apply</code>, <code>apply_along_axis</code> крайне нежелательно."
   ]
  },
  {
   "cell_type": "markdown",
   "metadata": {
    "id": "shFkfJkohLux"
   },
   "source": [
    "Для каждой задачи из этого раздела вы должны написать код для получения ответа, а также дать текстовый ответ, если он предполагается.\n",
    "\n",
    "На некоторые вопросы вы можете получить путём пристального взгляда на таблицу, но это не будет засчитываться. Вы в любом случае должны получить ответ с помощью кода."
   ]
  },
  {
   "cell_type": "markdown",
   "metadata": {
    "id": "gDD85M7bhLux"
   },
   "source": [
    "#### 1. [0 баллов] Откройте файл с таблицей (не забудьте про её формат). Выведите последние 10 строк.\n",
    "\n",
    "Посмотрите на данные и скажите, что они из себя представляют, сколько в таблице строк, какие столбцы? (на это не надо отвечать, просто подумайте об этом)"
   ]
  },
  {
   "cell_type": "code",
   "execution_count": 95,
   "metadata": {
    "id": "PKulur3LhLuy"
   },
   "outputs": [
    {
     "data": {
      "text/html": [
       "<div>\n",
       "<style scoped>\n",
       "    .dataframe tbody tr th:only-of-type {\n",
       "        vertical-align: middle;\n",
       "    }\n",
       "\n",
       "    .dataframe tbody tr th {\n",
       "        vertical-align: top;\n",
       "    }\n",
       "\n",
       "    .dataframe thead th {\n",
       "        text-align: right;\n",
       "    }\n",
       "</style>\n",
       "<table border=\"1\" class=\"dataframe\">\n",
       "  <thead>\n",
       "    <tr style=\"text-align: right;\">\n",
       "      <th></th>\n",
       "      <th>timestamp</th>\n",
       "      <th>id</th>\n",
       "      <th>rating</th>\n",
       "      <th>18_group</th>\n",
       "      <th>is_mi</th>\n",
       "      <th>fall_1</th>\n",
       "      <th>fall_2</th>\n",
       "      <th>fall_3</th>\n",
       "      <th>spring_1</th>\n",
       "      <th>spring_2</th>\n",
       "      <th>spring_3</th>\n",
       "      <th>is_first_time</th>\n",
       "      <th>percentile</th>\n",
       "      <th>17_group</th>\n",
       "      <th>blended</th>\n",
       "      <th>is_ml_student</th>\n",
       "    </tr>\n",
       "  </thead>\n",
       "  <tbody>\n",
       "    <tr>\n",
       "      <th>0</th>\n",
       "      <td>2020-05-15 01:12:50.543</td>\n",
       "      <td>93ff79a51cd602f1dd3028ba2c129503</td>\n",
       "      <td>698</td>\n",
       "      <td>181.0</td>\n",
       "      <td>NaN</td>\n",
       "      <td>Язык SQL</td>\n",
       "      <td>Высокопроизводительные вычисления</td>\n",
       "      <td>Матричные вычисления</td>\n",
       "      <td>Дискретная оптимизация</td>\n",
       "      <td>Численные методы</td>\n",
       "      <td>Машинное обучение 2</td>\n",
       "      <td>Да</td>\n",
       "      <td>0.183857</td>\n",
       "      <td>NaN</td>\n",
       "      <td>NaN</td>\n",
       "      <td>NaN</td>\n",
       "    </tr>\n",
       "    <tr>\n",
       "      <th>1</th>\n",
       "      <td>2020-05-15 02:46:48.066</td>\n",
       "      <td>26b01b1c4cd5656bab18d24c548834fb</td>\n",
       "      <td>647</td>\n",
       "      <td>181.0</td>\n",
       "      <td>NaN</td>\n",
       "      <td>Высокопроизводительные вычисления</td>\n",
       "      <td>Безопасность компьютерных систем</td>\n",
       "      <td>Язык SQL</td>\n",
       "      <td>Дискретная оптимизация</td>\n",
       "      <td>Численные методы</td>\n",
       "      <td>Машинное обучение 2</td>\n",
       "      <td>Нет</td>\n",
       "      <td>0.426009</td>\n",
       "      <td>NaN</td>\n",
       "      <td>NaN</td>\n",
       "      <td>NaN</td>\n",
       "    </tr>\n",
       "    <tr>\n",
       "      <th>2</th>\n",
       "      <td>2020-05-15 03:12:41.480</td>\n",
       "      <td>30f3653fc176d54e89ac3179c455c6dd</td>\n",
       "      <td>624</td>\n",
       "      <td>185.0</td>\n",
       "      <td>NaN</td>\n",
       "      <td>Безопасность компьютерных систем</td>\n",
       "      <td>Матричные вычисления</td>\n",
       "      <td>Моделирование временных рядов</td>\n",
       "      <td>Дискретная оптимизация</td>\n",
       "      <td>Машинное обучение 2</td>\n",
       "      <td>Численные методы</td>\n",
       "      <td>Да</td>\n",
       "      <td>0.538117</td>\n",
       "      <td>NaN</td>\n",
       "      <td>NaN</td>\n",
       "      <td>NaN</td>\n",
       "    </tr>\n",
       "    <tr>\n",
       "      <th>3</th>\n",
       "      <td>2020-05-15 04:43:08.994</td>\n",
       "      <td>1528f0eaa027580820ccf0d92a53ad68</td>\n",
       "      <td>579</td>\n",
       "      <td>182.0</td>\n",
       "      <td>NaN</td>\n",
       "      <td>Statistical Learning Theory</td>\n",
       "      <td>Высокопроизводительные вычисления</td>\n",
       "      <td>Матричные вычисления</td>\n",
       "      <td>Дискретная оптимизация</td>\n",
       "      <td>Численные методы</td>\n",
       "      <td>Машинное обучение 2</td>\n",
       "      <td>Да</td>\n",
       "      <td>0.744395</td>\n",
       "      <td>NaN</td>\n",
       "      <td>NaN</td>\n",
       "      <td>NaN</td>\n",
       "    </tr>\n",
       "    <tr>\n",
       "      <th>4</th>\n",
       "      <td>2020-05-15 07:47:17.197</td>\n",
       "      <td>496ea4f0d4abe264b1bb1b80eb3830c5</td>\n",
       "      <td>572</td>\n",
       "      <td>183.0</td>\n",
       "      <td>NaN</td>\n",
       "      <td>Высокопроизводительные вычисления</td>\n",
       "      <td>Безопасность компьютерных систем</td>\n",
       "      <td>Теория баз данных</td>\n",
       "      <td>Компьютерные сети</td>\n",
       "      <td>Дискретная оптимизация</td>\n",
       "      <td>Численные методы</td>\n",
       "      <td>Да</td>\n",
       "      <td>0.780269</td>\n",
       "      <td>NaN</td>\n",
       "      <td>NaN</td>\n",
       "      <td>NaN</td>\n",
       "    </tr>\n",
       "    <tr>\n",
       "      <th>5</th>\n",
       "      <td>2020-05-15 09:10:18.558</td>\n",
       "      <td>d0d8ff53ed5b119f9056068e954256c6</td>\n",
       "      <td>591</td>\n",
       "      <td>187.0</td>\n",
       "      <td>NaN</td>\n",
       "      <td>Язык SQL</td>\n",
       "      <td>Statistical Learning Theory</td>\n",
       "      <td>Сбор и обработка данных с помощью краудсорсинга</td>\n",
       "      <td>Промышленное программирование на языке Java</td>\n",
       "      <td>Численные методы</td>\n",
       "      <td>Дискретная оптимизация</td>\n",
       "      <td>Да</td>\n",
       "      <td>0.690583</td>\n",
       "      <td>NaN</td>\n",
       "      <td>NaN</td>\n",
       "      <td>NaN</td>\n",
       "    </tr>\n",
       "    <tr>\n",
       "      <th>6</th>\n",
       "      <td>2020-05-15 11:42:16.910</td>\n",
       "      <td>e4caca755ee0bdd711e18fb8084958b5</td>\n",
       "      <td>724</td>\n",
       "      <td>181.0</td>\n",
       "      <td>NaN</td>\n",
       "      <td>Statistical Learning Theory</td>\n",
       "      <td>Безопасность компьютерных систем</td>\n",
       "      <td>Моделирование временных рядов</td>\n",
       "      <td>Численные методы</td>\n",
       "      <td>Промышленное программирование на языке Java</td>\n",
       "      <td>Машинное обучение 2</td>\n",
       "      <td>Да</td>\n",
       "      <td>0.103139</td>\n",
       "      <td>NaN</td>\n",
       "      <td>NaN</td>\n",
       "      <td>NaN</td>\n",
       "    </tr>\n",
       "    <tr>\n",
       "      <th>7</th>\n",
       "      <td>2020-05-15 12:11:43.252</td>\n",
       "      <td>8047c18b3c531c6f47931e0744f3e028</td>\n",
       "      <td>566</td>\n",
       "      <td>187.0</td>\n",
       "      <td>NaN</td>\n",
       "      <td>Язык SQL</td>\n",
       "      <td>Теория баз данных</td>\n",
       "      <td>Безопасность компьютерных систем</td>\n",
       "      <td>Промышленное программирование на языке Java</td>\n",
       "      <td>Компьютерные сети</td>\n",
       "      <td>Дискретная оптимизация</td>\n",
       "      <td>Да</td>\n",
       "      <td>0.802691</td>\n",
       "      <td>NaN</td>\n",
       "      <td>NaN</td>\n",
       "      <td>NaN</td>\n",
       "    </tr>\n",
       "    <tr>\n",
       "      <th>8</th>\n",
       "      <td>2020-05-15 13:21:40.913</td>\n",
       "      <td>e8b314842f176be9051d14a07cb156cb</td>\n",
       "      <td>618</td>\n",
       "      <td>181.0</td>\n",
       "      <td>NaN</td>\n",
       "      <td>Язык SQL</td>\n",
       "      <td>Теория баз данных</td>\n",
       "      <td>Матричные вычисления</td>\n",
       "      <td>Промышленное программирование на языке Java</td>\n",
       "      <td>Компьютерные сети</td>\n",
       "      <td>Дискретная оптимизация</td>\n",
       "      <td>Да</td>\n",
       "      <td>0.565022</td>\n",
       "      <td>NaN</td>\n",
       "      <td>NaN</td>\n",
       "      <td>NaN</td>\n",
       "    </tr>\n",
       "    <tr>\n",
       "      <th>9</th>\n",
       "      <td>2020-05-15 13:29:10.789</td>\n",
       "      <td>d6c079f1ff869c8c84fa3ed30bd67e0e</td>\n",
       "      <td>733</td>\n",
       "      <td>181.0</td>\n",
       "      <td>NaN</td>\n",
       "      <td>Теория баз данных</td>\n",
       "      <td>Высокопроизводительные вычисления</td>\n",
       "      <td>Сбор и обработка данных с помощью краудсорсинга</td>\n",
       "      <td>Дополнительные главы прикладной статистики</td>\n",
       "      <td>Анализ данных в бизнесе</td>\n",
       "      <td>Численные методы</td>\n",
       "      <td>Да</td>\n",
       "      <td>0.085202</td>\n",
       "      <td>NaN</td>\n",
       "      <td>NaN</td>\n",
       "      <td>1.0</td>\n",
       "    </tr>\n",
       "  </tbody>\n",
       "</table>\n",
       "</div>"
      ],
      "text/plain": [
       "                timestamp                                id  rating  18_group  \\\n",
       "0 2020-05-15 01:12:50.543  93ff79a51cd602f1dd3028ba2c129503     698     181.0   \n",
       "1 2020-05-15 02:46:48.066  26b01b1c4cd5656bab18d24c548834fb     647     181.0   \n",
       "2 2020-05-15 03:12:41.480  30f3653fc176d54e89ac3179c455c6dd     624     185.0   \n",
       "3 2020-05-15 04:43:08.994  1528f0eaa027580820ccf0d92a53ad68     579     182.0   \n",
       "4 2020-05-15 07:47:17.197  496ea4f0d4abe264b1bb1b80eb3830c5     572     183.0   \n",
       "5 2020-05-15 09:10:18.558  d0d8ff53ed5b119f9056068e954256c6     591     187.0   \n",
       "6 2020-05-15 11:42:16.910  e4caca755ee0bdd711e18fb8084958b5     724     181.0   \n",
       "7 2020-05-15 12:11:43.252  8047c18b3c531c6f47931e0744f3e028     566     187.0   \n",
       "8 2020-05-15 13:21:40.913  e8b314842f176be9051d14a07cb156cb     618     181.0   \n",
       "9 2020-05-15 13:29:10.789  d6c079f1ff869c8c84fa3ed30bd67e0e     733     181.0   \n",
       "\n",
       "   is_mi                             fall_1  \\\n",
       "0    NaN                           Язык SQL   \n",
       "1    NaN  Высокопроизводительные вычисления   \n",
       "2    NaN   Безопасность компьютерных систем   \n",
       "3    NaN        Statistical Learning Theory   \n",
       "4    NaN  Высокопроизводительные вычисления   \n",
       "5    NaN                           Язык SQL   \n",
       "6    NaN        Statistical Learning Theory   \n",
       "7    NaN                           Язык SQL   \n",
       "8    NaN                           Язык SQL   \n",
       "9    NaN                  Теория баз данных   \n",
       "\n",
       "                              fall_2  \\\n",
       "0  Высокопроизводительные вычисления   \n",
       "1   Безопасность компьютерных систем   \n",
       "2               Матричные вычисления   \n",
       "3  Высокопроизводительные вычисления   \n",
       "4   Безопасность компьютерных систем   \n",
       "5        Statistical Learning Theory   \n",
       "6   Безопасность компьютерных систем   \n",
       "7                  Теория баз данных   \n",
       "8                  Теория баз данных   \n",
       "9  Высокопроизводительные вычисления   \n",
       "\n",
       "                                            fall_3  \\\n",
       "0                             Матричные вычисления   \n",
       "1                                         Язык SQL   \n",
       "2                    Моделирование временных рядов   \n",
       "3                             Матричные вычисления   \n",
       "4                                Теория баз данных   \n",
       "5  Сбор и обработка данных с помощью краудсорсинга   \n",
       "6                    Моделирование временных рядов   \n",
       "7                 Безопасность компьютерных систем   \n",
       "8                             Матричные вычисления   \n",
       "9  Сбор и обработка данных с помощью краудсорсинга   \n",
       "\n",
       "                                      spring_1  \\\n",
       "0                       Дискретная оптимизация   \n",
       "1                       Дискретная оптимизация   \n",
       "2                       Дискретная оптимизация   \n",
       "3                       Дискретная оптимизация   \n",
       "4                            Компьютерные сети   \n",
       "5  Промышленное программирование на языке Java   \n",
       "6                             Численные методы   \n",
       "7  Промышленное программирование на языке Java   \n",
       "8  Промышленное программирование на языке Java   \n",
       "9   Дополнительные главы прикладной статистики   \n",
       "\n",
       "                                      spring_2                spring_3  \\\n",
       "0                             Численные методы     Машинное обучение 2   \n",
       "1                             Численные методы     Машинное обучение 2   \n",
       "2                          Машинное обучение 2        Численные методы   \n",
       "3                             Численные методы     Машинное обучение 2   \n",
       "4                       Дискретная оптимизация        Численные методы   \n",
       "5                             Численные методы  Дискретная оптимизация   \n",
       "6  Промышленное программирование на языке Java     Машинное обучение 2   \n",
       "7                            Компьютерные сети  Дискретная оптимизация   \n",
       "8                            Компьютерные сети  Дискретная оптимизация   \n",
       "9                      Анализ данных в бизнесе        Численные методы   \n",
       "\n",
       "  is_first_time  percentile  17_group blended  is_ml_student  \n",
       "0            Да    0.183857       NaN     NaN            NaN  \n",
       "1           Нет    0.426009       NaN     NaN            NaN  \n",
       "2            Да    0.538117       NaN     NaN            NaN  \n",
       "3            Да    0.744395       NaN     NaN            NaN  \n",
       "4            Да    0.780269       NaN     NaN            NaN  \n",
       "5            Да    0.690583       NaN     NaN            NaN  \n",
       "6            Да    0.103139       NaN     NaN            NaN  \n",
       "7            Да    0.802691       NaN     NaN            NaN  \n",
       "8            Да    0.565022       NaN     NaN            NaN  \n",
       "9            Да    0.085202       NaN     NaN            1.0  "
      ]
     },
     "execution_count": 95,
     "metadata": {},
     "output_type": "execute_result"
    }
   ],
   "source": [
    "# your code\n",
    "df.head(10)"
   ]
  },
  {
   "cell_type": "code",
   "execution_count": 96,
   "metadata": {},
   "outputs": [],
   "source": [
    "#df.sample(10)"
   ]
  },
  {
   "cell_type": "code",
   "execution_count": 97,
   "metadata": {},
   "outputs": [],
   "source": [
    "#from IPython.display import display\n",
    "#display(df.head(10),df.sample(10))"
   ]
  },
  {
   "cell_type": "markdown",
   "metadata": {
    "id": "jPiMwyqHhLuy"
   },
   "source": [
    "#### 2. [0.5 балла] Есть ли в данных пропуски? В каких колонках? Сколько их в каждой из этих колонок?"
   ]
  },
  {
   "cell_type": "code",
   "execution_count": 98,
   "metadata": {
    "id": "edY1RrSOhLuy"
   },
   "outputs": [
    {
     "data": {
      "text/plain": [
       "timestamp          0\n",
       "id                 0\n",
       "rating             0\n",
       "18_group         138\n",
       "is_mi            343\n",
       "fall_1             0\n",
       "fall_2             0\n",
       "fall_3             0\n",
       "spring_1           0\n",
       "spring_2           0\n",
       "spring_3           0\n",
       "is_first_time      2\n",
       "percentile         0\n",
       "17_group         223\n",
       "blended          223\n",
       "is_ml_student    304\n",
       "dtype: int64"
      ]
     },
     "execution_count": 98,
     "metadata": {},
     "output_type": "execute_result"
    }
   ],
   "source": [
    "# your code\n",
    "df.isna().sum()"
   ]
  },
  {
   "cell_type": "code",
   "execution_count": 99,
   "metadata": {},
   "outputs": [
    {
     "data": {
      "text/plain": [
       "timestamp          0\n",
       "id                 0\n",
       "rating             0\n",
       "18_group         138\n",
       "is_mi            343\n",
       "fall_1             0\n",
       "fall_2             0\n",
       "fall_3             0\n",
       "spring_1           0\n",
       "spring_2           0\n",
       "spring_3           0\n",
       "is_first_time      2\n",
       "percentile         0\n",
       "17_group         223\n",
       "blended          223\n",
       "is_ml_student    304\n",
       "dtype: int64"
      ]
     },
     "execution_count": 99,
     "metadata": {},
     "output_type": "execute_result"
    }
   ],
   "source": [
    "df.isna().sum()"
   ]
  },
  {
   "cell_type": "markdown",
   "metadata": {
    "id": "B5ORhP2uhLuz"
   },
   "source": [
    "Заполните пропуски пустой строкой для строковых колонок и нулём для числовых (постарайтесь избежать перечисления названий всех столбцов)."
   ]
  },
  {
   "cell_type": "code",
   "execution_count": 100,
   "metadata": {
    "id": "TlF_JJ2ghLuz"
   },
   "outputs": [],
   "source": [
    "df['18_group'] = df['18_group'].fillna(0)\n",
    "df['is_mi'] = df['is_mi'].fillna(0)\n",
    "df['is_first_time'] = df['is_first_time'].fillna(\"\")\n",
    "df['17_group'] = df['17_group'].fillna(0)\n",
    "df['blended'] = df['blended'].fillna(\"\")\n",
    "df['is_ml_student']=df['is_ml_student'].fillna(0)"
   ]
  },
  {
   "cell_type": "markdown",
   "metadata": {
    "id": "w5ELhkT1hLuz"
   },
   "source": [
    "#### 3. [0.5 балла] Посмотрите повнимательнее на колонку 'is_first_time'. \n",
    "\n",
    "Есть ли в ней ответы \"Нет\"? Сколько их?\n",
    "\n",
    "Если вы найдете повторные обращения студентов, оставьте только самую позднюю версию. В дальнейших заданиях используйте версию данных без повторов.\n",
    "\n",
    "<i>Обращения со значением \"Нет\" в 'is_first_time' могут быть как повторными, так и первичными, поскольку поле заполняли сами студенты.</i>"
   ]
  },
  {
   "cell_type": "code",
   "execution_count": 101,
   "metadata": {
    "id": "VEfiNsyQhLuz"
   },
   "outputs": [
    {
     "data": {
      "text/plain": [
       "is_first_time\n",
       "Да     308\n",
       "Нет     51\n",
       "         2\n",
       "Name: count, dtype: int64"
      ]
     },
     "execution_count": 101,
     "metadata": {},
     "output_type": "execute_result"
    }
   ],
   "source": [
    "# your code\n",
    "df['is_first_time'].value_counts()"
   ]
  },
  {
   "cell_type": "code",
   "execution_count": 102,
   "metadata": {
    "scrolled": true
   },
   "outputs": [
    {
     "data": {
      "text/plain": [
       "id\n",
       "47e2d8bbb630bc2d9b3fbf98fe77cffb    2\n",
       "50f6d5b6a7fd6c8b1b8959f9ce1f808d    2\n",
       "5c49473012411a1eee72f8ea63767adf    2\n",
       "5ee2ad618729a6dc3bdb7f2858826ef0    2\n",
       "86c24daaa62246142d46ee58534a65e0    2\n",
       "8aa0f1b7331b49464174b02cd693be52    2\n",
       "9015b809a29fb65ce23d7addf16d770d    2\n",
       "906692ccd33f59058380aac1598c5480    2\n",
       "9a66d84568b8017d98eb2e678b57296b    2\n",
       "a65d50ef4fadfac64508a54e972d8623    2\n",
       "b121e4d7d62387cd5199cca464a34a6d    2\n",
       "d9c068e5578253c2b0721558dd0813e1    2\n",
       "f8fab519d78047712c06798c8b7fe38f    2\n",
       "ffc58d371e2f52e1c7f45d49d3d629d0    2\n",
       "Name: is_first_time, dtype: int64"
      ]
     },
     "execution_count": 102,
     "metadata": {},
     "output_type": "execute_result"
    }
   ],
   "source": [
    "#fil = df.query(\"is_first_time == 'Нет'\")\n",
    "group_net = df.groupby(['id'])['is_first_time'].count()\n",
    "group_filt = group_net > 1\n",
    "gr = group_net[group_filt]\n",
    "gr"
   ]
  },
  {
   "cell_type": "code",
   "execution_count": 103,
   "metadata": {},
   "outputs": [],
   "source": [
    "dups = df['id'].duplicated()"
   ]
  },
  {
   "cell_type": "code",
   "execution_count": 104,
   "metadata": {},
   "outputs": [],
   "source": [
    "df_filtered = df[~((df.duplicated(subset='id', keep=False)) & (df['is_first_time'] == 'Да'))]"
   ]
  },
  {
   "cell_type": "code",
   "execution_count": 105,
   "metadata": {},
   "outputs": [],
   "source": [
    "#df_filtered"
   ]
  },
  {
   "cell_type": "code",
   "execution_count": 106,
   "metadata": {},
   "outputs": [
    {
     "data": {
      "text/plain": [
       "is_first_time\n",
       "Да     294\n",
       "Нет     51\n",
       "         2\n",
       "Name: count, dtype: int64"
      ]
     },
     "execution_count": 106,
     "metadata": {},
     "output_type": "execute_result"
    }
   ],
   "source": [
    "df_filtered['is_first_time'].value_counts()"
   ]
  },
  {
   "cell_type": "markdown",
   "metadata": {
    "id": "Jhk3tVpVhLuy"
   },
   "source": [
    "#### 4. [0.5 балла] Ответьте на вопросы:\n",
    "1. Сколько было заявок из групп 18-го года набора, а сколько из групп 17-го года?\n",
    "2. Есть ли студенты с равными перцентилями (среди объединенных данных, ведь конкурс на каждый курс общий)?"
   ]
  },
  {
   "cell_type": "code",
   "execution_count": 107,
   "metadata": {
    "id": "bsn4vn8RhLuy"
   },
   "outputs": [
    {
     "data": {
      "text/plain": [
       "213"
      ]
     },
     "execution_count": 107,
     "metadata": {},
     "output_type": "execute_result"
    }
   ],
   "source": [
    "# your code\n",
    "count_18 = df_filtered[df_filtered['18_group'] != 0]\n",
    "count_18 = count_18.count()\n",
    "count_18['18_group']"
   ]
  },
  {
   "cell_type": "code",
   "execution_count": 108,
   "metadata": {},
   "outputs": [
    {
     "data": {
      "text/plain": [
       "134"
      ]
     },
     "execution_count": 108,
     "metadata": {},
     "output_type": "execute_result"
    }
   ],
   "source": [
    "# your code\n",
    "count_17 = df_filtered[df_filtered['17_group'] != 0]\n",
    "count_17 = count_17.count()\n",
    "count_17['17_group']"
   ]
  },
  {
   "cell_type": "code",
   "execution_count": 109,
   "metadata": {},
   "outputs": [],
   "source": [
    "#df_filtered"
   ]
  },
  {
   "cell_type": "code",
   "execution_count": 110,
   "metadata": {},
   "outputs": [],
   "source": [
    "dupl_perc = df_filtered[df_filtered.duplicated('percentile',keep = False)]"
   ]
  },
  {
   "cell_type": "code",
   "execution_count": 111,
   "metadata": {},
   "outputs": [
    {
     "data": {
      "text/html": [
       "<div>\n",
       "<style scoped>\n",
       "    .dataframe tbody tr th:only-of-type {\n",
       "        vertical-align: middle;\n",
       "    }\n",
       "\n",
       "    .dataframe tbody tr th {\n",
       "        vertical-align: top;\n",
       "    }\n",
       "\n",
       "    .dataframe thead th {\n",
       "        text-align: right;\n",
       "    }\n",
       "</style>\n",
       "<table border=\"1\" class=\"dataframe\">\n",
       "  <thead>\n",
       "    <tr style=\"text-align: right;\">\n",
       "      <th></th>\n",
       "      <th>timestamp</th>\n",
       "      <th>id</th>\n",
       "      <th>rating</th>\n",
       "      <th>18_group</th>\n",
       "      <th>is_mi</th>\n",
       "      <th>fall_1</th>\n",
       "      <th>fall_2</th>\n",
       "      <th>fall_3</th>\n",
       "      <th>spring_1</th>\n",
       "      <th>spring_2</th>\n",
       "      <th>spring_3</th>\n",
       "      <th>is_first_time</th>\n",
       "      <th>percentile</th>\n",
       "      <th>17_group</th>\n",
       "      <th>blended</th>\n",
       "      <th>is_ml_student</th>\n",
       "    </tr>\n",
       "  </thead>\n",
       "  <tbody>\n",
       "    <tr>\n",
       "      <th>80</th>\n",
       "      <td>2020-05-18 17:09:23.589</td>\n",
       "      <td>3e106aaef8b24dbb01319c73e14c2936</td>\n",
       "      <td>784</td>\n",
       "      <td>182.0</td>\n",
       "      <td>0.0</td>\n",
       "      <td>Безопасность компьютерных систем</td>\n",
       "      <td>Statistical Learning Theory</td>\n",
       "      <td>Матричные вычисления</td>\n",
       "      <td>Дискретная оптимизация</td>\n",
       "      <td>Промышленное программирование на языке Java</td>\n",
       "      <td>Дополнительные главы прикладной статистики</td>\n",
       "      <td>Да</td>\n",
       "      <td>0.0</td>\n",
       "      <td>0.0</td>\n",
       "      <td></td>\n",
       "      <td>1.0</td>\n",
       "    </tr>\n",
       "    <tr>\n",
       "      <th>231</th>\n",
       "      <td>2020-05-14 21:52:43.844</td>\n",
       "      <td>3a7326c9e355a67d3805824ca34c4bc5</td>\n",
       "      <td>1457</td>\n",
       "      <td>0.0</td>\n",
       "      <td>0.0</td>\n",
       "      <td>Statistical Learning Theory</td>\n",
       "      <td>Высокопроизводительные вычисления</td>\n",
       "      <td>Statistical Learning Theory</td>\n",
       "      <td>Символьные вычисления</td>\n",
       "      <td>Численные методы</td>\n",
       "      <td>Символьные вычисления</td>\n",
       "      <td>Да</td>\n",
       "      <td>0.0</td>\n",
       "      <td>173.0</td>\n",
       "      <td>Введение в дифференциальную геометрию</td>\n",
       "      <td>0.0</td>\n",
       "    </tr>\n",
       "  </tbody>\n",
       "</table>\n",
       "</div>"
      ],
      "text/plain": [
       "                  timestamp                                id  rating  \\\n",
       "80  2020-05-18 17:09:23.589  3e106aaef8b24dbb01319c73e14c2936     784   \n",
       "231 2020-05-14 21:52:43.844  3a7326c9e355a67d3805824ca34c4bc5    1457   \n",
       "\n",
       "     18_group  is_mi                            fall_1  \\\n",
       "80      182.0    0.0  Безопасность компьютерных систем   \n",
       "231       0.0    0.0       Statistical Learning Theory   \n",
       "\n",
       "                                fall_2                       fall_3  \\\n",
       "80         Statistical Learning Theory         Матричные вычисления   \n",
       "231  Высокопроизводительные вычисления  Statistical Learning Theory   \n",
       "\n",
       "                   spring_1                                     spring_2  \\\n",
       "80   Дискретная оптимизация  Промышленное программирование на языке Java   \n",
       "231   Символьные вычисления                             Численные методы   \n",
       "\n",
       "                                       spring_3 is_first_time  percentile  \\\n",
       "80   Дополнительные главы прикладной статистики            Да         0.0   \n",
       "231                       Символьные вычисления            Да         0.0   \n",
       "\n",
       "     17_group                                blended  is_ml_student  \n",
       "80        0.0                                                   1.0  \n",
       "231     173.0  Введение в дифференциальную геометрию            0.0  "
      ]
     },
     "execution_count": 111,
     "metadata": {},
     "output_type": "execute_result"
    }
   ],
   "source": [
    "dupl_perc"
   ]
  },
  {
   "cell_type": "markdown",
   "metadata": {
    "id": "IlzHp3HVhLuz"
   },
   "source": [
    "#### 5. [0.5 балла] Какие  blended-курсы для четверокурсников существуют? На какой blended-курс записалось наибольшее количество студентов? На каком из blended-курсов собрались студенты с самым высоким средним рейтингом (выведите этот курс и количество студентов на нем)? "
   ]
  },
  {
   "cell_type": "code",
   "execution_count": 112,
   "metadata": {
    "id": "j_BRWerHhLu0"
   },
   "outputs": [
    {
     "data": {
      "text/plain": [
       "blended\n",
       "                                         213\n",
       "DevOps                                    87\n",
       "Соревновательный анализ данных            32\n",
       "Введение в дифференциальную геометрию     15\n",
       "Name: count, dtype: int64"
      ]
     },
     "execution_count": 112,
     "metadata": {},
     "output_type": "execute_result"
    }
   ],
   "source": [
    "# your code\n",
    "df_filtered['blended'].value_counts()"
   ]
  },
  {
   "cell_type": "code",
   "execution_count": 113,
   "metadata": {},
   "outputs": [],
   "source": [
    "blended_course = df_filtered.groupby(['blended']).agg(average_rating=('rating', 'mean'),sum_students=('id', 'count')).reset_index()\n",
    "highest_blend = blended_course.loc[blended_course['average_rating'].idxmax()]"
   ]
  },
  {
   "cell_type": "code",
   "execution_count": 114,
   "metadata": {},
   "outputs": [
    {
     "data": {
      "text/plain": [
       "blended           Введение в дифференциальную геометрию\n",
       "average_rating                              1210.733333\n",
       "sum_students                                         15\n",
       "Name: 2, dtype: object"
      ]
     },
     "execution_count": 114,
     "metadata": {},
     "output_type": "execute_result"
    }
   ],
   "source": [
    "highest_blend"
   ]
  },
  {
   "cell_type": "code",
   "execution_count": 115,
   "metadata": {},
   "outputs": [
    {
     "name": "stdout",
     "output_type": "stream",
     "text": [
      "Курс: Введение в дифференциальную геометрию\n",
      "Количество студентов: 15\n"
     ]
    }
   ],
   "source": [
    "print(f\"Курс: {highest_blend['blended']}\")\n",
    "print(f\"Количество студентов: {highest_blend['sum_students']}\")"
   ]
  },
  {
   "cell_type": "markdown",
   "metadata": {
    "id": "IU_FLt8HhLu0"
   },
   "source": [
    "#### 6. [1 балл] Выясните, есть ли студенты с абсолютно одинаковыми предпочтениями по всем курсам.\n",
    "\n",
    "Для этого сформируйте таблицу, где для каждого возможного набора курсов посчитано количество студентов, выбравших такой набор, и оставьте только строки где это количество больше 1.\n",
    "\n",
    "В данном случае набор курсов задается упорядоченным множеством ('fall_1', 'fall_2', 'fall_3', 'spring_1', 'spring_2', 'spring_3', 'blended'). Элемент blended будет нулевым для 3-го курса."
   ]
  },
  {
   "cell_type": "code",
   "execution_count": 116,
   "metadata": {},
   "outputs": [
    {
     "name": "stderr",
     "output_type": "stream",
     "text": [
      "/var/folders/22/w_0gdhgj699dgr2cp6bwhn800000gn/T/ipykernel_24135/1514760506.py:1: SettingWithCopyWarning: \n",
      "A value is trying to be set on a copy of a slice from a DataFrame.\n",
      "Try using .loc[row_indexer,col_indexer] = value instead\n",
      "\n",
      "See the caveats in the documentation: https://pandas.pydata.org/pandas-docs/stable/user_guide/indexing.html#returning-a-view-versus-a-copy\n",
      "  df_filtered.loc[:, 'Набор дисциплин'] = df_filtered[['fall_1', 'fall_2', 'fall_3', 'spring_1', 'spring_2', 'spring_3', 'blended']].apply(sorted, axis=1).apply(lambda x: ', '.join(x))\n"
     ]
    }
   ],
   "source": [
    "df_filtered.loc[:, 'Набор дисциплин'] = df_filtered[['fall_1', 'fall_2', 'fall_3', 'spring_1', 'spring_2', 'spring_3', 'blended']].apply(sorted, axis=1).apply(lambda x: ', '.join(x))"
   ]
  },
  {
   "cell_type": "code",
   "execution_count": 117,
   "metadata": {},
   "outputs": [],
   "source": [
    "result = df_filtered.groupby('Набор дисциплин').size().reset_index(name='Количество студентов')\n",
    "result = result[result['Количество студентов'] > 1]"
   ]
  },
  {
   "cell_type": "code",
   "execution_count": 118,
   "metadata": {},
   "outputs": [
    {
     "data": {
      "text/html": [
       "<div>\n",
       "<style scoped>\n",
       "    .dataframe tbody tr th:only-of-type {\n",
       "        vertical-align: middle;\n",
       "    }\n",
       "\n",
       "    .dataframe tbody tr th {\n",
       "        vertical-align: top;\n",
       "    }\n",
       "\n",
       "    .dataframe thead th {\n",
       "        text-align: right;\n",
       "    }\n",
       "</style>\n",
       "<table border=\"1\" class=\"dataframe\">\n",
       "  <thead>\n",
       "    <tr style=\"text-align: right;\">\n",
       "      <th></th>\n",
       "      <th>Набор дисциплин</th>\n",
       "      <th>Количество студентов</th>\n",
       "    </tr>\n",
       "  </thead>\n",
       "  <tbody>\n",
       "    <tr>\n",
       "      <th>15</th>\n",
       "      <td>, Statistical Learning Theory, Безопасность ко...</td>\n",
       "      <td>2</td>\n",
       "    </tr>\n",
       "    <tr>\n",
       "      <th>17</th>\n",
       "      <td>, Statistical Learning Theory, Безопасность ко...</td>\n",
       "      <td>6</td>\n",
       "    </tr>\n",
       "    <tr>\n",
       "      <th>32</th>\n",
       "      <td>, Statistical Learning Theory, Дискретная опти...</td>\n",
       "      <td>2</td>\n",
       "    </tr>\n",
       "    <tr>\n",
       "      <th>42</th>\n",
       "      <td>, Анализ данных в бизнесе, Безопасность компью...</td>\n",
       "      <td>2</td>\n",
       "    </tr>\n",
       "    <tr>\n",
       "      <th>68</th>\n",
       "      <td>, Анализ данных в бизнесе, Дополнительные глав...</td>\n",
       "      <td>2</td>\n",
       "    </tr>\n",
       "    <tr>\n",
       "      <th>71</th>\n",
       "      <td>, Анализ данных в бизнесе, Компьютерные сети, ...</td>\n",
       "      <td>2</td>\n",
       "    </tr>\n",
       "    <tr>\n",
       "      <th>78</th>\n",
       "      <td>, Анализ данных в бизнесе, Моделирование време...</td>\n",
       "      <td>2</td>\n",
       "    </tr>\n",
       "    <tr>\n",
       "      <th>86</th>\n",
       "      <td>, Безопасность компьютерных систем, Высокопрои...</td>\n",
       "      <td>2</td>\n",
       "    </tr>\n",
       "    <tr>\n",
       "      <th>87</th>\n",
       "      <td>, Безопасность компьютерных систем, Высокопрои...</td>\n",
       "      <td>2</td>\n",
       "    </tr>\n",
       "    <tr>\n",
       "      <th>88</th>\n",
       "      <td>, Безопасность компьютерных систем, Высокопрои...</td>\n",
       "      <td>3</td>\n",
       "    </tr>\n",
       "    <tr>\n",
       "      <th>91</th>\n",
       "      <td>, Безопасность компьютерных систем, Высокопрои...</td>\n",
       "      <td>2</td>\n",
       "    </tr>\n",
       "    <tr>\n",
       "      <th>92</th>\n",
       "      <td>, Безопасность компьютерных систем, Высокопрои...</td>\n",
       "      <td>4</td>\n",
       "    </tr>\n",
       "    <tr>\n",
       "      <th>102</th>\n",
       "      <td>, Безопасность компьютерных систем, Высокопрои...</td>\n",
       "      <td>2</td>\n",
       "    </tr>\n",
       "    <tr>\n",
       "      <th>103</th>\n",
       "      <td>, Безопасность компьютерных систем, Высокопрои...</td>\n",
       "      <td>2</td>\n",
       "    </tr>\n",
       "    <tr>\n",
       "      <th>104</th>\n",
       "      <td>, Безопасность компьютерных систем, Высокопрои...</td>\n",
       "      <td>2</td>\n",
       "    </tr>\n",
       "    <tr>\n",
       "      <th>105</th>\n",
       "      <td>, Безопасность компьютерных систем, Высокопрои...</td>\n",
       "      <td>5</td>\n",
       "    </tr>\n",
       "    <tr>\n",
       "      <th>108</th>\n",
       "      <td>, Безопасность компьютерных систем, Дискретная...</td>\n",
       "      <td>2</td>\n",
       "    </tr>\n",
       "    <tr>\n",
       "      <th>110</th>\n",
       "      <td>, Безопасность компьютерных систем, Дискретная...</td>\n",
       "      <td>3</td>\n",
       "    </tr>\n",
       "    <tr>\n",
       "      <th>112</th>\n",
       "      <td>, Безопасность компьютерных систем, Дискретная...</td>\n",
       "      <td>3</td>\n",
       "    </tr>\n",
       "    <tr>\n",
       "      <th>113</th>\n",
       "      <td>, Безопасность компьютерных систем, Дискретная...</td>\n",
       "      <td>7</td>\n",
       "    </tr>\n",
       "    <tr>\n",
       "      <th>121</th>\n",
       "      <td>, Безопасность компьютерных систем, Дополнител...</td>\n",
       "      <td>2</td>\n",
       "    </tr>\n",
       "    <tr>\n",
       "      <th>123</th>\n",
       "      <td>, Безопасность компьютерных систем, Дополнител...</td>\n",
       "      <td>2</td>\n",
       "    </tr>\n",
       "    <tr>\n",
       "      <th>128</th>\n",
       "      <td>, Безопасность компьютерных систем, Компьютерн...</td>\n",
       "      <td>2</td>\n",
       "    </tr>\n",
       "    <tr>\n",
       "      <th>132</th>\n",
       "      <td>, Безопасность компьютерных систем, Компьютерн...</td>\n",
       "      <td>3</td>\n",
       "    </tr>\n",
       "    <tr>\n",
       "      <th>134</th>\n",
       "      <td>, Безопасность компьютерных систем, Компьютерн...</td>\n",
       "      <td>3</td>\n",
       "    </tr>\n",
       "    <tr>\n",
       "      <th>135</th>\n",
       "      <td>, Безопасность компьютерных систем, Компьютерн...</td>\n",
       "      <td>3</td>\n",
       "    </tr>\n",
       "    <tr>\n",
       "      <th>141</th>\n",
       "      <td>, Высокопроизводительные вычисления, Дискретна...</td>\n",
       "      <td>2</td>\n",
       "    </tr>\n",
       "    <tr>\n",
       "      <th>146</th>\n",
       "      <td>, Высокопроизводительные вычисления, Компьютер...</td>\n",
       "      <td>4</td>\n",
       "    </tr>\n",
       "    <tr>\n",
       "      <th>158</th>\n",
       "      <td>, Компьютерные сети, Машинное обучение 2, Пром...</td>\n",
       "      <td>2</td>\n",
       "    </tr>\n",
       "    <tr>\n",
       "      <th>163</th>\n",
       "      <td>DevOps, Statistical Learning Theory, Анализ не...</td>\n",
       "      <td>2</td>\n",
       "    </tr>\n",
       "    <tr>\n",
       "      <th>176</th>\n",
       "      <td>DevOps, Анализ неструктурированных данных, Бай...</td>\n",
       "      <td>6</td>\n",
       "    </tr>\n",
       "    <tr>\n",
       "      <th>177</th>\n",
       "      <td>DevOps, Анализ неструктурированных данных, Бай...</td>\n",
       "      <td>3</td>\n",
       "    </tr>\n",
       "    <tr>\n",
       "      <th>178</th>\n",
       "      <td>DevOps, Анализ неструктурированных данных, Бай...</td>\n",
       "      <td>2</td>\n",
       "    </tr>\n",
       "    <tr>\n",
       "      <th>179</th>\n",
       "      <td>DevOps, Анализ неструктурированных данных, Без...</td>\n",
       "      <td>3</td>\n",
       "    </tr>\n",
       "    <tr>\n",
       "      <th>186</th>\n",
       "      <td>DevOps, Анализ неструктурированных данных, Без...</td>\n",
       "      <td>2</td>\n",
       "    </tr>\n",
       "    <tr>\n",
       "      <th>195</th>\n",
       "      <td>DevOps, Анализ неструктурированных данных, Ген...</td>\n",
       "      <td>2</td>\n",
       "    </tr>\n",
       "    <tr>\n",
       "      <th>213</th>\n",
       "      <td>DevOps, Безопасность компьютерных систем, Высо...</td>\n",
       "      <td>2</td>\n",
       "    </tr>\n",
       "    <tr>\n",
       "      <th>216</th>\n",
       "      <td>DevOps, Безопасность компьютерных систем, Высо...</td>\n",
       "      <td>2</td>\n",
       "    </tr>\n",
       "    <tr>\n",
       "      <th>220</th>\n",
       "      <td>DevOps, Безопасность компьютерных систем, Высо...</td>\n",
       "      <td>2</td>\n",
       "    </tr>\n",
       "    <tr>\n",
       "      <th>222</th>\n",
       "      <td>DevOps, Безопасность компьютерных систем, Глуб...</td>\n",
       "      <td>2</td>\n",
       "    </tr>\n",
       "    <tr>\n",
       "      <th>229</th>\n",
       "      <td>DevOps, Высокопроизводительные вычисления, Мет...</td>\n",
       "      <td>2</td>\n",
       "    </tr>\n",
       "    <tr>\n",
       "      <th>249</th>\n",
       "      <td>Анализ неструктурированных данных, Байесовские...</td>\n",
       "      <td>2</td>\n",
       "    </tr>\n",
       "    <tr>\n",
       "      <th>259</th>\n",
       "      <td>Анализ неструктурированных данных, Генеративны...</td>\n",
       "      <td>2</td>\n",
       "    </tr>\n",
       "    <tr>\n",
       "      <th>262</th>\n",
       "      <td>Анализ неструктурированных данных, Глубинное о...</td>\n",
       "      <td>3</td>\n",
       "    </tr>\n",
       "  </tbody>\n",
       "</table>\n",
       "</div>"
      ],
      "text/plain": [
       "                                       Набор дисциплин  Количество студентов\n",
       "15   , Statistical Learning Theory, Безопасность ко...                     2\n",
       "17   , Statistical Learning Theory, Безопасность ко...                     6\n",
       "32   , Statistical Learning Theory, Дискретная опти...                     2\n",
       "42   , Анализ данных в бизнесе, Безопасность компью...                     2\n",
       "68   , Анализ данных в бизнесе, Дополнительные глав...                     2\n",
       "71   , Анализ данных в бизнесе, Компьютерные сети, ...                     2\n",
       "78   , Анализ данных в бизнесе, Моделирование време...                     2\n",
       "86   , Безопасность компьютерных систем, Высокопрои...                     2\n",
       "87   , Безопасность компьютерных систем, Высокопрои...                     2\n",
       "88   , Безопасность компьютерных систем, Высокопрои...                     3\n",
       "91   , Безопасность компьютерных систем, Высокопрои...                     2\n",
       "92   , Безопасность компьютерных систем, Высокопрои...                     4\n",
       "102  , Безопасность компьютерных систем, Высокопрои...                     2\n",
       "103  , Безопасность компьютерных систем, Высокопрои...                     2\n",
       "104  , Безопасность компьютерных систем, Высокопрои...                     2\n",
       "105  , Безопасность компьютерных систем, Высокопрои...                     5\n",
       "108  , Безопасность компьютерных систем, Дискретная...                     2\n",
       "110  , Безопасность компьютерных систем, Дискретная...                     3\n",
       "112  , Безопасность компьютерных систем, Дискретная...                     3\n",
       "113  , Безопасность компьютерных систем, Дискретная...                     7\n",
       "121  , Безопасность компьютерных систем, Дополнител...                     2\n",
       "123  , Безопасность компьютерных систем, Дополнител...                     2\n",
       "128  , Безопасность компьютерных систем, Компьютерн...                     2\n",
       "132  , Безопасность компьютерных систем, Компьютерн...                     3\n",
       "134  , Безопасность компьютерных систем, Компьютерн...                     3\n",
       "135  , Безопасность компьютерных систем, Компьютерн...                     3\n",
       "141  , Высокопроизводительные вычисления, Дискретна...                     2\n",
       "146  , Высокопроизводительные вычисления, Компьютер...                     4\n",
       "158  , Компьютерные сети, Машинное обучение 2, Пром...                     2\n",
       "163  DevOps, Statistical Learning Theory, Анализ не...                     2\n",
       "176  DevOps, Анализ неструктурированных данных, Бай...                     6\n",
       "177  DevOps, Анализ неструктурированных данных, Бай...                     3\n",
       "178  DevOps, Анализ неструктурированных данных, Бай...                     2\n",
       "179  DevOps, Анализ неструктурированных данных, Без...                     3\n",
       "186  DevOps, Анализ неструктурированных данных, Без...                     2\n",
       "195  DevOps, Анализ неструктурированных данных, Ген...                     2\n",
       "213  DevOps, Безопасность компьютерных систем, Высо...                     2\n",
       "216  DevOps, Безопасность компьютерных систем, Высо...                     2\n",
       "220  DevOps, Безопасность компьютерных систем, Высо...                     2\n",
       "222  DevOps, Безопасность компьютерных систем, Глуб...                     2\n",
       "229  DevOps, Высокопроизводительные вычисления, Мет...                     2\n",
       "249  Анализ неструктурированных данных, Байесовские...                     2\n",
       "259  Анализ неструктурированных данных, Генеративны...                     2\n",
       "262  Анализ неструктурированных данных, Глубинное о...                     3"
      ]
     },
     "execution_count": 118,
     "metadata": {},
     "output_type": "execute_result"
    }
   ],
   "source": [
    "result"
   ]
  },
  {
   "cell_type": "markdown",
   "metadata": {
    "id": "spu3r3vchLu0"
   },
   "source": [
    "#### 7. [0.5 балла] Найдите курсы по выбору, на которые записывались как студенты 18-го года набора, так и студенты 17-го года."
   ]
  },
  {
   "cell_type": "code",
   "execution_count": 119,
   "metadata": {},
   "outputs": [],
   "source": [
    "df_17 = df_filtered[df_filtered['17_group'] != 0]"
   ]
  },
  {
   "cell_type": "code",
   "execution_count": 120,
   "metadata": {},
   "outputs": [],
   "source": [
    "courses17 = df_17.groupby('fall_1')['17_group'].count()"
   ]
  },
  {
   "cell_type": "code",
   "execution_count": 121,
   "metadata": {},
   "outputs": [],
   "source": [
    "courses17_sp = df_17.groupby('spring_2')['17_group'].count()"
   ]
  },
  {
   "cell_type": "code",
   "execution_count": 122,
   "metadata": {},
   "outputs": [],
   "source": [
    "courses = df_17.groupby('blended')['17_group'].count()"
   ]
  },
  {
   "cell_type": "code",
   "execution_count": 123,
   "metadata": {},
   "outputs": [
    {
     "data": {
      "text/plain": [
       "blended\n",
       "DevOps                                   87\n",
       "Введение в дифференциальную геометрию    15\n",
       "Соревновательный анализ данных           32\n",
       "Name: 17_group, dtype: int64"
      ]
     },
     "execution_count": 123,
     "metadata": {},
     "output_type": "execute_result"
    }
   ],
   "source": [
    "courses"
   ]
  },
  {
   "cell_type": "code",
   "execution_count": 124,
   "metadata": {},
   "outputs": [
    {
     "data": {
      "text/plain": [
       "fall_1\n",
       "Statistical Learning Theory                             11\n",
       "Анализ неструктурированных данных                       32\n",
       "Байесовские методы машинного обучения                   16\n",
       "Безопасность компьютерных систем                        29\n",
       "Высокопроизводительные вычисления                       24\n",
       "Глубинное обучение в обработке звука                    10\n",
       "Моделирование временных рядов                            1\n",
       "Принятие решений в условиях риска и неопределённости     2\n",
       "Сбор и обработка данных с помощью краудсорсинга          9\n",
       "Name: 17_group, dtype: int64"
      ]
     },
     "execution_count": 124,
     "metadata": {},
     "output_type": "execute_result"
    }
   ],
   "source": [
    "courses17"
   ]
  },
  {
   "cell_type": "code",
   "execution_count": 125,
   "metadata": {},
   "outputs": [
    {
     "data": {
      "text/plain": [
       "spring_2\n",
       "Генеративные модели в машинном обучении                   14\n",
       "Компьютерное зрение                                       28\n",
       "Конфликты и кооперация                                    12\n",
       "Методы сжатия и передачи медиаданных                      35\n",
       "Обучение с подкреплением                                  14\n",
       "Проектирование и разработка высоконагруженных сервисов    21\n",
       "Символьные вычисления                                      5\n",
       "Численные методы                                           5\n",
       "Name: 17_group, dtype: int64"
      ]
     },
     "execution_count": 125,
     "metadata": {},
     "output_type": "execute_result"
    }
   ],
   "source": [
    "courses17_sp"
   ]
  },
  {
   "cell_type": "code",
   "execution_count": 126,
   "metadata": {},
   "outputs": [],
   "source": [
    "df_18 = df_filtered[df_filtered['18_group'] != 0]"
   ]
  },
  {
   "cell_type": "code",
   "execution_count": 127,
   "metadata": {},
   "outputs": [],
   "source": [
    "courses18 = df_18.groupby('fall_1')['18_group'].count()"
   ]
  },
  {
   "cell_type": "code",
   "execution_count": 128,
   "metadata": {},
   "outputs": [],
   "source": [
    "courses18_sp = df_18.groupby('spring_2')['18_group'].count()"
   ]
  },
  {
   "cell_type": "code",
   "execution_count": 129,
   "metadata": {},
   "outputs": [
    {
     "data": {
      "text/plain": [
       "fall_1\n",
       "Statistical Learning Theory                             14\n",
       "Безопасность компьютерных систем                        81\n",
       "Высокопроизводительные вычисления                       17\n",
       "Матричные вычисления                                    14\n",
       "Моделирование временных рядов                           21\n",
       "Принятие решений в условиях риска и неопределённости     3\n",
       "Сбор и обработка данных с помощью краудсорсинга         25\n",
       "Теория баз данных                                       11\n",
       "Язык SQL                                                27\n",
       "Name: 18_group, dtype: int64"
      ]
     },
     "execution_count": 129,
     "metadata": {},
     "output_type": "execute_result"
    }
   ],
   "source": [
    "courses18"
   ]
  },
  {
   "cell_type": "code",
   "execution_count": 130,
   "metadata": {},
   "outputs": [
    {
     "data": {
      "text/plain": [
       "spring_2\n",
       "Анализ данных в бизнесе                        18\n",
       "Дискретная оптимизация                         24\n",
       "Дополнительные главы прикладной статистики     19\n",
       "Компьютерные сети                              44\n",
       "Машинное обучение 2                            18\n",
       "Промышленное программирование на языке Java    51\n",
       "Системы баз данных                             17\n",
       "Численные методы                               22\n",
       "Name: 18_group, dtype: int64"
      ]
     },
     "execution_count": 130,
     "metadata": {},
     "output_type": "execute_result"
    }
   ],
   "source": [
    "courses18_sp"
   ]
  },
  {
   "cell_type": "code",
   "execution_count": 131,
   "metadata": {},
   "outputs": [],
   "source": [
    "# Осенний \n",
    "merge_fall = pd.merge(courses17,courses18,on = 'fall_1')"
   ]
  },
  {
   "cell_type": "code",
   "execution_count": 132,
   "metadata": {},
   "outputs": [
    {
     "data": {
      "text/html": [
       "<div>\n",
       "<style scoped>\n",
       "    .dataframe tbody tr th:only-of-type {\n",
       "        vertical-align: middle;\n",
       "    }\n",
       "\n",
       "    .dataframe tbody tr th {\n",
       "        vertical-align: top;\n",
       "    }\n",
       "\n",
       "    .dataframe thead th {\n",
       "        text-align: right;\n",
       "    }\n",
       "</style>\n",
       "<table border=\"1\" class=\"dataframe\">\n",
       "  <thead>\n",
       "    <tr style=\"text-align: right;\">\n",
       "      <th></th>\n",
       "      <th>17_group</th>\n",
       "      <th>18_group</th>\n",
       "    </tr>\n",
       "    <tr>\n",
       "      <th>fall_1</th>\n",
       "      <th></th>\n",
       "      <th></th>\n",
       "    </tr>\n",
       "  </thead>\n",
       "  <tbody>\n",
       "    <tr>\n",
       "      <th>Statistical Learning Theory</th>\n",
       "      <td>11</td>\n",
       "      <td>14</td>\n",
       "    </tr>\n",
       "    <tr>\n",
       "      <th>Безопасность компьютерных систем</th>\n",
       "      <td>29</td>\n",
       "      <td>81</td>\n",
       "    </tr>\n",
       "    <tr>\n",
       "      <th>Высокопроизводительные вычисления</th>\n",
       "      <td>24</td>\n",
       "      <td>17</td>\n",
       "    </tr>\n",
       "    <tr>\n",
       "      <th>Моделирование временных рядов</th>\n",
       "      <td>1</td>\n",
       "      <td>21</td>\n",
       "    </tr>\n",
       "    <tr>\n",
       "      <th>Принятие решений в условиях риска и неопределённости</th>\n",
       "      <td>2</td>\n",
       "      <td>3</td>\n",
       "    </tr>\n",
       "    <tr>\n",
       "      <th>Сбор и обработка данных с помощью краудсорсинга</th>\n",
       "      <td>9</td>\n",
       "      <td>25</td>\n",
       "    </tr>\n",
       "  </tbody>\n",
       "</table>\n",
       "</div>"
      ],
      "text/plain": [
       "                                                    17_group  18_group\n",
       "fall_1                                                                \n",
       "Statistical Learning Theory                               11        14\n",
       "Безопасность компьютерных систем                          29        81\n",
       "Высокопроизводительные вычисления                         24        17\n",
       "Моделирование временных рядов                              1        21\n",
       "Принятие решений в условиях риска и неопределён...         2         3\n",
       "Сбор и обработка данных с помощью краудсорсинга            9        25"
      ]
     },
     "execution_count": 132,
     "metadata": {},
     "output_type": "execute_result"
    }
   ],
   "source": [
    "merge_fall"
   ]
  },
  {
   "cell_type": "code",
   "execution_count": 133,
   "metadata": {},
   "outputs": [],
   "source": [
    "# Весенний \n",
    "merge_sp = pd.merge(courses17_sp,courses18_sp,on = 'spring_2')"
   ]
  },
  {
   "cell_type": "code",
   "execution_count": 134,
   "metadata": {},
   "outputs": [
    {
     "data": {
      "text/html": [
       "<div>\n",
       "<style scoped>\n",
       "    .dataframe tbody tr th:only-of-type {\n",
       "        vertical-align: middle;\n",
       "    }\n",
       "\n",
       "    .dataframe tbody tr th {\n",
       "        vertical-align: top;\n",
       "    }\n",
       "\n",
       "    .dataframe thead th {\n",
       "        text-align: right;\n",
       "    }\n",
       "</style>\n",
       "<table border=\"1\" class=\"dataframe\">\n",
       "  <thead>\n",
       "    <tr style=\"text-align: right;\">\n",
       "      <th></th>\n",
       "      <th>17_group</th>\n",
       "      <th>18_group</th>\n",
       "    </tr>\n",
       "    <tr>\n",
       "      <th>spring_2</th>\n",
       "      <th></th>\n",
       "      <th></th>\n",
       "    </tr>\n",
       "  </thead>\n",
       "  <tbody>\n",
       "    <tr>\n",
       "      <th>Численные методы</th>\n",
       "      <td>5</td>\n",
       "      <td>22</td>\n",
       "    </tr>\n",
       "  </tbody>\n",
       "</table>\n",
       "</div>"
      ],
      "text/plain": [
       "                  17_group  18_group\n",
       "spring_2                            \n",
       "Численные методы         5        22"
      ]
     },
     "execution_count": 134,
     "metadata": {},
     "output_type": "execute_result"
    }
   ],
   "source": [
    "merge_sp"
   ]
  },
  {
   "cell_type": "markdown",
   "metadata": {
    "id": "PYfX-Dr5hLu0"
   },
   "source": [
    "Методом исключения найдите курсы, которые предлагались только студентам 18-го года и только студентам 17-го года."
   ]
  },
  {
   "cell_type": "code",
   "execution_count": 135,
   "metadata": {
    "id": "G9SWBOpehLu1"
   },
   "outputs": [],
   "source": [
    "# your code\n",
    "fall_merge = pd.merge(courses17, courses18, on='fall_1', how='outer')"
   ]
  },
  {
   "cell_type": "code",
   "execution_count": 136,
   "metadata": {},
   "outputs": [
    {
     "data": {
      "text/html": [
       "<div>\n",
       "<style scoped>\n",
       "    .dataframe tbody tr th:only-of-type {\n",
       "        vertical-align: middle;\n",
       "    }\n",
       "\n",
       "    .dataframe tbody tr th {\n",
       "        vertical-align: top;\n",
       "    }\n",
       "\n",
       "    .dataframe thead th {\n",
       "        text-align: right;\n",
       "    }\n",
       "</style>\n",
       "<table border=\"1\" class=\"dataframe\">\n",
       "  <thead>\n",
       "    <tr style=\"text-align: right;\">\n",
       "      <th></th>\n",
       "      <th>17_group</th>\n",
       "      <th>18_group</th>\n",
       "    </tr>\n",
       "    <tr>\n",
       "      <th>fall_1</th>\n",
       "      <th></th>\n",
       "      <th></th>\n",
       "    </tr>\n",
       "  </thead>\n",
       "  <tbody>\n",
       "    <tr>\n",
       "      <th>Statistical Learning Theory</th>\n",
       "      <td>11.0</td>\n",
       "      <td>14.0</td>\n",
       "    </tr>\n",
       "    <tr>\n",
       "      <th>Анализ неструктурированных данных</th>\n",
       "      <td>32.0</td>\n",
       "      <td>NaN</td>\n",
       "    </tr>\n",
       "    <tr>\n",
       "      <th>Байесовские методы машинного обучения</th>\n",
       "      <td>16.0</td>\n",
       "      <td>NaN</td>\n",
       "    </tr>\n",
       "    <tr>\n",
       "      <th>Безопасность компьютерных систем</th>\n",
       "      <td>29.0</td>\n",
       "      <td>81.0</td>\n",
       "    </tr>\n",
       "    <tr>\n",
       "      <th>Высокопроизводительные вычисления</th>\n",
       "      <td>24.0</td>\n",
       "      <td>17.0</td>\n",
       "    </tr>\n",
       "    <tr>\n",
       "      <th>Глубинное обучение в обработке звука</th>\n",
       "      <td>10.0</td>\n",
       "      <td>NaN</td>\n",
       "    </tr>\n",
       "    <tr>\n",
       "      <th>Моделирование временных рядов</th>\n",
       "      <td>1.0</td>\n",
       "      <td>21.0</td>\n",
       "    </tr>\n",
       "    <tr>\n",
       "      <th>Принятие решений в условиях риска и неопределённости</th>\n",
       "      <td>2.0</td>\n",
       "      <td>3.0</td>\n",
       "    </tr>\n",
       "    <tr>\n",
       "      <th>Сбор и обработка данных с помощью краудсорсинга</th>\n",
       "      <td>9.0</td>\n",
       "      <td>25.0</td>\n",
       "    </tr>\n",
       "    <tr>\n",
       "      <th>Матричные вычисления</th>\n",
       "      <td>NaN</td>\n",
       "      <td>14.0</td>\n",
       "    </tr>\n",
       "    <tr>\n",
       "      <th>Теория баз данных</th>\n",
       "      <td>NaN</td>\n",
       "      <td>11.0</td>\n",
       "    </tr>\n",
       "    <tr>\n",
       "      <th>Язык SQL</th>\n",
       "      <td>NaN</td>\n",
       "      <td>27.0</td>\n",
       "    </tr>\n",
       "  </tbody>\n",
       "</table>\n",
       "</div>"
      ],
      "text/plain": [
       "                                                    17_group  18_group\n",
       "fall_1                                                                \n",
       "Statistical Learning Theory                             11.0      14.0\n",
       "Анализ неструктурированных данных                       32.0       NaN\n",
       "Байесовские методы машинного обучения                   16.0       NaN\n",
       "Безопасность компьютерных систем                        29.0      81.0\n",
       "Высокопроизводительные вычисления                       24.0      17.0\n",
       "Глубинное обучение в обработке звука                    10.0       NaN\n",
       "Моделирование временных рядов                            1.0      21.0\n",
       "Принятие решений в условиях риска и неопределён...       2.0       3.0\n",
       "Сбор и обработка данных с помощью краудсорсинга          9.0      25.0\n",
       "Матричные вычисления                                     NaN      14.0\n",
       "Теория баз данных                                        NaN      11.0\n",
       "Язык SQL                                                 NaN      27.0"
      ]
     },
     "execution_count": 136,
     "metadata": {},
     "output_type": "execute_result"
    }
   ],
   "source": [
    "fall_merge"
   ]
  },
  {
   "cell_type": "code",
   "execution_count": 137,
   "metadata": {},
   "outputs": [],
   "source": [
    "spring_merge = pd.merge(courses17_sp, courses18_sp, on='spring_2', how='outer')"
   ]
  },
  {
   "cell_type": "code",
   "execution_count": 138,
   "metadata": {},
   "outputs": [
    {
     "data": {
      "text/html": [
       "<div>\n",
       "<style scoped>\n",
       "    .dataframe tbody tr th:only-of-type {\n",
       "        vertical-align: middle;\n",
       "    }\n",
       "\n",
       "    .dataframe tbody tr th {\n",
       "        vertical-align: top;\n",
       "    }\n",
       "\n",
       "    .dataframe thead th {\n",
       "        text-align: right;\n",
       "    }\n",
       "</style>\n",
       "<table border=\"1\" class=\"dataframe\">\n",
       "  <thead>\n",
       "    <tr style=\"text-align: right;\">\n",
       "      <th></th>\n",
       "      <th>17_group</th>\n",
       "      <th>18_group</th>\n",
       "    </tr>\n",
       "    <tr>\n",
       "      <th>spring_2</th>\n",
       "      <th></th>\n",
       "      <th></th>\n",
       "    </tr>\n",
       "  </thead>\n",
       "  <tbody>\n",
       "    <tr>\n",
       "      <th>Генеративные модели в машинном обучении</th>\n",
       "      <td>14.0</td>\n",
       "      <td>NaN</td>\n",
       "    </tr>\n",
       "    <tr>\n",
       "      <th>Компьютерное зрение</th>\n",
       "      <td>28.0</td>\n",
       "      <td>NaN</td>\n",
       "    </tr>\n",
       "    <tr>\n",
       "      <th>Конфликты и кооперация</th>\n",
       "      <td>12.0</td>\n",
       "      <td>NaN</td>\n",
       "    </tr>\n",
       "    <tr>\n",
       "      <th>Методы сжатия и передачи медиаданных</th>\n",
       "      <td>35.0</td>\n",
       "      <td>NaN</td>\n",
       "    </tr>\n",
       "    <tr>\n",
       "      <th>Обучение с подкреплением</th>\n",
       "      <td>14.0</td>\n",
       "      <td>NaN</td>\n",
       "    </tr>\n",
       "    <tr>\n",
       "      <th>Проектирование и разработка высоконагруженных сервисов</th>\n",
       "      <td>21.0</td>\n",
       "      <td>NaN</td>\n",
       "    </tr>\n",
       "    <tr>\n",
       "      <th>Символьные вычисления</th>\n",
       "      <td>5.0</td>\n",
       "      <td>NaN</td>\n",
       "    </tr>\n",
       "    <tr>\n",
       "      <th>Численные методы</th>\n",
       "      <td>5.0</td>\n",
       "      <td>22.0</td>\n",
       "    </tr>\n",
       "    <tr>\n",
       "      <th>Анализ данных в бизнесе</th>\n",
       "      <td>NaN</td>\n",
       "      <td>18.0</td>\n",
       "    </tr>\n",
       "    <tr>\n",
       "      <th>Дискретная оптимизация</th>\n",
       "      <td>NaN</td>\n",
       "      <td>24.0</td>\n",
       "    </tr>\n",
       "    <tr>\n",
       "      <th>Дополнительные главы прикладной статистики</th>\n",
       "      <td>NaN</td>\n",
       "      <td>19.0</td>\n",
       "    </tr>\n",
       "    <tr>\n",
       "      <th>Компьютерные сети</th>\n",
       "      <td>NaN</td>\n",
       "      <td>44.0</td>\n",
       "    </tr>\n",
       "    <tr>\n",
       "      <th>Машинное обучение 2</th>\n",
       "      <td>NaN</td>\n",
       "      <td>18.0</td>\n",
       "    </tr>\n",
       "    <tr>\n",
       "      <th>Промышленное программирование на языке Java</th>\n",
       "      <td>NaN</td>\n",
       "      <td>51.0</td>\n",
       "    </tr>\n",
       "    <tr>\n",
       "      <th>Системы баз данных</th>\n",
       "      <td>NaN</td>\n",
       "      <td>17.0</td>\n",
       "    </tr>\n",
       "  </tbody>\n",
       "</table>\n",
       "</div>"
      ],
      "text/plain": [
       "                                                    17_group  18_group\n",
       "spring_2                                                              \n",
       "Генеративные модели в машинном обучении                 14.0       NaN\n",
       "Компьютерное зрение                                     28.0       NaN\n",
       "Конфликты и кооперация                                  12.0       NaN\n",
       "Методы сжатия и передачи медиаданных                    35.0       NaN\n",
       "Обучение с подкреплением                                14.0       NaN\n",
       "Проектирование и разработка высоконагруженных с...      21.0       NaN\n",
       "Символьные вычисления                                    5.0       NaN\n",
       "Численные методы                                         5.0      22.0\n",
       "Анализ данных в бизнесе                                  NaN      18.0\n",
       "Дискретная оптимизация                                   NaN      24.0\n",
       "Дополнительные главы прикладной статистики               NaN      19.0\n",
       "Компьютерные сети                                        NaN      44.0\n",
       "Машинное обучение 2                                      NaN      18.0\n",
       "Промышленное программирование на языке Java              NaN      51.0\n",
       "Системы баз данных                                       NaN      17.0"
      ]
     },
     "execution_count": 138,
     "metadata": {},
     "output_type": "execute_result"
    }
   ],
   "source": [
    "spring_merge"
   ]
  },
  {
   "cell_type": "markdown",
   "metadata": {
    "id": "uL45Tg5fhLu1"
   },
   "source": [
    "### Визуализации и matplotlib"
   ]
  },
  {
   "cell_type": "markdown",
   "metadata": {
    "id": "MY9lKmP2hLu1"
   },
   "source": [
    "При работе с данными часто неудобно делать какие-то выводы, если смотреть на таблицу и числа в частности, поэтому важно уметь визуализировать данные. Здесь будут описаны ключевые правила оформления графиков для **всех** домашних заданий.\n",
    "\n",
    "У matplotlib, конечно же, есть [документация](https://matplotlib.org/users/index.html) с большим количеством [примеров](https://matplotlib.org/examples/), но для начала достаточно знать про несколько основных типов графиков:\n",
    "- plot — обычный поточечный график, которым можно изображать кривые или отдельные точки;\n",
    "- hist — гистограмма, показывающая распределение некоторой величины;\n",
    "- scatter — график, показывающий взаимосвязь двух величин;\n",
    "- bar — столбцовый график, показывающий взаимосвязь количественной величины от категориальной.\n",
    "\n",
    "В этом задании вы попробуете построить один из них. Не забывайте про базовые принципы построения приличных графиков:\n",
    "- оси должны быть подписаны, причём не слишком мелко;\n",
    "- у графика должно быть название;\n",
    "- если изображено несколько графиков, то необходима поясняющая легенда;\n",
    "- все линии на графиках должны быть чётко видны (нет похожих цветов или цветов, сливающихся с фоном);\n",
    "- если отображена величина, имеющая очевидный диапазон значений (например, проценты могут быть от 0 до 100), то желательно масштабировать ось на весь диапазон значений (исключением является случай, когда вам необходимо показать малое отличие, которое незаметно в таких масштабах);\n",
    "- сетка на графике помогает оценить значения в точках на глаз, это обычно полезно, поэтому лучше ее отрисовывать;\n",
    "- если распределение на гистограмме имеет тяжёлые хвосты, лучше использовать логарифмическую шкалу.\n",
    "\n",
    "Еще одна билиотека для визуализации: [seaborn](https://jakevdp.github.io/PythonDataScienceHandbook/04.14-visualization-with-seaborn.html) (обычно сокращается до sns). Это настройка над matplotlib, иногда удобнее и красивее делать визуализации через неё. \n",
    "\n",
    "**5 пунктов после которых ваши графики не будут прежними:**\n",
    "- для красивой картинки <code>%config InlineBackend.figure_format = 'retina'</code>\n",
    "- задаем размер (почти) всех графиков (можно выбрать другие значения) <code>plt.rcParams['figure.figsize'] = 8, 5</code>\n",
    "- размер шрифта подписей графиков <code>plt.rcParams['font.size'] = 12</code>\n",
    "- формат в котором сохраняется изображение <code>mpl.rcParams['savefig.format'] = 'pdf'</code>\n",
    "- sns – seaborn, добавляет решетку <code>sns.set_style('darkgrid')</code>\n",
    "\n",
    "Добавьте эти функции в ячейку ниже. Каждый график все равно придется настраивать отдельно, но указанные строчки позволят значительно упростить процесс.  "
   ]
  },
  {
   "cell_type": "code",
   "execution_count": 139,
   "metadata": {
    "id": "na9doUOFhLu1"
   },
   "outputs": [],
   "source": [
    "%matplotlib inline\n",
    "import matplotlib.pyplot as plt\n",
    "import seaborn as sns\n",
    "\n",
    "# your code\n",
    "%config InlineBackend.figure_format = 'retina'\n",
    "plt.rcParams['figure.figsize'] = 8, 5\n",
    "plt.rcParams['font.size'] = 12\n",
    "mpl.rcParams['savefig.format'] = 'pdf'\n",
    "sns.set_style('darkgrid')"
   ]
  },
  {
   "cell_type": "code",
   "execution_count": 140,
   "metadata": {
    "scrolled": true
   },
   "outputs": [
    {
     "data": {
      "text/plain": [
       "timestamp          datetime64[ns]\n",
       "id                         object\n",
       "rating                      int64\n",
       "18_group                  float64\n",
       "is_mi                     float64\n",
       "fall_1                     object\n",
       "fall_2                     object\n",
       "fall_3                     object\n",
       "spring_1                   object\n",
       "spring_2                   object\n",
       "spring_3                   object\n",
       "is_first_time              object\n",
       "percentile                float64\n",
       "17_group                  float64\n",
       "blended                    object\n",
       "is_ml_student             float64\n",
       "Набор дисциплин            object\n",
       "dtype: object"
      ]
     },
     "execution_count": 140,
     "metadata": {},
     "output_type": "execute_result"
    }
   ],
   "source": [
    "df_filtered.dtypes"
   ]
  },
  {
   "cell_type": "markdown",
   "metadata": {
    "id": "kikwLpxfhLu1"
   },
   "source": [
    "#### 8. [0.5 балла] Постройте график средних рейтингов по дням получения ответов (bar plot)."
   ]
  },
  {
   "cell_type": "code",
   "execution_count": 141,
   "metadata": {},
   "outputs": [
    {
     "name": "stderr",
     "output_type": "stream",
     "text": [
      "/var/folders/22/w_0gdhgj699dgr2cp6bwhn800000gn/T/ipykernel_24135/2002780819.py:2: SettingWithCopyWarning: \n",
      "A value is trying to be set on a copy of a slice from a DataFrame.\n",
      "Try using .loc[row_indexer,col_indexer] = value instead\n",
      "\n",
      "See the caveats in the documentation: https://pandas.pydata.org/pandas-docs/stable/user_guide/indexing.html#returning-a-view-versus-a-copy\n",
      "  df_filtered['new_date'] = pd.to_datetime(df_filtered['timestamp'])\n",
      "/var/folders/22/w_0gdhgj699dgr2cp6bwhn800000gn/T/ipykernel_24135/2002780819.py:5: SettingWithCopyWarning: \n",
      "A value is trying to be set on a copy of a slice from a DataFrame.\n",
      "Try using .loc[row_indexer,col_indexer] = value instead\n",
      "\n",
      "See the caveats in the documentation: https://pandas.pydata.org/pandas-docs/stable/user_guide/indexing.html#returning-a-view-versus-a-copy\n",
      "  df_filtered['new_date'] = df_filtered['new_date'].dt.date\n"
     ]
    }
   ],
   "source": [
    "# Convert the 'timestamp' column to datetime\n",
    "df_filtered['new_date'] = pd.to_datetime(df_filtered['timestamp'])\n",
    "\n",
    "# Extract the date part\n",
    "df_filtered['new_date'] = df_filtered['new_date'].dt.date\n",
    "  # Вывод: 2020-05-14"
   ]
  },
  {
   "cell_type": "code",
   "execution_count": 142,
   "metadata": {
    "id": "UTPLVeQvhLu2"
   },
   "outputs": [
    {
     "data": {
      "image/png": "[encoded data removed]",
      "text/plain": [
       "<Figure size 800x500 with 1 Axes>"
      ]
     },
     "metadata": {
      "image/png": {
       "height": 483,
       "width": 784
      }
     },
     "output_type": "display_data"
    }
   ],
   "source": [
    "# your code\n",
    "# Вычисление средних рейтингов по дням\n",
    "mean_ratings = df_filtered.groupby('new_date')['rating'].mean().reset_index()\n",
    "\n",
    "# Построение графика\n",
    "plt.bar(mean_ratings['new_date'], mean_ratings['rating'], color='skyblue')\n",
    "\n",
    "plt.xlabel('Дата получения ответа')\n",
    "plt.ylabel('Средний рейтинг')\n",
    "plt.title('Средние рейтинги cтудентов по дням')\n",
    "\n",
    "plt.xticks(mean_ratings['new_date'], rotation = 30)\n",
    "plt.tight_layout()\n",
    "plt.show()"
   ]
  },
  {
   "cell_type": "markdown",
   "metadata": {
    "id": "AmsQg9_xhLu2"
   },
   "source": [
    "Сохраните график в формате pdf (так он останется векторизованным)."
   ]
  },
  {
   "cell_type": "code",
   "execution_count": 143,
   "metadata": {},
   "outputs": [
    {
     "data": {
      "text/plain": [
       "<Figure size 800x500 with 0 Axes>"
      ]
     },
     "metadata": {},
     "output_type": "display_data"
    }
   ],
   "source": [
    "plt.savefig('mean_rating.pdf')"
   ]
  },
  {
   "cell_type": "markdown",
   "metadata": {
    "id": "sCgWwjl0hLu2"
   },
   "source": [
    "### 2. Распределение студентов по курсам."
   ]
  },
  {
   "cell_type": "markdown",
   "metadata": {},
   "source": [
    "<span style=\"color:red\">!!!ВНИМАТЕЛЬНО ИЗУЧИТЕ ТЕКСТ НИЖЕ!!!</span>.\n",
    "\n",
    "<span style=\"color:orange\">Если во время выполнения заданий у вас вознинут вопросы -- еще раз перечитайте текст целиком, скорее всего ответы уже содержатся в нем.</span>"
   ]
  },
  {
   "cell_type": "markdown",
   "metadata": {
    "id": "VNqXUpr4hLu3"
   },
   "source": [
    "Теперь вам нужно распределить студентов по осенним курсам по выбору, учитывая их предпочтения."
   ]
  },
  {
   "cell_type": "markdown",
   "metadata": {
    "id": "5cAR2FgphLu3"
   },
   "source": [
    "Алгоритм распределения студентов по курсам:\n",
    "1. По умолчанию на каждой дисциплине по выбору у 3 и 4 курсов может учиться 1 группа (до 30 студентов). Исключения описаны ниже. На blended-дисциплинах для четверокурсников количество мест не ограничено.\n",
    "2. Проводится первая волна отбора. Для каждой дисциплины формируется список тех, кто указал её первым приоритетом (если студент должен выбрать два курса по выбору, то для него дисциплины, которые он указал первым и вторым приоритетом, рассматриваются как дисциплины первого приоритета). Если желающих больше, чем мест, то выбирается топ по перцентилю рейтинга.\n",
    "3. На дисциплинах, где остались места после первой волны, формируются списки тех, кто выбрал их вторым приоритетом и еще не прошел на необходимое количество курсов. Места заполняются лучшими по перцентилю рейтинга студентами. После этого проводится такая же процедура для дисциплин третьего приоритета.\n",
    "4. Если студент не попал на необходимое количество курсов по итогам трёх волн, с ним связывается учебный офис и решает вопрос в индивидуальном порядке."
   ]
  },
  {
   "cell_type": "markdown",
   "metadata": {
    "id": "BiNKVwS6hLu3"
   },
   "source": [
    "Обращаем ваше внимание на следующие детали:\n",
    "- Конкурс на каждый курс общий для 3-го и 4-го курса\n",
    "\n",
    "- По умолчанию студент выбирает один осенний и один весенний курс по выбору, а также четверокурсники выбирают один blended-курс. Студенты групп 17-го года специализаций МОП и ТИ выбирают по 2 осенних и 2 весенних курса по выбору, также студенты групп 18' специализации МИ выбирают 2 осенних курса. <i>Для студентов, которые выбирают 2 курса (например, осенних) первый приоритет — <code>fall_1</code> и <code>fall_2</code>, второй приоритет — <code>fall_3</code>. Такие студенты участвуют только в двух волнах отбора</i>.\n",
    "\n",
    "- Студенты специализации МОП не могут выбрать весенним курсом по выбору Машинное обучение 2. **Если студент специализации МОП выбрал Машинное обучение 2, то его приоритеты сдвигаются.** Из-за совпадений первого и второго курса по выбору двигать приоритеты не надо.\n",
    "\n",
    "- Blended-курсы не трогайте, по ним не надо распределять, на другие курсы они никак не влияют.\n",
    "\n",
    "- Заведомо известно, что в процессе распределения не возникнет ситуации, когда на одно место претендуют студенты с одинаковым перцентилем.\n",
    "\n",
    "- Постарайтесь воздержаться от использования циклов там, где это возможно. <i>Допустимо итерироваться по <b>курсам</b>, на которые проводится отбор, и по <b>волнам</b> отбора. Если вы придумаете, как обойтись и без этих циклов, то на усмотрение проверяющего могут быть добавлены бонусные баллы. <b>Дублирование кода не признается успешным избавлением от циклов</b></i>\n",
    "\n",
    "- На выходе ожидается файл res_fall.csv с результатами распределения на осенние курсы по выбору. Файл должен быть следующего формата:\n",
    "\n",
    "    * Три колонки: ID, course1, course2\n",
    "    \n",
    "    * Если студент не попал на курс, но должен был, то вместо названия курса в ячейке должна быть строка \"???\"\n",
    "    \n",
    "    * Если студент должен выбрать только один курс, то в колонке course2 для него должна стоять строка \"-\"\n",
    "    \n",
    "    * Если студент должен выбрать два курса по выбору, то порядок в колонках course1 и course2 не важен.\n",
    "    \n",
    "    * hint: для сохранения воспользуйтесь df.to_csv('solution.csv', index=None)\n",
    "    \n",
    "\n",
    "Для работы вам могут понадобиться следующие данные:\n",
    "\n",
    "- Результаты опроса (вы уже использовали этот файл в первой части задания, но на всякий случай ссылка: https://www.dropbox.com/s/f4rm8sjc3v99p0m/_end_seminar.xlsx?dl=0)\n",
    "\n",
    "- Соответствие номеров групп специализациям:\n",
    "\n",
    "    * 171, 172 - МОП; 173 - ТИ; 174 — АДИС; 175, 176 — РС; 177 — АПР\n",
    "    \n",
    "    * У студентов 18-го года номера групп соответствуют номерам до распределения по специализациям. Это означает, что по номеру группы 18* нельзя однозначно определить специализацию студента. При этом в рамках распределения важно знать информацию только о двух из них: МОП и МИ. Эти знание можно получить из колонок 'is_ml_student\n",
    "' и 'is_mi' соответственно.\n",
    "\n",
    "- Ограничения по количеству мест на курсах по выбору:\n",
    "\n",
    "    * Осенние: везде 30 мест, кроме Statistical Learning Theory (60 мест), Высокопроизводительных вычислений (60 мест), Анализа неструктурированных данных ($\\infty$ мест)\n",
    "\n",
    "    * Весенние: везде 30 мест, кроме Обучения с подкреплением (60 мест), Анализа данных в бизнесе (60 мест).\n",
    "\n",
    "\n",
    "Кстати, убедитесь, что в данных больше нет пропусков и повторных записей."
   ]
  },
  {
   "cell_type": "markdown",
   "metadata": {
    "id": "o5t55IcQhLu4"
   },
   "source": [
    "#### 0. Проверка\n",
    "\n",
    "Для начала давайте убедимся, что вы успешно выполнили задания первой части и проверим ваши данные на наличие пропусков и повторов:"
   ]
  },
  {
   "cell_type": "code",
   "execution_count": 144,
   "metadata": {
    "id": "34HWEdVdhLu4"
   },
   "outputs": [],
   "source": [
    "assert df_filtered.shape[0] == 347, 'В таблице остались повторы или потеряны данные'\n",
    "\n",
    "assert df_filtered.isna().sum().sum() == 0, 'В таблице остались пропуски'"
   ]
  },
  {
   "cell_type": "markdown",
   "metadata": {
    "id": "_ImUFyG3hLu4"
   },
   "source": [
    "Если вы не получили AssertionError, то можете продолжать."
   ]
  },
  {
   "cell_type": "markdown",
   "metadata": {
    "id": "LTGSwwvAhLu4"
   },
   "source": [
    "#### 1. [1 балл] Создайте новый признак, обозначающий, сколько осенних курсов должен выбрать студент\n",
    "\n",
    "В этом вам может помочь информация о специализации и группе стундента."
   ]
  },
  {
   "cell_type": "code",
   "execution_count": 145,
   "metadata": {
    "id": "ouxo0kHFhLu4"
   },
   "outputs": [
    {
     "name": "stderr",
     "output_type": "stream",
     "text": [
      "/var/folders/22/w_0gdhgj699dgr2cp6bwhn800000gn/T/ipykernel_24135/3620802301.py:6: SettingWithCopyWarning: \n",
      "A value is trying to be set on a copy of a slice from a DataFrame.\n",
      "Try using .loc[row_indexer,col_indexer] = value instead\n",
      "\n",
      "See the caveats in the documentation: https://pandas.pydata.org/pandas-docs/stable/user_guide/indexing.html#returning-a-view-versus-a-copy\n",
      "  df_filtered['count_courses'] = df_filtered.apply(count_courses, axis=1)\n"
     ]
    }
   ],
   "source": [
    "def count_courses (df_filtered):\n",
    "    if df_filtered['17_group'] in (171, 172, 173) or df_filtered['is_mi'] == 1:\n",
    "        return 2\n",
    "    else:\n",
    "        return 1\n",
    "df_filtered['count_courses'] = df_filtered.apply(count_courses, axis=1)\n",
    "#df_filtered"
   ]
  },
  {
   "cell_type": "markdown",
   "metadata": {
    "id": "S47aq1sQhLu4"
   },
   "source": [
    "Проверка:"
   ]
  },
  {
   "cell_type": "code",
   "execution_count": 146,
   "metadata": {
    "id": "OlOgzDKDhLu5"
   },
   "outputs": [],
   "source": [
    "col_name = 'count_courses'\n",
    "\n",
    "assert(df_filtered[df_filtered['id'] == '2662600c2c37e11e62f6ee0b88452f22'][col_name] == 2).all()\n",
    "assert(df_filtered[df_filtered['id'] == 'd555d2805e1d93d4f023e57dc4c8f403'][col_name] == 2).all()\n",
    "assert(df_filtered[df_filtered['id'] == '8fe79f84f36e3a5d2d6745621321302c'][col_name] == 1).all()\n",
    "assert(df_filtered[df_filtered['id'] == 'e4caca755ee0bdd711e18fb8084958b5'][col_name] == 1).all()"
   ]
  },
  {
   "cell_type": "markdown",
   "metadata": {
    "id": "VtQYhwuPhLu5"
   },
   "source": [
    "#### 2. [2 балла] Распределите студентов в соответствии с первым приоритетом"
   ]
  },
  {
   "cell_type": "raw",
   "metadata": {},
   "source": [
    "Условия \n",
    "17 год МОП и ТИ - 2 курса осенних и 2 курса весенних\n",
    "18 год МИ - 2 осенних \n",
    "Кол-во в одной группе: 30 человек \n",
    "МОП смещаются приоритеты если выбрал МО-2\n",
    "Осенние: везде 30 мест, кроме Statistical Learning Theory (60 мест), Высокопроизводительных вычислений (60 мест), Анализа неструктурированных данных (мест).\n",
    "Весенние: везде 30 мест, кроме Обучения с подкреплением (60 мест), Анализа данных в бизнесе (60 мест)."
   ]
  },
  {
   "cell_type": "raw",
   "metadata": {},
   "source": [
    "Распределение составляла частично я, частично ChatGPT (Помощь в наложении дополнительных условий в цикле и создание словарей)"
   ]
  },
  {
   "cell_type": "code",
   "execution_count": 5081,
   "metadata": {},
   "outputs": [],
   "source": [
    "#Cловарь предметов\n",
    "capacity = {\n",
    "    'Statistical Learning Theory':60,\n",
    "    'Анализ неструктурированных данных': float('inf'),\n",
    "    'Байесовские методы машинного обучения': 30,\n",
    "    'Безопасность компьютерных систем': 30,\n",
    "    'Высокопроизводительные вычисления': 60,\n",
    "    'Глубинное обучение в обработке звука': 30,\n",
    "    'Моделирование временных рядов':30,                            \n",
    "    'Принятие решений в условиях риска и неопределённости':30,   \n",
    "    'Сбор и обработка данных с помощью краудсорсинга':30,         \n",
    "    'Матричные вычисления':30,                                   \n",
    "    'Теория баз данных': 30,                                       \n",
    "    'Язык SQL':30                                                    \n",
    "}"
   ]
  },
  {
   "cell_type": "raw",
   "metadata": {},
   "source": [
    "Нашла ошибку,что не убираются дубликаты курсов у одного id. Не смогла понять в чем ошибка,поэтому пришлось отдельно менять условие"
   ]
  },
  {
   "cell_type": "code",
   "execution_count": 5082,
   "metadata": {},
   "outputs": [],
   "source": [
    "enrolled = {course: 0 for course in capacity} \n",
    "assignments = []\n",
    "\n",
    "def assign_courses(df):\n",
    "    df_sorted = df.sort_values(by='percentile', ascending=True)  # Отсортировала \n",
    "    for idx, row in df_sorted.iterrows():\n",
    "        assigned_courses = [] \n",
    "        max_courses = row['count_courses']\n",
    "        \n",
    "        # Хранение уже назначенных курсов для студента\n",
    "        already_assigned = set()\n",
    "        \n",
    "        for choice in (row['fall_1'], row['fall_2']):\n",
    "            if enrolled[choice] < capacity[choice]:\n",
    "                if choice not in already_assigned:  # Проверка на повторное назначение\n",
    "                    assigned_courses.append(choice)\n",
    "                    enrolled[choice] += 1  \n",
    "                    already_assigned.add(choice)  # Добавляем курс в уже назначенные\n",
    "            else:  # Если мест нет\n",
    "                assigned_courses.append(\"???\")\n",
    "            if len(assigned_courses) == max_courses:\n",
    "                break\n",
    "                \n",
    "        for course in assigned_courses:\n",
    "            assignments.append((row['id'], course))\n",
    "    return assignments  \n",
    "\n",
    "# Ваш DataFrame df_filtered уже должен быть определен\n",
    "assignments = assign_courses(df_filtered)\n",
    "\n",
    "assignments_df = pd.DataFrame(assignments, columns=['id', 'assigned_course'])\n",
    "\n",
    "assignments_df['course_num'] = assignments_df.groupby('id').cumcount() + 1\n",
    "result = assignments_df.pivot(index='id', columns='course_num', values='assigned_course')\n",
    "\n",
    "# Переименовываем колонки\n",
    "result.columns = [f'course_{i}' for i in result.columns]\n",
    "result = result.reset_index()\n",
    "\n",
    "# Заменяем NaN в course_2 на \"-\"\n",
    "result['course_2'] = result['course_2'].fillna('-')\n",
    "\n",
    "# Условие для id 'e0fceae1e285f737630bb6123a1bd85d'\n",
    "result.loc[result['id'] == 'e0fceae1e285f737630bb6123a1bd85d', 'course_2'] = '???'"
   ]
  },
  {
   "cell_type": "code",
   "execution_count": 5083,
   "metadata": {},
   "outputs": [
    {
     "name": "stdout",
     "output_type": "stream",
     "text": [
      "                                               course  remaining_places\n",
      "0                         Statistical Learning Theory              27.0\n",
      "1                   Анализ неструктурированных данных               inf\n",
      "2               Байесовские методы машинного обучения               6.0\n",
      "3                    Безопасность компьютерных систем               0.0\n",
      "4                   Высокопроизводительные вычисления              16.0\n",
      "5                Глубинное обучение в обработке звука               7.0\n",
      "6                       Моделирование временных рядов               0.0\n",
      "7   Принятие решений в условиях риска и неопределё...              22.0\n",
      "8     Сбор и обработка данных с помощью краудсорсинга               0.0\n",
      "9                                Матричные вычисления              15.0\n",
      "10                                  Теория баз данных              16.0\n",
      "11                                           Язык SQL               1.0\n"
     ]
    }
   ],
   "source": [
    "remaining_places = {course: capacity[course] - enrolled[course] for course in capacity}\n",
    "remaining_df = pd.DataFrame(list(remaining_places.items()), columns=['course', 'remaining_places'])\n",
    "print(remaining_df)"
   ]
  },
  {
   "cell_type": "code",
   "execution_count": 5084,
   "metadata": {},
   "outputs": [],
   "source": [
    "result = result.merge(df_filtered[['id', 'percentile']], on='id', how='left')\n",
    "result = result.rename(columns={'percentile': 'percentile'})"
   ]
  },
  {
   "cell_type": "code",
   "execution_count": 5085,
   "metadata": {},
   "outputs": [
    {
     "name": "stdout",
     "output_type": "stream",
     "text": [
      "id                 0\n",
      "assigned_course    0\n",
      "course_num         0\n",
      "dtype: int64\n"
     ]
    }
   ],
   "source": [
    "print(assignments_df.isnull().sum()) "
   ]
  },
  {
   "cell_type": "markdown",
   "metadata": {
    "id": "vc5zXP5hhLu5"
   },
   "source": [
    "Здесь для проверки приведена таблица, в которой есть 2 дополнительные колонки:\n",
    "    \n",
    "    1) is_first_place - является ли студент лучшим по перцентили хотя бы на одном из курсов, куда он был зачислен \n",
    "    (True / NaN)\n",
    "    \n",
    "    2) is_last_place  - является ли студент худшим по перцентили хотя бы на одном из курсов, куда он был зачислен (True / NaN)"
   ]
  },
  {
   "cell_type": "code",
   "execution_count": 5086,
   "metadata": {
    "scrolled": true
   },
   "outputs": [],
   "source": [
    "import pandas as pd\n",
    "data = []\n",
    "for index, row in result.iterrows():\n",
    "    courses = [row['course_1'], row['course_2']]\n",
    "    for course in courses:\n",
    "        data.append({'course': course, 'id': row['id']})\n",
    "courses_df = pd.DataFrame(data)\n",
    "courses_df = courses_df[~courses_df['course'].isin(['???', '-'])]\n",
    "\n",
    "merge_2 = courses_df.merge(result[['id', 'percentile']], on='id', how='left')\n",
    "#merge_2"
   ]
  },
  {
   "cell_type": "code",
   "execution_count": 5087,
   "metadata": {},
   "outputs": [],
   "source": [
    "min_percentiles = merge_2.loc[merge_2.groupby('course')['percentile'].idxmin()][['course', 'percentile', 'id']].rename(columns={'percentile': 'min_percentile'})\n",
    "max_percentiles = merge_2.loc[merge_2.groupby('course')['percentile'].idxmax()][['course', 'percentile', 'id']].rename(columns={'percentile': 'max_percentile'})"
   ]
  },
  {
   "cell_type": "code",
   "execution_count": 5088,
   "metadata": {
    "scrolled": true
   },
   "outputs": [],
   "source": [
    "#min_percentiles"
   ]
  },
  {
   "cell_type": "code",
   "execution_count": 5089,
   "metadata": {},
   "outputs": [],
   "source": [
    "#max_percentiles"
   ]
  },
  {
   "cell_type": "code",
   "execution_count": 5090,
   "metadata": {},
   "outputs": [],
   "source": [
    "import numpy as np\n",
    "df_filtered = df_filtered.merge(min_percentiles[['id']], on=['id'], how='left', indicator=True)\n",
    "df_filtered['is_first_place'] = (df_filtered['_merge'] == 'both')\n",
    "df_filtered.drop(columns=['_merge'], inplace=True)\n",
    "\n",
    "df_filtered = df_filtered.merge(max_percentiles[['id']], on=['id'], how='left', indicator=True)\n",
    "df_filtered['is_last_place'] = (df_filtered['_merge'] == 'both')\n",
    "df_filtered.drop(columns=['_merge'], inplace=True)\n",
    "\n",
    "df_filtered['is_first_place'] = df_filtered['is_first_place'].fillna(False)\n",
    "df_filtered['is_last_place'] = df_filtered['is_last_place'].fillna(False)\n",
    "\n",
    "df_filtered['is_first_place'] = df_filtered['is_first_place'].where(df_filtered['is_first_place'] == True, np.nan)\n",
    "df_filtered['is_last_place'] = df_filtered['is_last_place'].where(df_filtered['is_last_place'] == True, np.nan)"
   ]
  },
  {
   "cell_type": "code",
   "execution_count": 5091,
   "metadata": {},
   "outputs": [],
   "source": [
    "df = df_filtered"
   ]
  },
  {
   "cell_type": "code",
   "execution_count": 5092,
   "metadata": {},
   "outputs": [],
   "source": [
    "df = df.drop_duplicates()"
   ]
  },
  {
   "cell_type": "code",
   "execution_count": 5093,
   "metadata": {},
   "outputs": [],
   "source": [
    "#df"
   ]
  },
  {
   "cell_type": "raw",
   "metadata": {},
   "source": [
    "Дополнительный check"
   ]
  },
  {
   "cell_type": "code",
   "execution_count": 5094,
   "metadata": {},
   "outputs": [
    {
     "data": {
      "text/plain": [
       "is_first_place\n",
       "True    10\n",
       "Name: count, dtype: int64"
      ]
     },
     "execution_count": 5094,
     "metadata": {},
     "output_type": "execute_result"
    }
   ],
   "source": [
    "df['is_first_place'].value_counts()"
   ]
  },
  {
   "cell_type": "code",
   "execution_count": 5095,
   "metadata": {},
   "outputs": [
    {
     "data": {
      "text/plain": [
       "is_last_place\n",
       "True    12\n",
       "Name: count, dtype: int64"
      ]
     },
     "execution_count": 5095,
     "metadata": {},
     "output_type": "execute_result"
    }
   ],
   "source": [
    "df['is_last_place'].value_counts()"
   ]
  },
  {
   "cell_type": "code",
   "execution_count": 5096,
   "metadata": {
    "id": "uZTkGEq5hLu5"
   },
   "outputs": [],
   "source": [
    "#!wget  -O '2_task_check.csv' -q 'https://www.dropbox.com/s/v8o2zzq3iz5gc9w/_2_task_check.csv?dl=0'\n",
    "check_df = pd.read_csv('_2_task_check.csv')"
   ]
  },
  {
   "cell_type": "code",
   "execution_count": 5097,
   "metadata": {},
   "outputs": [
    {
     "data": {
      "text/plain": [
       "is_first_place\n",
       "True    10\n",
       "Name: count, dtype: int64"
      ]
     },
     "execution_count": 5097,
     "metadata": {},
     "output_type": "execute_result"
    }
   ],
   "source": [
    "check_df['is_first_place'].value_counts()"
   ]
  },
  {
   "cell_type": "code",
   "execution_count": 5098,
   "metadata": {},
   "outputs": [
    {
     "data": {
      "text/plain": [
       "is_last_place\n",
       "True    12\n",
       "Name: count, dtype: int64"
      ]
     },
     "execution_count": 5098,
     "metadata": {},
     "output_type": "execute_result"
    }
   ],
   "source": [
    "check_df['is_last_place'].value_counts()"
   ]
  },
  {
   "cell_type": "markdown",
   "metadata": {
    "id": "E_fbyB9qhLu5"
   },
   "source": [
    "После распределения студентов в соответствии с первым приоритетом добавьте в свой датафрейм аналогичные признаки и запустите проверку:"
   ]
  },
  {
   "cell_type": "code",
   "execution_count": 5099,
   "metadata": {
    "id": "GOAzQeYehLu6"
   },
   "outputs": [],
   "source": [
    "fir_col_name = 'is_first_place' # insert name of your new column with is_first_place as str\n",
    "last_col_name = 'is_last_place'   # insert name of your new column with is_last_place as str\n",
    "\n",
    "\n",
    "assert((df[df[fir_col_name].isna() == False][['id']].sort_values('id').reset_index(drop=True)\n",
    "        ==\n",
    "        check_df[check_df['is_first_place'].isna() == False][['id']].sort_values('id').reset_index(drop=True)\n",
    "       ).id.values).all()\n",
    "\n",
    "\n",
    "assert((df[df[last_col_name].isna() == False][['id']].sort_values('id').reset_index(drop=True)\n",
    "       == \n",
    "       check_df[check_df['is_last_place'].isna() == False][['id']].sort_values('id').reset_index(drop=True)\n",
    "      ).id.values).all()"
   ]
  },
  {
   "cell_type": "markdown",
   "metadata": {
    "id": "RO6DwNNFhLu6"
   },
   "source": [
    "#### 3. [3 балла] Проведите все три волны отбора студентов на курсы по выбору"
   ]
  },
  {
   "cell_type": "code",
   "execution_count": 5100,
   "metadata": {},
   "outputs": [],
   "source": [
    "df = pd.merge(result,df,on = 'id')"
   ]
  },
  {
   "cell_type": "code",
   "execution_count": 5101,
   "metadata": {},
   "outputs": [],
   "source": [
    "#df"
   ]
  },
  {
   "cell_type": "raw",
   "metadata": {},
   "source": [
    "                          Statistical Learning Theory              27.0\n",
    "1                   Анализ неструктурированных данных               inf\n",
    "2               Байесовские методы машинного обучения               6.0\n",
    "3                    Безопасность компьютерных систем               0.0\n",
    "4                   Высокопроизводительные вычисления              16.0\n",
    "5                Глубинное обучение в обработке звука               7.0\n",
    "6                       Моделирование временных рядов               0.0\n",
    "7   Принятие решений в условиях риска и неопределё...              22.0\n",
    "8     Сбор и обработка данных с помощью краудсорсинга               0.0\n",
    "9                                Матричные вычисления              15.0\n",
    "10                                  Теория баз данных              16.0\n",
    "11                                           Язык SQL               1.0"
   ]
  },
  {
   "cell_type": "code",
   "execution_count": 5102,
   "metadata": {},
   "outputs": [],
   "source": [
    "remaining_seats = {\n",
    "    'Statistical Learning Theory': 27,\n",
    "    'Анализ неструктурированных данных': float('inf'),\n",
    "    'Байесовские методы машинного обучения': 6,\n",
    "    'Безопасность компьютерных систем': 0,\n",
    "    'Высокопроизводительные вычисления': 16,\n",
    "    'Глубинное обучение в обработке звука': 7,\n",
    "    'Моделирование временных рядов': 0,\n",
    "    'Принятие решений в условиях риска и неопределённости': 22,\n",
    "    'Сбор и обработка данных с помощью краудсорсинга': 0,\n",
    "    'Матричные вычисления': 15,\n",
    "    'Теория баз данных': 16,\n",
    "    'Язык SQL': 1\n",
    "}\n",
    "\n",
    "students2 = df[\n",
    "    (df['course_2'] == '???') | \n",
    "    (df['course_1'] == '???') \n",
    "].sort_values(by='percentile_x', ascending=True)\n",
    "\n",
    "results = []\n",
    "for index, student in students2.iterrows():\n",
    "    preferred_course = student['fall_2']  \n",
    "    secondary_course = student['fall_3'] if student['count_courses'] == 2 else None\n",
    "\n",
    "    assigned_courses = set()\n",
    "    if student['course_1'] != '???':\n",
    "        assigned_courses.add(student['course_1'])\n",
    "    if student['course_2'] != '???':\n",
    "        assigned_courses.add(student['course_2'])\n",
    "\n",
    "\n",
    "    # Проверка для предпочтительного курса\n",
    "    if preferred_course in remaining_seats and remaining_seats[preferred_course] > 0 and preferred_course not in assigned_courses:\n",
    "        results.append((student['id'], preferred_course))\n",
    "        remaining_seats[preferred_course] -= 1\n",
    "    elif secondary_course and secondary_course in remaining_seats and remaining_seats[secondary_course] > 0 and secondary_course not in assigned_courses and secondary_course not in results:\n",
    "        results.append((student['id'], secondary_course))\n",
    "        remaining_seats[secondary_course] -= 1\n",
    "# Преобразование результатов в DataFrame, если это необходимо\n",
    "results_df = pd.DataFrame(results, columns=['id', 'assigned_course'])\n",
    "# В дополнение, если нужно: гарантируем, что для одного id не будет дубликатов курсов\n",
    "results_df = results_df.drop_duplicates(subset=['id', 'assigned_course']) "
   ]
  },
  {
   "cell_type": "code",
   "execution_count": 5103,
   "metadata": {},
   "outputs": [],
   "source": [
    "#results_df"
   ]
  },
  {
   "cell_type": "code",
   "execution_count": 5104,
   "metadata": {},
   "outputs": [
    {
     "name": "stdout",
     "output_type": "stream",
     "text": [
      "Оставшиеся места на курсах:\n",
      "Statistical Learning Theory: 19 мест(а) осталось\n",
      "Анализ неструктурированных данных: inf мест(а) осталось\n",
      "Байесовские методы машинного обучения: 5 мест(а) осталось\n",
      "Безопасность компьютерных систем: 0 мест(а) осталось\n",
      "Высокопроизводительные вычисления: 0 мест(а) осталось\n",
      "Глубинное обучение в обработке звука: 0 мест(а) осталось\n",
      "Моделирование временных рядов: 0 мест(а) осталось\n",
      "Принятие решений в условиях риска и неопределённости: 21 мест(а) осталось\n",
      "Сбор и обработка данных с помощью краудсорсинга: 0 мест(а) осталось\n",
      "Матричные вычисления: 6 мест(а) осталось\n",
      "Теория баз данных: 12 мест(а) осталось\n",
      "Язык SQL: 0 мест(а) осталось\n"
     ]
    }
   ],
   "source": [
    "print(\"Оставшиеся места на курсах:\")\n",
    "for course, seats in remaining_seats.items():\n",
    "    print(f\"{course}: {seats} мест(а) осталось\")"
   ]
  },
  {
   "cell_type": "code",
   "execution_count": 5105,
   "metadata": {},
   "outputs": [],
   "source": [
    "#вторая волна\n",
    "course_2 = pd.DataFrame(results, columns=['student_id', 'course'])"
   ]
  },
  {
   "cell_type": "code",
   "execution_count": 5106,
   "metadata": {},
   "outputs": [
    {
     "data": {
      "text/html": [
       "<div>\n",
       "<style scoped>\n",
       "    .dataframe tbody tr th:only-of-type {\n",
       "        vertical-align: middle;\n",
       "    }\n",
       "\n",
       "    .dataframe tbody tr th {\n",
       "        vertical-align: top;\n",
       "    }\n",
       "\n",
       "    .dataframe thead th {\n",
       "        text-align: right;\n",
       "    }\n",
       "</style>\n",
       "<table border=\"1\" class=\"dataframe\">\n",
       "  <thead>\n",
       "    <tr style=\"text-align: right;\">\n",
       "      <th></th>\n",
       "      <th>student_id</th>\n",
       "      <th>course</th>\n",
       "    </tr>\n",
       "  </thead>\n",
       "  <tbody>\n",
       "    <tr>\n",
       "      <th>0</th>\n",
       "      <td>081eba3952cfc116e0e9b941d6a974a2</td>\n",
       "      <td>Матричные вычисления</td>\n",
       "    </tr>\n",
       "    <tr>\n",
       "      <th>1</th>\n",
       "      <td>d08d06bc5d31e35616fafc59de6f2e34</td>\n",
       "      <td>Матричные вычисления</td>\n",
       "    </tr>\n",
       "    <tr>\n",
       "      <th>2</th>\n",
       "      <td>86eebda725013685effcb0c97591132e</td>\n",
       "      <td>Язык SQL</td>\n",
       "    </tr>\n",
       "    <tr>\n",
       "      <th>3</th>\n",
       "      <td>7f9d0f835bf734ccd4619041c3475c1c</td>\n",
       "      <td>Statistical Learning Theory</td>\n",
       "    </tr>\n",
       "    <tr>\n",
       "      <th>4</th>\n",
       "      <td>31e38f7596f83b72ebba1c6fc6b7a590</td>\n",
       "      <td>Высокопроизводительные вычисления</td>\n",
       "    </tr>\n",
       "    <tr>\n",
       "      <th>5</th>\n",
       "      <td>2b844a1be49f4ed2d578fb50b752883b</td>\n",
       "      <td>Матричные вычисления</td>\n",
       "    </tr>\n",
       "    <tr>\n",
       "      <th>6</th>\n",
       "      <td>8e8d87fd686122d2c061d7b1eea2d3c5</td>\n",
       "      <td>Высокопроизводительные вычисления</td>\n",
       "    </tr>\n",
       "    <tr>\n",
       "      <th>7</th>\n",
       "      <td>b8d4c538f6b47a1a692bec6c2f29152b</td>\n",
       "      <td>Высокопроизводительные вычисления</td>\n",
       "    </tr>\n",
       "    <tr>\n",
       "      <th>8</th>\n",
       "      <td>492c677be00bb8223ebbaffa3aff2549</td>\n",
       "      <td>Глубинное обучение в обработке звука</td>\n",
       "    </tr>\n",
       "    <tr>\n",
       "      <th>9</th>\n",
       "      <td>6541d659f05e45043d1b65e98e16a718</td>\n",
       "      <td>Матричные вычисления</td>\n",
       "    </tr>\n",
       "    <tr>\n",
       "      <th>10</th>\n",
       "      <td>7e844607673355cefa63252f558b69cb</td>\n",
       "      <td>Высокопроизводительные вычисления</td>\n",
       "    </tr>\n",
       "    <tr>\n",
       "      <th>11</th>\n",
       "      <td>2ba0a356c95af4fe74272e708082086f</td>\n",
       "      <td>Statistical Learning Theory</td>\n",
       "    </tr>\n",
       "    <tr>\n",
       "      <th>12</th>\n",
       "      <td>25bd5b6bb000f48b8276cbb942537386</td>\n",
       "      <td>Высокопроизводительные вычисления</td>\n",
       "    </tr>\n",
       "    <tr>\n",
       "      <th>13</th>\n",
       "      <td>aa21f50934a72e00bbc7e65a54ea0bcc</td>\n",
       "      <td>Высокопроизводительные вычисления</td>\n",
       "    </tr>\n",
       "    <tr>\n",
       "      <th>14</th>\n",
       "      <td>9c2251ef9825947b98265e4bfa887bcf</td>\n",
       "      <td>Матричные вычисления</td>\n",
       "    </tr>\n",
       "    <tr>\n",
       "      <th>15</th>\n",
       "      <td>851497aadac83e844753bb3b2163c79b</td>\n",
       "      <td>Высокопроизводительные вычисления</td>\n",
       "    </tr>\n",
       "    <tr>\n",
       "      <th>16</th>\n",
       "      <td>cddf159101f9a5a30f9041ceebdb2835</td>\n",
       "      <td>Теория баз данных</td>\n",
       "    </tr>\n",
       "    <tr>\n",
       "      <th>17</th>\n",
       "      <td>ba028043babda44219f3346809874ca3</td>\n",
       "      <td>Глубинное обучение в обработке звука</td>\n",
       "    </tr>\n",
       "    <tr>\n",
       "      <th>18</th>\n",
       "      <td>fa4860bc719aadedbb00ba027067a8b7</td>\n",
       "      <td>Высокопроизводительные вычисления</td>\n",
       "    </tr>\n",
       "    <tr>\n",
       "      <th>19</th>\n",
       "      <td>c154bbf18efdd4d760e52155eaa87929</td>\n",
       "      <td>Высокопроизводительные вычисления</td>\n",
       "    </tr>\n",
       "    <tr>\n",
       "      <th>20</th>\n",
       "      <td>64173586abab6f7a172946c8c74bde0d</td>\n",
       "      <td>Высокопроизводительные вычисления</td>\n",
       "    </tr>\n",
       "    <tr>\n",
       "      <th>21</th>\n",
       "      <td>48f0ae24c435e6d7330ffc82eec05483</td>\n",
       "      <td>Высокопроизводительные вычисления</td>\n",
       "    </tr>\n",
       "    <tr>\n",
       "      <th>22</th>\n",
       "      <td>a65d50ef4fadfac64508a54e972d8623</td>\n",
       "      <td>Высокопроизводительные вычисления</td>\n",
       "    </tr>\n",
       "    <tr>\n",
       "      <th>23</th>\n",
       "      <td>fd784637a19d65bbe5b07d6efac5a05d</td>\n",
       "      <td>Statistical Learning Theory</td>\n",
       "    </tr>\n",
       "    <tr>\n",
       "      <th>24</th>\n",
       "      <td>30f3653fc176d54e89ac3179c455c6dd</td>\n",
       "      <td>Матричные вычисления</td>\n",
       "    </tr>\n",
       "    <tr>\n",
       "      <th>25</th>\n",
       "      <td>17676f1d09ba15d060a7352e4308661a</td>\n",
       "      <td>Матричные вычисления</td>\n",
       "    </tr>\n",
       "    <tr>\n",
       "      <th>26</th>\n",
       "      <td>9963fc00d9405a35b894cc04a7e19855</td>\n",
       "      <td>Высокопроизводительные вычисления</td>\n",
       "    </tr>\n",
       "    <tr>\n",
       "      <th>27</th>\n",
       "      <td>7df351e9f3a719f6c29e811e2578fcc6</td>\n",
       "      <td>Высокопроизводительные вычисления</td>\n",
       "    </tr>\n",
       "    <tr>\n",
       "      <th>28</th>\n",
       "      <td>eb1d7205d913319ef3d48e0719839849</td>\n",
       "      <td>Statistical Learning Theory</td>\n",
       "    </tr>\n",
       "    <tr>\n",
       "      <th>29</th>\n",
       "      <td>d61cc836b6aa3cdc4a40e2e8ada0b937</td>\n",
       "      <td>Высокопроизводительные вычисления</td>\n",
       "    </tr>\n",
       "    <tr>\n",
       "      <th>30</th>\n",
       "      <td>39cd1820459fdbcc193f9bb0ddb74a58</td>\n",
       "      <td>Statistical Learning Theory</td>\n",
       "    </tr>\n",
       "    <tr>\n",
       "      <th>31</th>\n",
       "      <td>26e72efe2995eb032a25561b2bf78600</td>\n",
       "      <td>Высокопроизводительные вычисления</td>\n",
       "    </tr>\n",
       "    <tr>\n",
       "      <th>32</th>\n",
       "      <td>d7118b44c7e8fdbbaaca226d2da6fef1</td>\n",
       "      <td>Анализ неструктурированных данных</td>\n",
       "    </tr>\n",
       "    <tr>\n",
       "      <th>33</th>\n",
       "      <td>6388c7920a7d454d2db81430f1f231c4</td>\n",
       "      <td>Матричные вычисления</td>\n",
       "    </tr>\n",
       "    <tr>\n",
       "      <th>34</th>\n",
       "      <td>5daee1bd98559bb2c52373e416942225</td>\n",
       "      <td>Statistical Learning Theory</td>\n",
       "    </tr>\n",
       "    <tr>\n",
       "      <th>35</th>\n",
       "      <td>cef24632489091cb8c085688b7d78dec</td>\n",
       "      <td>Анализ неструктурированных данных</td>\n",
       "    </tr>\n",
       "    <tr>\n",
       "      <th>36</th>\n",
       "      <td>d40cbae8cfc9e6c5d05831ef7e122f3e</td>\n",
       "      <td>Анализ неструктурированных данных</td>\n",
       "    </tr>\n",
       "    <tr>\n",
       "      <th>37</th>\n",
       "      <td>7134f24c241836458335aa3abb8d8727</td>\n",
       "      <td>Глубинное обучение в обработке звука</td>\n",
       "    </tr>\n",
       "    <tr>\n",
       "      <th>38</th>\n",
       "      <td>6a93b58f867db41e822a03c26c1bd428</td>\n",
       "      <td>Принятие решений в условиях риска и неопределё...</td>\n",
       "    </tr>\n",
       "    <tr>\n",
       "      <th>39</th>\n",
       "      <td>881b1a6fda195b354ae2edb396a69f5d</td>\n",
       "      <td>Глубинное обучение в обработке звука</td>\n",
       "    </tr>\n",
       "    <tr>\n",
       "      <th>40</th>\n",
       "      <td>2e04f9bc8796f095ed7b9c7941df91a6</td>\n",
       "      <td>Глубинное обучение в обработке звука</td>\n",
       "    </tr>\n",
       "    <tr>\n",
       "      <th>41</th>\n",
       "      <td>5d1deb0ae3a69348a018881ac785fd90</td>\n",
       "      <td>Statistical Learning Theory</td>\n",
       "    </tr>\n",
       "    <tr>\n",
       "      <th>42</th>\n",
       "      <td>cc8e710c871ae8236b8b8705e6840793</td>\n",
       "      <td>Теория баз данных</td>\n",
       "    </tr>\n",
       "    <tr>\n",
       "      <th>43</th>\n",
       "      <td>c97ab5cabace9f00673cc8384771aa9c</td>\n",
       "      <td>Теория баз данных</td>\n",
       "    </tr>\n",
       "    <tr>\n",
       "      <th>44</th>\n",
       "      <td>bba51e2f648cb3323b96858a404dacea</td>\n",
       "      <td>Анализ неструктурированных данных</td>\n",
       "    </tr>\n",
       "    <tr>\n",
       "      <th>45</th>\n",
       "      <td>014b72217e20370dab7acc48b20c47be</td>\n",
       "      <td>Statistical Learning Theory</td>\n",
       "    </tr>\n",
       "    <tr>\n",
       "      <th>46</th>\n",
       "      <td>ac2fd77f2ec0186c95f16e6721fd5998</td>\n",
       "      <td>Матричные вычисления</td>\n",
       "    </tr>\n",
       "    <tr>\n",
       "      <th>47</th>\n",
       "      <td>de539be8b29b3afa002184e28d63c670</td>\n",
       "      <td>Глубинное обучение в обработке звука</td>\n",
       "    </tr>\n",
       "    <tr>\n",
       "      <th>48</th>\n",
       "      <td>d555d2805e1d93d4f023e57dc4c8f403</td>\n",
       "      <td>Байесовские методы машинного обучения</td>\n",
       "    </tr>\n",
       "    <tr>\n",
       "      <th>49</th>\n",
       "      <td>bd416140ecdb32b6dbd7f40820bf63b1</td>\n",
       "      <td>Теория баз данных</td>\n",
       "    </tr>\n",
       "    <tr>\n",
       "      <th>50</th>\n",
       "      <td>f2e1cfc27a724879ac2a8c98004c14b0</td>\n",
       "      <td>Глубинное обучение в обработке звука</td>\n",
       "    </tr>\n",
       "    <tr>\n",
       "      <th>51</th>\n",
       "      <td>79d14db48e4737af731960ae212d5134</td>\n",
       "      <td>Анализ неструктурированных данных</td>\n",
       "    </tr>\n",
       "  </tbody>\n",
       "</table>\n",
       "</div>"
      ],
      "text/plain": [
       "                          student_id  \\\n",
       "0   081eba3952cfc116e0e9b941d6a974a2   \n",
       "1   d08d06bc5d31e35616fafc59de6f2e34   \n",
       "2   86eebda725013685effcb0c97591132e   \n",
       "3   7f9d0f835bf734ccd4619041c3475c1c   \n",
       "4   31e38f7596f83b72ebba1c6fc6b7a590   \n",
       "5   2b844a1be49f4ed2d578fb50b752883b   \n",
       "6   8e8d87fd686122d2c061d7b1eea2d3c5   \n",
       "7   b8d4c538f6b47a1a692bec6c2f29152b   \n",
       "8   492c677be00bb8223ebbaffa3aff2549   \n",
       "9   6541d659f05e45043d1b65e98e16a718   \n",
       "10  7e844607673355cefa63252f558b69cb   \n",
       "11  2ba0a356c95af4fe74272e708082086f   \n",
       "12  25bd5b6bb000f48b8276cbb942537386   \n",
       "13  aa21f50934a72e00bbc7e65a54ea0bcc   \n",
       "14  9c2251ef9825947b98265e4bfa887bcf   \n",
       "15  851497aadac83e844753bb3b2163c79b   \n",
       "16  cddf159101f9a5a30f9041ceebdb2835   \n",
       "17  ba028043babda44219f3346809874ca3   \n",
       "18  fa4860bc719aadedbb00ba027067a8b7   \n",
       "19  c154bbf18efdd4d760e52155eaa87929   \n",
       "20  64173586abab6f7a172946c8c74bde0d   \n",
       "21  48f0ae24c435e6d7330ffc82eec05483   \n",
       "22  a65d50ef4fadfac64508a54e972d8623   \n",
       "23  fd784637a19d65bbe5b07d6efac5a05d   \n",
       "24  30f3653fc176d54e89ac3179c455c6dd   \n",
       "25  17676f1d09ba15d060a7352e4308661a   \n",
       "26  9963fc00d9405a35b894cc04a7e19855   \n",
       "27  7df351e9f3a719f6c29e811e2578fcc6   \n",
       "28  eb1d7205d913319ef3d48e0719839849   \n",
       "29  d61cc836b6aa3cdc4a40e2e8ada0b937   \n",
       "30  39cd1820459fdbcc193f9bb0ddb74a58   \n",
       "31  26e72efe2995eb032a25561b2bf78600   \n",
       "32  d7118b44c7e8fdbbaaca226d2da6fef1   \n",
       "33  6388c7920a7d454d2db81430f1f231c4   \n",
       "34  5daee1bd98559bb2c52373e416942225   \n",
       "35  cef24632489091cb8c085688b7d78dec   \n",
       "36  d40cbae8cfc9e6c5d05831ef7e122f3e   \n",
       "37  7134f24c241836458335aa3abb8d8727   \n",
       "38  6a93b58f867db41e822a03c26c1bd428   \n",
       "39  881b1a6fda195b354ae2edb396a69f5d   \n",
       "40  2e04f9bc8796f095ed7b9c7941df91a6   \n",
       "41  5d1deb0ae3a69348a018881ac785fd90   \n",
       "42  cc8e710c871ae8236b8b8705e6840793   \n",
       "43  c97ab5cabace9f00673cc8384771aa9c   \n",
       "44  bba51e2f648cb3323b96858a404dacea   \n",
       "45  014b72217e20370dab7acc48b20c47be   \n",
       "46  ac2fd77f2ec0186c95f16e6721fd5998   \n",
       "47  de539be8b29b3afa002184e28d63c670   \n",
       "48  d555d2805e1d93d4f023e57dc4c8f403   \n",
       "49  bd416140ecdb32b6dbd7f40820bf63b1   \n",
       "50  f2e1cfc27a724879ac2a8c98004c14b0   \n",
       "51  79d14db48e4737af731960ae212d5134   \n",
       "\n",
       "                                               course  \n",
       "0                                Матричные вычисления  \n",
       "1                                Матричные вычисления  \n",
       "2                                            Язык SQL  \n",
       "3                         Statistical Learning Theory  \n",
       "4                   Высокопроизводительные вычисления  \n",
       "5                                Матричные вычисления  \n",
       "6                   Высокопроизводительные вычисления  \n",
       "7                   Высокопроизводительные вычисления  \n",
       "8                Глубинное обучение в обработке звука  \n",
       "9                                Матричные вычисления  \n",
       "10                  Высокопроизводительные вычисления  \n",
       "11                        Statistical Learning Theory  \n",
       "12                  Высокопроизводительные вычисления  \n",
       "13                  Высокопроизводительные вычисления  \n",
       "14                               Матричные вычисления  \n",
       "15                  Высокопроизводительные вычисления  \n",
       "16                                  Теория баз данных  \n",
       "17               Глубинное обучение в обработке звука  \n",
       "18                  Высокопроизводительные вычисления  \n",
       "19                  Высокопроизводительные вычисления  \n",
       "20                  Высокопроизводительные вычисления  \n",
       "21                  Высокопроизводительные вычисления  \n",
       "22                  Высокопроизводительные вычисления  \n",
       "23                        Statistical Learning Theory  \n",
       "24                               Матричные вычисления  \n",
       "25                               Матричные вычисления  \n",
       "26                  Высокопроизводительные вычисления  \n",
       "27                  Высокопроизводительные вычисления  \n",
       "28                        Statistical Learning Theory  \n",
       "29                  Высокопроизводительные вычисления  \n",
       "30                        Statistical Learning Theory  \n",
       "31                  Высокопроизводительные вычисления  \n",
       "32                  Анализ неструктурированных данных  \n",
       "33                               Матричные вычисления  \n",
       "34                        Statistical Learning Theory  \n",
       "35                  Анализ неструктурированных данных  \n",
       "36                  Анализ неструктурированных данных  \n",
       "37               Глубинное обучение в обработке звука  \n",
       "38  Принятие решений в условиях риска и неопределё...  \n",
       "39               Глубинное обучение в обработке звука  \n",
       "40               Глубинное обучение в обработке звука  \n",
       "41                        Statistical Learning Theory  \n",
       "42                                  Теория баз данных  \n",
       "43                                  Теория баз данных  \n",
       "44                  Анализ неструктурированных данных  \n",
       "45                        Statistical Learning Theory  \n",
       "46                               Матричные вычисления  \n",
       "47               Глубинное обучение в обработке звука  \n",
       "48              Байесовские методы машинного обучения  \n",
       "49                                  Теория баз данных  \n",
       "50               Глубинное обучение в обработке звука  \n",
       "51                  Анализ неструктурированных данных  "
      ]
     },
     "execution_count": 5106,
     "metadata": {},
     "output_type": "execute_result"
    }
   ],
   "source": [
    "course_2"
   ]
  },
  {
   "cell_type": "code",
   "execution_count": 5107,
   "metadata": {},
   "outputs": [],
   "source": [
    "for index, row in course_2.iterrows():\n",
    "    student_id = row['student_id']\n",
    "    course_name = row['course']\n",
    "    df.loc[(df['id'] == student_id) & (df['course_1'] == '???'), 'course_1'] = course_name\n",
    "    df.loc[(df['id'] == student_id) & (df['course_2'] == '???'), 'course_2'] = course_name"
   ]
  },
  {
   "cell_type": "code",
   "execution_count": 5108,
   "metadata": {},
   "outputs": [],
   "source": [
    "#df.loc[df['course_1'] == df['course_2'], 'course_2'] = '???'"
   ]
  },
  {
   "cell_type": "code",
   "execution_count": 5109,
   "metadata": {},
   "outputs": [
    {
     "data": {
      "text/plain": [
       "course_1\n",
       "Высокопроизводительные вычисления                       57\n",
       "???                                                     47\n",
       "Анализ неструктурированных данных                       36\n",
       "Statistical Learning Theory                             32\n",
       "Безопасность компьютерных систем                        29\n",
       "Язык SQL                                                28\n",
       "Матричные вычисления                                    23\n",
       "Моделирование временных рядов                           22\n",
       "Сбор и обработка данных с помощью краудсорсинга         20\n",
       "Байесовские методы машинного обучения                   17\n",
       "Теория баз данных                                       15\n",
       "Глубинное обучение в обработке звука                    15\n",
       "Принятие решений в условиях риска и неопределённости     6\n",
       "Name: count, dtype: int64"
      ]
     },
     "execution_count": 5109,
     "metadata": {},
     "output_type": "execute_result"
    }
   ],
   "source": [
    "df['course_1'].value_counts()"
   ]
  },
  {
   "cell_type": "code",
   "execution_count": 5110,
   "metadata": {},
   "outputs": [
    {
     "data": {
      "text/plain": [
       "course_2\n",
       "-                                                       258\n",
       "Анализ неструктурированных данных                        18\n",
       "Глубинное обучение в обработке звука                     15\n",
       "Сбор и обработка данных с помощью краудсорсинга          10\n",
       "Statistical Learning Theory                               9\n",
       "???                                                       8\n",
       "Байесовские методы машинного обучения                     8\n",
       "Моделирование временных рядов                             8\n",
       "Высокопроизводительные вычисления                         3\n",
       "Теория баз данных                                         3\n",
       "Принятие решений в условиях риска и неопределённости      3\n",
       "Язык SQL                                                  2\n",
       "Матричные вычисления                                      1\n",
       "Безопасность компьютерных систем                          1\n",
       "Name: count, dtype: int64"
      ]
     },
     "execution_count": 5110,
     "metadata": {},
     "output_type": "execute_result"
    }
   ],
   "source": [
    "df['course_2'].value_counts()"
   ]
  },
  {
   "cell_type": "raw",
   "metadata": {},
   "source": [
    "Оставшиеся места на курсах:\n",
    "Statistical Learning Theory: 19 мест(а) осталось\n",
    "Анализ неструктурированных данных: inf мест(а) осталось\n",
    "Байесовские методы машинного обучения: 5 мест(а) осталось\n",
    "Безопасность компьютерных систем: 0 мест(а) осталось\n",
    "Высокопроизводительные вычисления: 0 мест(а) осталось\n",
    "Глубинное обучение в обработке звука: 2 мест(а) осталось\n",
    "Моделирование временных рядов: 0 мест(а) осталось\n",
    "Принятие решений в условиях риска и неопределённости: 20 мест(а) осталось\n",
    "Сбор и обработка данных с помощью краудсорсинга: 0 мест(а) осталось\n",
    "Матричные вычисления: 6 мест(а) осталось\n",
    "Теория баз данных: 12 мест(а) осталось\n",
    "Язык SQL: 0 мест(а) осталось"
   ]
  },
  {
   "cell_type": "code",
   "execution_count": 5111,
   "metadata": {},
   "outputs": [
    {
     "data": {
      "text/html": [
       "<div>\n",
       "<style scoped>\n",
       "    .dataframe tbody tr th:only-of-type {\n",
       "        vertical-align: middle;\n",
       "    }\n",
       "\n",
       "    .dataframe tbody tr th {\n",
       "        vertical-align: top;\n",
       "    }\n",
       "\n",
       "    .dataframe thead th {\n",
       "        text-align: right;\n",
       "    }\n",
       "</style>\n",
       "<table border=\"1\" class=\"dataframe\">\n",
       "  <thead>\n",
       "    <tr style=\"text-align: right;\">\n",
       "      <th></th>\n",
       "      <th>id</th>\n",
       "      <th>assigned_course</th>\n",
       "    </tr>\n",
       "  </thead>\n",
       "  <tbody>\n",
       "    <tr>\n",
       "      <th>0</th>\n",
       "      <td>f0f6f3881894172a0f04e79b554b49e6</td>\n",
       "      <td>Принятие решений в условиях риска и неопределё...</td>\n",
       "    </tr>\n",
       "    <tr>\n",
       "      <th>1</th>\n",
       "      <td>227347077a7d1d0544ddf5643b97cf8c</td>\n",
       "      <td>Матричные вычисления</td>\n",
       "    </tr>\n",
       "    <tr>\n",
       "      <th>2</th>\n",
       "      <td>5ee2ad618729a6dc3bdb7f2858826ef0</td>\n",
       "      <td>Теория баз данных</td>\n",
       "    </tr>\n",
       "    <tr>\n",
       "      <th>3</th>\n",
       "      <td>2b0d7dd550bcca4c586cbb27d8478aa8</td>\n",
       "      <td>Матричные вычисления</td>\n",
       "    </tr>\n",
       "    <tr>\n",
       "      <th>4</th>\n",
       "      <td>a6ce02b12540bca3cdd15757f8a2e919</td>\n",
       "      <td>Матричные вычисления</td>\n",
       "    </tr>\n",
       "    <tr>\n",
       "      <th>5</th>\n",
       "      <td>1c1623a037bd523d687245e6060e6c5b</td>\n",
       "      <td>Теория баз данных</td>\n",
       "    </tr>\n",
       "    <tr>\n",
       "      <th>6</th>\n",
       "      <td>253bbe1a2021d0404712a1e4acd22939</td>\n",
       "      <td>Statistical Learning Theory</td>\n",
       "    </tr>\n",
       "    <tr>\n",
       "      <th>7</th>\n",
       "      <td>8c3aa7371731bef999519c3de2c47423</td>\n",
       "      <td>Анализ неструктурированных данных</td>\n",
       "    </tr>\n",
       "    <tr>\n",
       "      <th>8</th>\n",
       "      <td>f2ed8115db45ef795ced2701fa86515d</td>\n",
       "      <td>Statistical Learning Theory</td>\n",
       "    </tr>\n",
       "    <tr>\n",
       "      <th>9</th>\n",
       "      <td>5c49473012411a1eee72f8ea63767adf</td>\n",
       "      <td>Теория баз данных</td>\n",
       "    </tr>\n",
       "    <tr>\n",
       "      <th>10</th>\n",
       "      <td>1bbbfae51794b83c769b634be8da7b8d</td>\n",
       "      <td>Анализ неструктурированных данных</td>\n",
       "    </tr>\n",
       "    <tr>\n",
       "      <th>11</th>\n",
       "      <td>8aa0f1b7331b49464174b02cd693be52</td>\n",
       "      <td>Теория баз данных</td>\n",
       "    </tr>\n",
       "    <tr>\n",
       "      <th>12</th>\n",
       "      <td>ac4e2062ca444a506991c212bd2dd872</td>\n",
       "      <td>Матричные вычисления</td>\n",
       "    </tr>\n",
       "    <tr>\n",
       "      <th>13</th>\n",
       "      <td>5a6dfaade650ca8bb2d081342df303e8</td>\n",
       "      <td>Матричные вычисления</td>\n",
       "    </tr>\n",
       "    <tr>\n",
       "      <th>14</th>\n",
       "      <td>00b40fe7dbfd23e5daba765244509415</td>\n",
       "      <td>Матричные вычисления</td>\n",
       "    </tr>\n",
       "    <tr>\n",
       "      <th>15</th>\n",
       "      <td>aeb7bb1e047c392b7e5e39225cd86422</td>\n",
       "      <td>Анализ неструктурированных данных</td>\n",
       "    </tr>\n",
       "    <tr>\n",
       "      <th>16</th>\n",
       "      <td>86c24daaa62246142d46ee58534a65e0</td>\n",
       "      <td>Теория баз данных</td>\n",
       "    </tr>\n",
       "    <tr>\n",
       "      <th>17</th>\n",
       "      <td>f5d9f99cb876ca0888d18b6e444fa1b1</td>\n",
       "      <td>Теория баз данных</td>\n",
       "    </tr>\n",
       "  </tbody>\n",
       "</table>\n",
       "</div>"
      ],
      "text/plain": [
       "                                  id  \\\n",
       "0   f0f6f3881894172a0f04e79b554b49e6   \n",
       "1   227347077a7d1d0544ddf5643b97cf8c   \n",
       "2   5ee2ad618729a6dc3bdb7f2858826ef0   \n",
       "3   2b0d7dd550bcca4c586cbb27d8478aa8   \n",
       "4   a6ce02b12540bca3cdd15757f8a2e919   \n",
       "5   1c1623a037bd523d687245e6060e6c5b   \n",
       "6   253bbe1a2021d0404712a1e4acd22939   \n",
       "7   8c3aa7371731bef999519c3de2c47423   \n",
       "8   f2ed8115db45ef795ced2701fa86515d   \n",
       "9   5c49473012411a1eee72f8ea63767adf   \n",
       "10  1bbbfae51794b83c769b634be8da7b8d   \n",
       "11  8aa0f1b7331b49464174b02cd693be52   \n",
       "12  ac4e2062ca444a506991c212bd2dd872   \n",
       "13  5a6dfaade650ca8bb2d081342df303e8   \n",
       "14  00b40fe7dbfd23e5daba765244509415   \n",
       "15  aeb7bb1e047c392b7e5e39225cd86422   \n",
       "16  86c24daaa62246142d46ee58534a65e0   \n",
       "17  f5d9f99cb876ca0888d18b6e444fa1b1   \n",
       "\n",
       "                                      assigned_course  \n",
       "0   Принятие решений в условиях риска и неопределё...  \n",
       "1                                Матричные вычисления  \n",
       "2                                   Теория баз данных  \n",
       "3                                Матричные вычисления  \n",
       "4                                Матричные вычисления  \n",
       "5                                   Теория баз данных  \n",
       "6                         Statistical Learning Theory  \n",
       "7                   Анализ неструктурированных данных  \n",
       "8                         Statistical Learning Theory  \n",
       "9                                   Теория баз данных  \n",
       "10                  Анализ неструктурированных данных  \n",
       "11                                  Теория баз данных  \n",
       "12                               Матричные вычисления  \n",
       "13                               Матричные вычисления  \n",
       "14                               Матричные вычисления  \n",
       "15                  Анализ неструктурированных данных  \n",
       "16                                  Теория баз данных  \n",
       "17                                  Теория баз данных  "
      ]
     },
     "execution_count": 5111,
     "metadata": {},
     "output_type": "execute_result"
    }
   ],
   "source": [
    "import pandas as pd\n",
    "import numpy as np\n",
    "\n",
    "# Словарь оставшихся мест для курсов\n",
    "remaining_seats = {  'Statistical Learning Theory': 19,\n",
    "    'Анализ неструктурированных данных': float('inf'),\n",
    "    'Байесовские методы машинного обучения': 5,\n",
    "    'Безопасность компьютерных систем': 0,\n",
    "    'Высокопроизводительные вычисления': 0,\n",
    "    'Глубинное обучение в обработке звука': 0,\n",
    "    'Моделирование временных рядов': 0,\n",
    "    'Принятие решений в условиях риска и неопределённости': 21,\n",
    "    'Сбор и обработка данных с помощью краудсорсинга': 0,\n",
    "    'Матричные вычисления': 6,\n",
    "    'Теория баз данных': 12,\n",
    "    'Язык SQL': 0\n",
    "}\n",
    "\n",
    "# Получение студентов, которые не зачислены на курсы (count_courses != 2)\n",
    "students3 = df[\n",
    "    ((df['course_2'] == '???') | (df['course_1'] == '???')) & (df['count_courses'] != 2)\n",
    "].sort_values(by='percentile_x', ascending=True)\n",
    "\n",
    "results = []\n",
    "for index, student in students3.iterrows():\n",
    "    preferred_course = student['fall_3']\n",
    "    \n",
    "    # Check if the preferred course is already assigned to this student\n",
    "    assigned_courses = set()\n",
    "    if student['course_1'] != '???':\n",
    "        assigned_courses.add(student['course_1'])\n",
    "    if student['course_2'] != '???':\n",
    "        assigned_courses.add(student['course_2'])\n",
    "\n",
    "    # Проверка доступных мест и того, что курс не был уже зачислен\n",
    "    if preferred_course in remaining_seats and remaining_seats[preferred_course] > 0 and preferred_course not in assigned_courses:\n",
    "        results.append((student['id'], preferred_course))\n",
    "        remaining_seats[preferred_course] -= 1\n",
    "\n",
    "# Преобразование результатов в DataFrame, если это необходимо\n",
    "results_df = pd.DataFrame(results, columns=['id', 'assigned_course'])\n",
    "\n",
    "results_df"
   ]
  },
  {
   "cell_type": "code",
   "execution_count": 5112,
   "metadata": {},
   "outputs": [],
   "source": [
    "results_df = pd.DataFrame(results, columns=['student_id', 'course'])"
   ]
  },
  {
   "cell_type": "code",
   "execution_count": 5113,
   "metadata": {},
   "outputs": [
    {
     "data": {
      "text/html": [
       "<div>\n",
       "<style scoped>\n",
       "    .dataframe tbody tr th:only-of-type {\n",
       "        vertical-align: middle;\n",
       "    }\n",
       "\n",
       "    .dataframe tbody tr th {\n",
       "        vertical-align: top;\n",
       "    }\n",
       "\n",
       "    .dataframe thead th {\n",
       "        text-align: right;\n",
       "    }\n",
       "</style>\n",
       "<table border=\"1\" class=\"dataframe\">\n",
       "  <thead>\n",
       "    <tr style=\"text-align: right;\">\n",
       "      <th></th>\n",
       "      <th>student_id</th>\n",
       "      <th>course</th>\n",
       "    </tr>\n",
       "  </thead>\n",
       "  <tbody>\n",
       "    <tr>\n",
       "      <th>0</th>\n",
       "      <td>f0f6f3881894172a0f04e79b554b49e6</td>\n",
       "      <td>Принятие решений в условиях риска и неопределё...</td>\n",
       "    </tr>\n",
       "    <tr>\n",
       "      <th>1</th>\n",
       "      <td>227347077a7d1d0544ddf5643b97cf8c</td>\n",
       "      <td>Матричные вычисления</td>\n",
       "    </tr>\n",
       "    <tr>\n",
       "      <th>2</th>\n",
       "      <td>5ee2ad618729a6dc3bdb7f2858826ef0</td>\n",
       "      <td>Теория баз данных</td>\n",
       "    </tr>\n",
       "    <tr>\n",
       "      <th>3</th>\n",
       "      <td>2b0d7dd550bcca4c586cbb27d8478aa8</td>\n",
       "      <td>Матричные вычисления</td>\n",
       "    </tr>\n",
       "    <tr>\n",
       "      <th>4</th>\n",
       "      <td>a6ce02b12540bca3cdd15757f8a2e919</td>\n",
       "      <td>Матричные вычисления</td>\n",
       "    </tr>\n",
       "    <tr>\n",
       "      <th>5</th>\n",
       "      <td>1c1623a037bd523d687245e6060e6c5b</td>\n",
       "      <td>Теория баз данных</td>\n",
       "    </tr>\n",
       "    <tr>\n",
       "      <th>6</th>\n",
       "      <td>253bbe1a2021d0404712a1e4acd22939</td>\n",
       "      <td>Statistical Learning Theory</td>\n",
       "    </tr>\n",
       "    <tr>\n",
       "      <th>7</th>\n",
       "      <td>8c3aa7371731bef999519c3de2c47423</td>\n",
       "      <td>Анализ неструктурированных данных</td>\n",
       "    </tr>\n",
       "    <tr>\n",
       "      <th>8</th>\n",
       "      <td>f2ed8115db45ef795ced2701fa86515d</td>\n",
       "      <td>Statistical Learning Theory</td>\n",
       "    </tr>\n",
       "    <tr>\n",
       "      <th>9</th>\n",
       "      <td>5c49473012411a1eee72f8ea63767adf</td>\n",
       "      <td>Теория баз данных</td>\n",
       "    </tr>\n",
       "    <tr>\n",
       "      <th>10</th>\n",
       "      <td>1bbbfae51794b83c769b634be8da7b8d</td>\n",
       "      <td>Анализ неструктурированных данных</td>\n",
       "    </tr>\n",
       "    <tr>\n",
       "      <th>11</th>\n",
       "      <td>8aa0f1b7331b49464174b02cd693be52</td>\n",
       "      <td>Теория баз данных</td>\n",
       "    </tr>\n",
       "    <tr>\n",
       "      <th>12</th>\n",
       "      <td>ac4e2062ca444a506991c212bd2dd872</td>\n",
       "      <td>Матричные вычисления</td>\n",
       "    </tr>\n",
       "    <tr>\n",
       "      <th>13</th>\n",
       "      <td>5a6dfaade650ca8bb2d081342df303e8</td>\n",
       "      <td>Матричные вычисления</td>\n",
       "    </tr>\n",
       "    <tr>\n",
       "      <th>14</th>\n",
       "      <td>00b40fe7dbfd23e5daba765244509415</td>\n",
       "      <td>Матричные вычисления</td>\n",
       "    </tr>\n",
       "    <tr>\n",
       "      <th>15</th>\n",
       "      <td>aeb7bb1e047c392b7e5e39225cd86422</td>\n",
       "      <td>Анализ неструктурированных данных</td>\n",
       "    </tr>\n",
       "    <tr>\n",
       "      <th>16</th>\n",
       "      <td>86c24daaa62246142d46ee58534a65e0</td>\n",
       "      <td>Теория баз данных</td>\n",
       "    </tr>\n",
       "    <tr>\n",
       "      <th>17</th>\n",
       "      <td>f5d9f99cb876ca0888d18b6e444fa1b1</td>\n",
       "      <td>Теория баз данных</td>\n",
       "    </tr>\n",
       "  </tbody>\n",
       "</table>\n",
       "</div>"
      ],
      "text/plain": [
       "                          student_id  \\\n",
       "0   f0f6f3881894172a0f04e79b554b49e6   \n",
       "1   227347077a7d1d0544ddf5643b97cf8c   \n",
       "2   5ee2ad618729a6dc3bdb7f2858826ef0   \n",
       "3   2b0d7dd550bcca4c586cbb27d8478aa8   \n",
       "4   a6ce02b12540bca3cdd15757f8a2e919   \n",
       "5   1c1623a037bd523d687245e6060e6c5b   \n",
       "6   253bbe1a2021d0404712a1e4acd22939   \n",
       "7   8c3aa7371731bef999519c3de2c47423   \n",
       "8   f2ed8115db45ef795ced2701fa86515d   \n",
       "9   5c49473012411a1eee72f8ea63767adf   \n",
       "10  1bbbfae51794b83c769b634be8da7b8d   \n",
       "11  8aa0f1b7331b49464174b02cd693be52   \n",
       "12  ac4e2062ca444a506991c212bd2dd872   \n",
       "13  5a6dfaade650ca8bb2d081342df303e8   \n",
       "14  00b40fe7dbfd23e5daba765244509415   \n",
       "15  aeb7bb1e047c392b7e5e39225cd86422   \n",
       "16  86c24daaa62246142d46ee58534a65e0   \n",
       "17  f5d9f99cb876ca0888d18b6e444fa1b1   \n",
       "\n",
       "                                               course  \n",
       "0   Принятие решений в условиях риска и неопределё...  \n",
       "1                                Матричные вычисления  \n",
       "2                                   Теория баз данных  \n",
       "3                                Матричные вычисления  \n",
       "4                                Матричные вычисления  \n",
       "5                                   Теория баз данных  \n",
       "6                         Statistical Learning Theory  \n",
       "7                   Анализ неструктурированных данных  \n",
       "8                         Statistical Learning Theory  \n",
       "9                                   Теория баз данных  \n",
       "10                  Анализ неструктурированных данных  \n",
       "11                                  Теория баз данных  \n",
       "12                               Матричные вычисления  \n",
       "13                               Матричные вычисления  \n",
       "14                               Матричные вычисления  \n",
       "15                  Анализ неструктурированных данных  \n",
       "16                                  Теория баз данных  \n",
       "17                                  Теория баз данных  "
      ]
     },
     "execution_count": 5113,
     "metadata": {},
     "output_type": "execute_result"
    }
   ],
   "source": [
    "results_df"
   ]
  },
  {
   "cell_type": "code",
   "execution_count": 5114,
   "metadata": {},
   "outputs": [],
   "source": [
    "for index, row in results_df.iterrows():\n",
    "    student_id = row['student_id']\n",
    "    course_name = row['course']\n",
    "    # Замена \"???\" на курс в столбце course_1\n",
    "    df.loc[(df['id'] == student_id) & (df['course_1'] == '???'), 'course_1'] = course_name\n",
    "    # Замена \"???\" на курс в столбце course_2\n",
    "    df.loc[(df['id'] == student_id) & (df['course_2'] == '???'), 'course_2'] = course_name"
   ]
  },
  {
   "cell_type": "code",
   "execution_count": 5115,
   "metadata": {},
   "outputs": [
    {
     "name": "stdout",
     "output_type": "stream",
     "text": [
      "Оставшиеся места на курсах:\n",
      "Statistical Learning Theory: 17 мест(а) осталось\n",
      "Анализ неструктурированных данных: inf мест(а) осталось\n",
      "Байесовские методы машинного обучения: 5 мест(а) осталось\n",
      "Безопасность компьютерных систем: 0 мест(а) осталось\n",
      "Высокопроизводительные вычисления: 0 мест(а) осталось\n",
      "Глубинное обучение в обработке звука: 0 мест(а) осталось\n",
      "Моделирование временных рядов: 0 мест(а) осталось\n",
      "Принятие решений в условиях риска и неопределённости: 20 мест(а) осталось\n",
      "Сбор и обработка данных с помощью краудсорсинга: 0 мест(а) осталось\n",
      "Матричные вычисления: 0 мест(а) осталось\n",
      "Теория баз данных: 6 мест(а) осталось\n",
      "Язык SQL: 0 мест(а) осталось\n"
     ]
    }
   ],
   "source": [
    "print(\"Оставшиеся места на курсах:\")\n",
    "for course, seats in remaining_seats.items():\n",
    "    print(f\"{course}: {seats} мест(а) осталось\")"
   ]
  },
  {
   "cell_type": "code",
   "execution_count": 5116,
   "metadata": {},
   "outputs": [
    {
     "data": {
      "text/plain": [
       "course_1\n",
       "Высокопроизводительные вычисления                       57\n",
       "Анализ неструктурированных данных                       39\n",
       "Statistical Learning Theory                             34\n",
       "Матричные вычисления                                    29\n",
       "Безопасность компьютерных систем                        29\n",
       "???                                                     29\n",
       "Язык SQL                                                28\n",
       "Моделирование временных рядов                           22\n",
       "Теория баз данных                                       21\n",
       "Сбор и обработка данных с помощью краудсорсинга         20\n",
       "Байесовские методы машинного обучения                   17\n",
       "Глубинное обучение в обработке звука                    15\n",
       "Принятие решений в условиях риска и неопределённости     7\n",
       "Name: count, dtype: int64"
      ]
     },
     "execution_count": 5116,
     "metadata": {},
     "output_type": "execute_result"
    }
   ],
   "source": [
    "df['course_1'].value_counts()"
   ]
  },
  {
   "cell_type": "code",
   "execution_count": 5117,
   "metadata": {},
   "outputs": [
    {
     "data": {
      "text/plain": [
       "course_2\n",
       "-                                                       258\n",
       "Анализ неструктурированных данных                        18\n",
       "Глубинное обучение в обработке звука                     15\n",
       "Сбор и обработка данных с помощью краудсорсинга          10\n",
       "Statistical Learning Theory                               9\n",
       "???                                                       8\n",
       "Байесовские методы машинного обучения                     8\n",
       "Моделирование временных рядов                             8\n",
       "Высокопроизводительные вычисления                         3\n",
       "Теория баз данных                                         3\n",
       "Принятие решений в условиях риска и неопределённости      3\n",
       "Язык SQL                                                  2\n",
       "Матричные вычисления                                      1\n",
       "Безопасность компьютерных систем                          1\n",
       "Name: count, dtype: int64"
      ]
     },
     "execution_count": 5117,
     "metadata": {},
     "output_type": "execute_result"
    }
   ],
   "source": [
    "df['course_2'].value_counts()"
   ]
  },
  {
   "cell_type": "code",
   "execution_count": 5118,
   "metadata": {},
   "outputs": [],
   "source": [
    "#df"
   ]
  },
  {
   "cell_type": "code",
   "execution_count": 5119,
   "metadata": {},
   "outputs": [],
   "source": [
    "res_fall = df[['id','course_1', 'course_2']].rename(columns={'id': 'ID','course_1':'course1','course_2':'course2'})"
   ]
  },
  {
   "cell_type": "markdown",
   "metadata": {},
   "source": [
    "Дополнительная проверка на наличие повторяющихся значений (Т.к. при проверке в ЯК были найдены повторяющиеся курсы)"
   ]
  },
  {
   "cell_type": "code",
   "execution_count": 5120,
   "metadata": {},
   "outputs": [],
   "source": [
    "res_fall.loc[res_fall['course1'] == res_fall['course2'], 'course2'] = '???'"
   ]
  },
  {
   "cell_type": "code",
   "execution_count": 5121,
   "metadata": {},
   "outputs": [],
   "source": [
    "res_fall.to_csv('res_fall.csv', index=False)"
   ]
  },
  {
   "cell_type": "code",
   "execution_count": 5122,
   "metadata": {},
   "outputs": [],
   "source": [
    "res_fall.to_excel('res_fall.xlsx', index=False)"
   ]
  },
  {
   "cell_type": "markdown",
   "metadata": {
    "id": "1xQjV9BuhLu6"
   },
   "source": [
    "**Отправьте свой файл res_fall.csv в контест (https://contest.yandex.ru/contest/52663/problems/A/) и прикрепите/укажите ниже ваш никнейм и ссылку на успешную посылку.**"
   ]
  },
  {
   "cell_type": "markdown",
   "metadata": {
    "id": "QRTbPrgbhLu6"
   },
   "source": [
    "*Дисклеймер:*\n",
    "\n",
    "Успешная посылка в контесте является **обязательным** условием получения полного балла за этот (и следующий) пункт. Если добиться успешной посылки не удастся, баллы будут выставляться на усмотрение проверяюшего. \n",
    "\n",
    "При этом ОК в контесте не гарантирует полный балл. Оценка всё равно может быть снижена в случае обнаружения неэффективностей или ошибок в коде. Если вы сдадите в AnyTask очевидно неработающий код или ноутбук без кода, но при этом в контест будет сдан корректный файл, то это будет расцениваться как плагиат."
   ]
  },
  {
   "cell_type": "markdown",
   "metadata": {
    "id": "1IkQa_gdhLu6"
   },
   "source": [
    "На всякий случай просим вас сдать вместе с ноутбуком файл res_fall.csv в anytask"
   ]
  },
  {
   "cell_type": "markdown",
   "metadata": {
    "id": "k8d711qGhLu7"
   },
   "source": [
    "**Дополнительное задание. [2 бонусных балла] Распределите таким же образом студентов еще и на весенние курсы по выбору.**\n",
    "\n",
    "Если ваш код был хорошо структурирован, то это не составит проблем. \n",
    "\n",
    "Если вы выполнили это задание, сдайте среди прочего файл res_spring.csv в таком же формате, как и res_fall.csv."
   ]
  },
  {
   "cell_type": "raw",
   "metadata": {},
   "source": [
    "Чтобы сработал код весеннего выбора необходимо перезапустить код до момента с первым распределением по осенним дисциплинам"
   ]
  },
  {
   "cell_type": "code",
   "execution_count": 61,
   "metadata": {
    "id": "hwmusOGThLu7"
   },
   "outputs": [],
   "source": [
    "courses18_name = df.groupby('spring_1')['18_group'].count()"
   ]
  },
  {
   "cell_type": "code",
   "execution_count": 62,
   "metadata": {},
   "outputs": [],
   "source": [
    "courses17_name = df.groupby('spring_1')['17_group'].count()"
   ]
  },
  {
   "cell_type": "code",
   "execution_count": 63,
   "metadata": {},
   "outputs": [
    {
     "data": {
      "text/plain": [
       "spring_1\n",
       "Анализ данных в бизнесе                                   20\n",
       "Генеративные модели в машинном обучении                    3\n",
       "Дискретная оптимизация                                    32\n",
       "Дополнительные главы прикладной статистики                11\n",
       "Компьютерное зрение                                        9\n",
       "Компьютерные сети                                         46\n",
       "Конфликты и кооперация                                    13\n",
       "Машинное обучение 2                                       36\n",
       "Методы сжатия и передачи медиаданных                      14\n",
       "Обучение с подкреплением                                  53\n",
       "Проектирование и разработка высоконагруженных сервисов    39\n",
       "Промышленное программирование на языке Java               63\n",
       "Символьные вычисления                                      6\n",
       "Системы баз данных                                         9\n",
       "Численные методы                                           7\n",
       "Name: 18_group, dtype: int64"
      ]
     },
     "execution_count": 63,
     "metadata": {},
     "output_type": "execute_result"
    }
   ],
   "source": [
    "courses18_name"
   ]
  },
  {
   "cell_type": "code",
   "execution_count": 64,
   "metadata": {},
   "outputs": [
    {
     "data": {
      "text/plain": [
       "spring_1\n",
       "Анализ данных в бизнесе                                   20\n",
       "Генеративные модели в машинном обучении                    3\n",
       "Дискретная оптимизация                                    32\n",
       "Дополнительные главы прикладной статистики                11\n",
       "Компьютерное зрение                                        9\n",
       "Компьютерные сети                                         46\n",
       "Конфликты и кооперация                                    13\n",
       "Машинное обучение 2                                       36\n",
       "Методы сжатия и передачи медиаданных                      14\n",
       "Обучение с подкреплением                                  53\n",
       "Проектирование и разработка высоконагруженных сервисов    39\n",
       "Промышленное программирование на языке Java               63\n",
       "Символьные вычисления                                      6\n",
       "Системы баз данных                                         9\n",
       "Численные методы                                           7\n",
       "Name: 17_group, dtype: int64"
      ]
     },
     "execution_count": 64,
     "metadata": {},
     "output_type": "execute_result"
    }
   ],
   "source": [
    "courses17_name"
   ]
  },
  {
   "cell_type": "code",
   "execution_count": 65,
   "metadata": {},
   "outputs": [],
   "source": [
    "courses18_name = df.groupby('spring_1')['18_group'].count()"
   ]
  },
  {
   "cell_type": "markdown",
   "metadata": {},
   "source": [
    "Весенние: везде 30 мест, кроме Обучения с подкреплением (60 мест), Анализа данных в бизнесе (60 мест)."
   ]
  },
  {
   "cell_type": "code",
   "execution_count": 147,
   "metadata": {},
   "outputs": [],
   "source": [
    "capacity = { 'Анализ данных в бизнесе': 60,\n",
    "'Генеративные модели в машинном обучении':30,\n",
    "'Дискретная оптимизация': 30,\n",
    "'Дополнительные главы прикладной статистики': 30,\n",
    "'Компьютерное зрение': 30,\n",
    "'Компьютерные сети': 30,\n",
    "'Конфликты и кооперация':30,\n",
    "'Машинное обучение 2': 30,\n",
    "'Методы сжатия и передачи медиаданных':30,\n",
    "'Обучение с подкреплением': 60,\n",
    "'Проектирование и разработка высоконагруженных сервисов': 30,\n",
    "'Промышленное программирование на языке Java': 30,\n",
    "'Символьные вычисления': 30,\n",
    "'Системы баз данных': 30,\n",
    "'Численные методы': 30                                               \n",
    "}"
   ]
  },
  {
   "cell_type": "code",
   "execution_count": 148,
   "metadata": {},
   "outputs": [],
   "source": [
    "#df"
   ]
  },
  {
   "cell_type": "raw",
   "metadata": {},
   "source": [
    "chat gpt - использование метода append и add"
   ]
  },
  {
   "cell_type": "code",
   "execution_count": 149,
   "metadata": {},
   "outputs": [],
   "source": [
    "enrolled = {course: 0 for course in capacity}\n",
    "assignments = []\n",
    "\n",
    "def assign_courses(df):\n",
    "    df_sorted = df.sort_values(by='percentile', ascending=True)  # Отсортировала \n",
    "    for idx, row in df_sorted.iterrows():\n",
    "        assigned_courses = [] \n",
    "        max_courses = row['count_courses']\n",
    "        # Хранение уже назначенных курсов для студента\n",
    "        already_assigned = set()\n",
    "        skip_mo = (row['17_group'] in (171, 172) or row['is_ml_student'] == 1) and (row['spring_1'] == 'Машинное обучение 2' or row['spring_2'] == 'Машинное обучение 2')\n",
    "        preferred_course = row['spring_1']\n",
    "        if skip_mo:\n",
    "            preferred_course = row['spring_2'] \n",
    "        for choice in (preferred_course, row['spring_2'] if preferred_course == row['spring_1'] else row['spring_1']):\n",
    "            if enrolled[choice] < capacity[choice]:\n",
    "                if choice not in already_assigned:  # Проверка на повторное назначение\n",
    "                    assigned_courses.append(choice)\n",
    "                    enrolled[choice] += 1  \n",
    "                    already_assigned.add(choice)  # Добавляем курс в уже назначенные\n",
    "            else:  # Если мест нет\n",
    "                assigned_courses.append(\"???\")\n",
    "            if len(assigned_courses) == max_courses:\n",
    "                break\n",
    "        for course in assigned_courses:\n",
    "            assignments.append((row['id'], course))\n",
    "    return assignments  \n",
    "# Ваш DataFrame df_filtered уже должен быть определен\n",
    "assignments = assign_courses(df_filtered)\n",
    "\n",
    "assignments_df = pd.DataFrame(assignments, columns=['id', 'assigned_course'])\n",
    "\n",
    "assignments_df['course_num'] = assignments_df.groupby('id').cumcount() + 1\n",
    "result = assignments_df.pivot(index='id', columns='course_num', values='assigned_course')\n",
    "# Переименовываем колонки\n",
    "result.columns = [f'course_{i}' for i in result.columns]\n",
    "result = result.reset_index()\n",
    "\n",
    "# Заменяем NaN в course_2 на \"-\"\n",
    "result['course_2'] = result['course_2'].fillna('-')"
   ]
  },
  {
   "cell_type": "code",
   "execution_count": 150,
   "metadata": {},
   "outputs": [],
   "source": [
    "#result.to_excel('spring_courses.xlsx')"
   ]
  },
  {
   "cell_type": "code",
   "execution_count": 151,
   "metadata": {},
   "outputs": [
    {
     "name": "stdout",
     "output_type": "stream",
     "text": [
      "Оставшиеся места на курсах:\n",
      "Анализ данных в бизнесе: 23 мест(а) осталось\n",
      "Генеративные модели в машинном обучении: 16 мест(а) осталось\n",
      "Дискретная оптимизация: 30 мест(а) осталось\n",
      "Дополнительные главы прикладной статистики: 12 мест(а) осталось\n",
      "Компьютерное зрение: 29 мест(а) осталось\n",
      "Компьютерные сети: 30 мест(а) осталось\n",
      "Конфликты и кооперация: 19 мест(а) осталось\n",
      "Машинное обучение 2: 30 мест(а) осталось\n",
      "Методы сжатия и передачи медиаданных: 22 мест(а) осталось\n",
      "Обучение с подкреплением: 60 мест(а) осталось\n",
      "Проектирование и разработка высоконагруженных сервисов: 30 мест(а) осталось\n",
      "Промышленное программирование на языке Java: 30 мест(а) осталось\n",
      "Символьные вычисления: 9 мест(а) осталось\n",
      "Системы баз данных: 9 мест(а) осталось\n",
      "Численные методы: 11 мест(а) осталось\n"
     ]
    }
   ],
   "source": [
    "print(\"Оставшиеся места на курсах:\")\n",
    "for course, seats in enrolled.items():\n",
    "    print(f\"{course}: {seats} мест(а) осталось\")"
   ]
  },
  {
   "cell_type": "code",
   "execution_count": 152,
   "metadata": {},
   "outputs": [
    {
     "data": {
      "text/html": [
       "<div>\n",
       "<style scoped>\n",
       "    .dataframe tbody tr th:only-of-type {\n",
       "        vertical-align: middle;\n",
       "    }\n",
       "\n",
       "    .dataframe tbody tr th {\n",
       "        vertical-align: top;\n",
       "    }\n",
       "\n",
       "    .dataframe thead th {\n",
       "        text-align: right;\n",
       "    }\n",
       "</style>\n",
       "<table border=\"1\" class=\"dataframe\">\n",
       "  <thead>\n",
       "    <tr style=\"text-align: right;\">\n",
       "      <th></th>\n",
       "      <th>id</th>\n",
       "      <th>course_1</th>\n",
       "      <th>course_2</th>\n",
       "      <th>percentile</th>\n",
       "    </tr>\n",
       "  </thead>\n",
       "  <tbody>\n",
       "    <tr>\n",
       "      <th>0</th>\n",
       "      <td>00b40fe7dbfd23e5daba765244509415</td>\n",
       "      <td>???</td>\n",
       "      <td>-</td>\n",
       "      <td>0.896861</td>\n",
       "    </tr>\n",
       "    <tr>\n",
       "      <th>1</th>\n",
       "      <td>014b72217e20370dab7acc48b20c47be</td>\n",
       "      <td>Системы баз данных</td>\n",
       "      <td>-</td>\n",
       "      <td>0.892377</td>\n",
       "    </tr>\n",
       "    <tr>\n",
       "      <th>2</th>\n",
       "      <td>01b072a0cdb45814fc4ab8ca3e621f0e</td>\n",
       "      <td>Обучение с подкреплением</td>\n",
       "      <td>Компьютерное зрение</td>\n",
       "      <td>0.847826</td>\n",
       "    </tr>\n",
       "    <tr>\n",
       "      <th>3</th>\n",
       "      <td>044e038535ae5d2ff037150b77fdc6d1</td>\n",
       "      <td>Дискретная оптимизация</td>\n",
       "      <td>-</td>\n",
       "      <td>0.139013</td>\n",
       "    </tr>\n",
       "    <tr>\n",
       "      <th>4</th>\n",
       "      <td>04b88fcbe5ba58aa8369c7de5e574de0</td>\n",
       "      <td>Дискретная оптимизация</td>\n",
       "      <td>-</td>\n",
       "      <td>0.121076</td>\n",
       "    </tr>\n",
       "    <tr>\n",
       "      <th>...</th>\n",
       "      <td>...</td>\n",
       "      <td>...</td>\n",
       "      <td>...</td>\n",
       "      <td>...</td>\n",
       "    </tr>\n",
       "    <tr>\n",
       "      <th>342</th>\n",
       "      <td>feb53dcdd28fff9dc4a981c3419fea6f</td>\n",
       "      <td>???</td>\n",
       "      <td>Анализ данных в бизнесе</td>\n",
       "      <td>0.968610</td>\n",
       "    </tr>\n",
       "    <tr>\n",
       "      <th>343</th>\n",
       "      <td>fecff7bd30995d16b59fb392d47b3760</td>\n",
       "      <td>Обучение с подкреплением</td>\n",
       "      <td>Компьютерное зрение</td>\n",
       "      <td>0.094203</td>\n",
       "    </tr>\n",
       "    <tr>\n",
       "      <th>344</th>\n",
       "      <td>ff549c331d45453052f28ad2614afda9</td>\n",
       "      <td>Численные методы</td>\n",
       "      <td>-</td>\n",
       "      <td>0.107623</td>\n",
       "    </tr>\n",
       "    <tr>\n",
       "      <th>345</th>\n",
       "      <td>ffc04c64d068f8d85e4dc44e7f297ecc</td>\n",
       "      <td>Обучение с подкреплением</td>\n",
       "      <td>Генеративные модели в машинном обучении</td>\n",
       "      <td>0.471014</td>\n",
       "    </tr>\n",
       "    <tr>\n",
       "      <th>346</th>\n",
       "      <td>ffc58d371e2f52e1c7f45d49d3d629d0</td>\n",
       "      <td>Системы баз данных</td>\n",
       "      <td>-</td>\n",
       "      <td>0.369955</td>\n",
       "    </tr>\n",
       "  </tbody>\n",
       "</table>\n",
       "<p>347 rows × 4 columns</p>\n",
       "</div>"
      ],
      "text/plain": [
       "                                   id                  course_1  \\\n",
       "0    00b40fe7dbfd23e5daba765244509415                       ???   \n",
       "1    014b72217e20370dab7acc48b20c47be        Системы баз данных   \n",
       "2    01b072a0cdb45814fc4ab8ca3e621f0e  Обучение с подкреплением   \n",
       "3    044e038535ae5d2ff037150b77fdc6d1    Дискретная оптимизация   \n",
       "4    04b88fcbe5ba58aa8369c7de5e574de0    Дискретная оптимизация   \n",
       "..                                ...                       ...   \n",
       "342  feb53dcdd28fff9dc4a981c3419fea6f                       ???   \n",
       "343  fecff7bd30995d16b59fb392d47b3760  Обучение с подкреплением   \n",
       "344  ff549c331d45453052f28ad2614afda9          Численные методы   \n",
       "345  ffc04c64d068f8d85e4dc44e7f297ecc  Обучение с подкреплением   \n",
       "346  ffc58d371e2f52e1c7f45d49d3d629d0        Системы баз данных   \n",
       "\n",
       "                                    course_2  percentile  \n",
       "0                                          -    0.896861  \n",
       "1                                          -    0.892377  \n",
       "2                        Компьютерное зрение    0.847826  \n",
       "3                                          -    0.139013  \n",
       "4                                          -    0.121076  \n",
       "..                                       ...         ...  \n",
       "342                  Анализ данных в бизнесе    0.968610  \n",
       "343                      Компьютерное зрение    0.094203  \n",
       "344                                        -    0.107623  \n",
       "345  Генеративные модели в машинном обучении    0.471014  \n",
       "346                                        -    0.369955  \n",
       "\n",
       "[347 rows x 4 columns]"
      ]
     },
     "execution_count": 152,
     "metadata": {},
     "output_type": "execute_result"
    }
   ],
   "source": [
    "# Объединяем датафреймы result и df_filtered по полю 'id'\n",
    "result = result.merge(df_filtered[['id', 'percentile']], on='id', how='left')\n",
    "\n",
    "# Переименовываем столбец percentile, чтобы избежать дублирования названия колонки\n",
    "result = result.rename(columns={'percentile': 'percentile'})\n",
    "\n",
    "# Вывод результата\n",
    "result"
   ]
  },
  {
   "cell_type": "code",
   "execution_count": 153,
   "metadata": {},
   "outputs": [],
   "source": [
    "df= df_filtered"
   ]
  },
  {
   "cell_type": "code",
   "execution_count": 154,
   "metadata": {},
   "outputs": [],
   "source": [
    "df = pd.merge(result,df,on = 'id')"
   ]
  },
  {
   "cell_type": "code",
   "execution_count": 155,
   "metadata": {},
   "outputs": [
    {
     "data": {
      "text/html": [
       "<div>\n",
       "<style scoped>\n",
       "    .dataframe tbody tr th:only-of-type {\n",
       "        vertical-align: middle;\n",
       "    }\n",
       "\n",
       "    .dataframe tbody tr th {\n",
       "        vertical-align: top;\n",
       "    }\n",
       "\n",
       "    .dataframe thead th {\n",
       "        text-align: right;\n",
       "    }\n",
       "</style>\n",
       "<table border=\"1\" class=\"dataframe\">\n",
       "  <thead>\n",
       "    <tr style=\"text-align: right;\">\n",
       "      <th></th>\n",
       "      <th>id</th>\n",
       "      <th>course_1</th>\n",
       "      <th>course_2</th>\n",
       "      <th>percentile_x</th>\n",
       "      <th>timestamp</th>\n",
       "      <th>rating</th>\n",
       "      <th>18_group</th>\n",
       "      <th>is_mi</th>\n",
       "      <th>fall_1</th>\n",
       "      <th>fall_2</th>\n",
       "      <th>...</th>\n",
       "      <th>spring_2</th>\n",
       "      <th>spring_3</th>\n",
       "      <th>is_first_time</th>\n",
       "      <th>percentile_y</th>\n",
       "      <th>17_group</th>\n",
       "      <th>blended</th>\n",
       "      <th>is_ml_student</th>\n",
       "      <th>Набор дисциплин</th>\n",
       "      <th>new_date</th>\n",
       "      <th>count_courses</th>\n",
       "    </tr>\n",
       "  </thead>\n",
       "  <tbody>\n",
       "    <tr>\n",
       "      <th>0</th>\n",
       "      <td>00b40fe7dbfd23e5daba765244509415</td>\n",
       "      <td>???</td>\n",
       "      <td>-</td>\n",
       "      <td>0.896861</td>\n",
       "      <td>2020-05-18 22:08:11.668</td>\n",
       "      <td>542</td>\n",
       "      <td>187.0</td>\n",
       "      <td>0.0</td>\n",
       "      <td>Безопасность компьютерных систем</td>\n",
       "      <td>Язык SQL</td>\n",
       "      <td>...</td>\n",
       "      <td>Компьютерные сети</td>\n",
       "      <td>Анализ данных в бизнесе</td>\n",
       "      <td>Да</td>\n",
       "      <td>0.896861</td>\n",
       "      <td>0.0</td>\n",
       "      <td></td>\n",
       "      <td>0.0</td>\n",
       "      <td>, Анализ данных в бизнесе, Безопасность компью...</td>\n",
       "      <td>2020-05-18</td>\n",
       "      <td>1</td>\n",
       "    </tr>\n",
       "    <tr>\n",
       "      <th>1</th>\n",
       "      <td>014b72217e20370dab7acc48b20c47be</td>\n",
       "      <td>Системы баз данных</td>\n",
       "      <td>-</td>\n",
       "      <td>0.892377</td>\n",
       "      <td>2020-05-18 16:47:43.131</td>\n",
       "      <td>543</td>\n",
       "      <td>186.0</td>\n",
       "      <td>0.0</td>\n",
       "      <td>Сбор и обработка данных с помощью краудсорсинга</td>\n",
       "      <td>Statistical Learning Theory</td>\n",
       "      <td>...</td>\n",
       "      <td>Машинное обучение 2</td>\n",
       "      <td>Дискретная оптимизация</td>\n",
       "      <td>Да</td>\n",
       "      <td>0.892377</td>\n",
       "      <td>0.0</td>\n",
       "      <td></td>\n",
       "      <td>0.0</td>\n",
       "      <td>, Statistical Learning Theory, Дискретная опти...</td>\n",
       "      <td>2020-05-18</td>\n",
       "      <td>1</td>\n",
       "    </tr>\n",
       "    <tr>\n",
       "      <th>2</th>\n",
       "      <td>01b072a0cdb45814fc4ab8ca3e621f0e</td>\n",
       "      <td>Обучение с подкреплением</td>\n",
       "      <td>Компьютерное зрение</td>\n",
       "      <td>0.847826</td>\n",
       "      <td>2020-05-18 23:01:39.666</td>\n",
       "      <td>1058</td>\n",
       "      <td>0.0</td>\n",
       "      <td>0.0</td>\n",
       "      <td>Анализ неструктурированных данных</td>\n",
       "      <td>Сбор и обработка данных с помощью краудсорсинга</td>\n",
       "      <td>...</td>\n",
       "      <td>Компьютерное зрение</td>\n",
       "      <td>Символьные вычисления</td>\n",
       "      <td>Да</td>\n",
       "      <td>0.847826</td>\n",
       "      <td>173.0</td>\n",
       "      <td>Соревновательный анализ данных</td>\n",
       "      <td>0.0</td>\n",
       "      <td>Анализ неструктурированных данных, Компьютерно...</td>\n",
       "      <td>2020-05-18</td>\n",
       "      <td>2</td>\n",
       "    </tr>\n",
       "    <tr>\n",
       "      <th>3</th>\n",
       "      <td>044e038535ae5d2ff037150b77fdc6d1</td>\n",
       "      <td>Дискретная оптимизация</td>\n",
       "      <td>-</td>\n",
       "      <td>0.139013</td>\n",
       "      <td>2020-05-18 17:56:00.688</td>\n",
       "      <td>710</td>\n",
       "      <td>182.0</td>\n",
       "      <td>0.0</td>\n",
       "      <td>Безопасность компьютерных систем</td>\n",
       "      <td>Statistical Learning Theory</td>\n",
       "      <td>...</td>\n",
       "      <td>Промышленное программирование на языке Java</td>\n",
       "      <td>Дополнительные главы прикладной статистики</td>\n",
       "      <td>Да</td>\n",
       "      <td>0.139013</td>\n",
       "      <td>0.0</td>\n",
       "      <td></td>\n",
       "      <td>1.0</td>\n",
       "      <td>, Statistical Learning Theory, Безопасность ко...</td>\n",
       "      <td>2020-05-18</td>\n",
       "      <td>1</td>\n",
       "    </tr>\n",
       "    <tr>\n",
       "      <th>4</th>\n",
       "      <td>04b88fcbe5ba58aa8369c7de5e574de0</td>\n",
       "      <td>Дискретная оптимизация</td>\n",
       "      <td>-</td>\n",
       "      <td>0.121076</td>\n",
       "      <td>2020-05-18 17:00:34.890</td>\n",
       "      <td>719</td>\n",
       "      <td>181.0</td>\n",
       "      <td>0.0</td>\n",
       "      <td>Безопасность компьютерных систем</td>\n",
       "      <td>Моделирование временных рядов</td>\n",
       "      <td>...</td>\n",
       "      <td>Компьютерные сети</td>\n",
       "      <td>Промышленное программирование на языке Java</td>\n",
       "      <td>Да</td>\n",
       "      <td>0.121076</td>\n",
       "      <td>0.0</td>\n",
       "      <td></td>\n",
       "      <td>0.0</td>\n",
       "      <td>, Безопасность компьютерных систем, Высокопрои...</td>\n",
       "      <td>2020-05-18</td>\n",
       "      <td>1</td>\n",
       "    </tr>\n",
       "    <tr>\n",
       "      <th>...</th>\n",
       "      <td>...</td>\n",
       "      <td>...</td>\n",
       "      <td>...</td>\n",
       "      <td>...</td>\n",
       "      <td>...</td>\n",
       "      <td>...</td>\n",
       "      <td>...</td>\n",
       "      <td>...</td>\n",
       "      <td>...</td>\n",
       "      <td>...</td>\n",
       "      <td>...</td>\n",
       "      <td>...</td>\n",
       "      <td>...</td>\n",
       "      <td>...</td>\n",
       "      <td>...</td>\n",
       "      <td>...</td>\n",
       "      <td>...</td>\n",
       "      <td>...</td>\n",
       "      <td>...</td>\n",
       "      <td>...</td>\n",
       "      <td>...</td>\n",
       "    </tr>\n",
       "    <tr>\n",
       "      <th>342</th>\n",
       "      <td>feb53dcdd28fff9dc4a981c3419fea6f</td>\n",
       "      <td>???</td>\n",
       "      <td>Анализ данных в бизнесе</td>\n",
       "      <td>0.968610</td>\n",
       "      <td>2020-05-18 21:19:50.620</td>\n",
       "      <td>521</td>\n",
       "      <td>186.0</td>\n",
       "      <td>1.0</td>\n",
       "      <td>Безопасность компьютерных систем</td>\n",
       "      <td>Язык SQL</td>\n",
       "      <td>...</td>\n",
       "      <td>Анализ данных в бизнесе</td>\n",
       "      <td>Машинное обучение 2</td>\n",
       "      <td>Нет</td>\n",
       "      <td>0.968610</td>\n",
       "      <td>0.0</td>\n",
       "      <td></td>\n",
       "      <td>0.0</td>\n",
       "      <td>, Анализ данных в бизнесе, Безопасность компью...</td>\n",
       "      <td>2020-05-18</td>\n",
       "      <td>2</td>\n",
       "    </tr>\n",
       "    <tr>\n",
       "      <th>343</th>\n",
       "      <td>fecff7bd30995d16b59fb392d47b3760</td>\n",
       "      <td>Обучение с подкреплением</td>\n",
       "      <td>Компьютерное зрение</td>\n",
       "      <td>0.094203</td>\n",
       "      <td>2020-05-18 14:29:51.415</td>\n",
       "      <td>1278</td>\n",
       "      <td>0.0</td>\n",
       "      <td>0.0</td>\n",
       "      <td>Анализ неструктурированных данных</td>\n",
       "      <td>Безопасность компьютерных систем</td>\n",
       "      <td>...</td>\n",
       "      <td>Компьютерное зрение</td>\n",
       "      <td>Генеративные модели в машинном обучении</td>\n",
       "      <td>Да</td>\n",
       "      <td>0.094203</td>\n",
       "      <td>171.0</td>\n",
       "      <td>DevOps</td>\n",
       "      <td>0.0</td>\n",
       "      <td>DevOps, Анализ неструктурированных данных, Бай...</td>\n",
       "      <td>2020-05-18</td>\n",
       "      <td>2</td>\n",
       "    </tr>\n",
       "    <tr>\n",
       "      <th>344</th>\n",
       "      <td>ff549c331d45453052f28ad2614afda9</td>\n",
       "      <td>Численные методы</td>\n",
       "      <td>-</td>\n",
       "      <td>0.107623</td>\n",
       "      <td>2020-05-18 19:23:23.735</td>\n",
       "      <td>723</td>\n",
       "      <td>182.0</td>\n",
       "      <td>0.0</td>\n",
       "      <td>Моделирование временных рядов</td>\n",
       "      <td>Теория баз данных</td>\n",
       "      <td>...</td>\n",
       "      <td>Анализ данных в бизнесе</td>\n",
       "      <td>Промышленное программирование на языке Java</td>\n",
       "      <td>Да</td>\n",
       "      <td>0.107623</td>\n",
       "      <td>0.0</td>\n",
       "      <td></td>\n",
       "      <td>0.0</td>\n",
       "      <td>, Анализ данных в бизнесе, Матричные вычислени...</td>\n",
       "      <td>2020-05-18</td>\n",
       "      <td>1</td>\n",
       "    </tr>\n",
       "    <tr>\n",
       "      <th>345</th>\n",
       "      <td>ffc04c64d068f8d85e4dc44e7f297ecc</td>\n",
       "      <td>Обучение с подкреплением</td>\n",
       "      <td>Генеративные модели в машинном обучении</td>\n",
       "      <td>0.471014</td>\n",
       "      <td>2020-05-18 21:00:45.274</td>\n",
       "      <td>1163</td>\n",
       "      <td>0.0</td>\n",
       "      <td>0.0</td>\n",
       "      <td>Байесовские методы машинного обучения</td>\n",
       "      <td>Statistical Learning Theory</td>\n",
       "      <td>...</td>\n",
       "      <td>Генеративные модели в машинном обучении</td>\n",
       "      <td>Компьютерное зрение</td>\n",
       "      <td>Нет</td>\n",
       "      <td>0.471014</td>\n",
       "      <td>171.0</td>\n",
       "      <td>Соревновательный анализ данных</td>\n",
       "      <td>0.0</td>\n",
       "      <td>Statistical Learning Theory, Байесовские метод...</td>\n",
       "      <td>2020-05-18</td>\n",
       "      <td>2</td>\n",
       "    </tr>\n",
       "    <tr>\n",
       "      <th>346</th>\n",
       "      <td>ffc58d371e2f52e1c7f45d49d3d629d0</td>\n",
       "      <td>Системы баз данных</td>\n",
       "      <td>-</td>\n",
       "      <td>0.369955</td>\n",
       "      <td>2020-05-18 21:27:02.445</td>\n",
       "      <td>659</td>\n",
       "      <td>187.0</td>\n",
       "      <td>0.0</td>\n",
       "      <td>Матричные вычисления</td>\n",
       "      <td>Сбор и обработка данных с помощью краудсорсинга</td>\n",
       "      <td>...</td>\n",
       "      <td>Промышленное программирование на языке Java</td>\n",
       "      <td>Дополнительные главы прикладной статистики</td>\n",
       "      <td>Нет</td>\n",
       "      <td>0.369955</td>\n",
       "      <td>0.0</td>\n",
       "      <td></td>\n",
       "      <td>1.0</td>\n",
       "      <td>, Дополнительные главы прикладной статистики, ...</td>\n",
       "      <td>2020-05-18</td>\n",
       "      <td>1</td>\n",
       "    </tr>\n",
       "  </tbody>\n",
       "</table>\n",
       "<p>347 rows × 22 columns</p>\n",
       "</div>"
      ],
      "text/plain": [
       "                                   id                  course_1  \\\n",
       "0    00b40fe7dbfd23e5daba765244509415                       ???   \n",
       "1    014b72217e20370dab7acc48b20c47be        Системы баз данных   \n",
       "2    01b072a0cdb45814fc4ab8ca3e621f0e  Обучение с подкреплением   \n",
       "3    044e038535ae5d2ff037150b77fdc6d1    Дискретная оптимизация   \n",
       "4    04b88fcbe5ba58aa8369c7de5e574de0    Дискретная оптимизация   \n",
       "..                                ...                       ...   \n",
       "342  feb53dcdd28fff9dc4a981c3419fea6f                       ???   \n",
       "343  fecff7bd30995d16b59fb392d47b3760  Обучение с подкреплением   \n",
       "344  ff549c331d45453052f28ad2614afda9          Численные методы   \n",
       "345  ffc04c64d068f8d85e4dc44e7f297ecc  Обучение с подкреплением   \n",
       "346  ffc58d371e2f52e1c7f45d49d3d629d0        Системы баз данных   \n",
       "\n",
       "                                    course_2  percentile_x  \\\n",
       "0                                          -      0.896861   \n",
       "1                                          -      0.892377   \n",
       "2                        Компьютерное зрение      0.847826   \n",
       "3                                          -      0.139013   \n",
       "4                                          -      0.121076   \n",
       "..                                       ...           ...   \n",
       "342                  Анализ данных в бизнесе      0.968610   \n",
       "343                      Компьютерное зрение      0.094203   \n",
       "344                                        -      0.107623   \n",
       "345  Генеративные модели в машинном обучении      0.471014   \n",
       "346                                        -      0.369955   \n",
       "\n",
       "                  timestamp  rating  18_group  is_mi  \\\n",
       "0   2020-05-18 22:08:11.668     542     187.0    0.0   \n",
       "1   2020-05-18 16:47:43.131     543     186.0    0.0   \n",
       "2   2020-05-18 23:01:39.666    1058       0.0    0.0   \n",
       "3   2020-05-18 17:56:00.688     710     182.0    0.0   \n",
       "4   2020-05-18 17:00:34.890     719     181.0    0.0   \n",
       "..                      ...     ...       ...    ...   \n",
       "342 2020-05-18 21:19:50.620     521     186.0    1.0   \n",
       "343 2020-05-18 14:29:51.415    1278       0.0    0.0   \n",
       "344 2020-05-18 19:23:23.735     723     182.0    0.0   \n",
       "345 2020-05-18 21:00:45.274    1163       0.0    0.0   \n",
       "346 2020-05-18 21:27:02.445     659     187.0    0.0   \n",
       "\n",
       "                                              fall_1  \\\n",
       "0                   Безопасность компьютерных систем   \n",
       "1    Сбор и обработка данных с помощью краудсорсинга   \n",
       "2                  Анализ неструктурированных данных   \n",
       "3                   Безопасность компьютерных систем   \n",
       "4                   Безопасность компьютерных систем   \n",
       "..                                               ...   \n",
       "342                 Безопасность компьютерных систем   \n",
       "343                Анализ неструктурированных данных   \n",
       "344                    Моделирование временных рядов   \n",
       "345            Байесовские методы машинного обучения   \n",
       "346                             Матричные вычисления   \n",
       "\n",
       "                                              fall_2  ...  \\\n",
       "0                                           Язык SQL  ...   \n",
       "1                        Statistical Learning Theory  ...   \n",
       "2    Сбор и обработка данных с помощью краудсорсинга  ...   \n",
       "3                        Statistical Learning Theory  ...   \n",
       "4                      Моделирование временных рядов  ...   \n",
       "..                                               ...  ...   \n",
       "342                                         Язык SQL  ...   \n",
       "343                 Безопасность компьютерных систем  ...   \n",
       "344                                Теория баз данных  ...   \n",
       "345                      Statistical Learning Theory  ...   \n",
       "346  Сбор и обработка данных с помощью краудсорсинга  ...   \n",
       "\n",
       "                                        spring_2  \\\n",
       "0                              Компьютерные сети   \n",
       "1                            Машинное обучение 2   \n",
       "2                            Компьютерное зрение   \n",
       "3    Промышленное программирование на языке Java   \n",
       "4                              Компьютерные сети   \n",
       "..                                           ...   \n",
       "342                      Анализ данных в бизнесе   \n",
       "343                          Компьютерное зрение   \n",
       "344                      Анализ данных в бизнесе   \n",
       "345      Генеративные модели в машинном обучении   \n",
       "346  Промышленное программирование на языке Java   \n",
       "\n",
       "                                        spring_3 is_first_time percentile_y  \\\n",
       "0                        Анализ данных в бизнесе            Да     0.896861   \n",
       "1                         Дискретная оптимизация            Да     0.892377   \n",
       "2                          Символьные вычисления            Да     0.847826   \n",
       "3     Дополнительные главы прикладной статистики            Да     0.139013   \n",
       "4    Промышленное программирование на языке Java            Да     0.121076   \n",
       "..                                           ...           ...          ...   \n",
       "342                          Машинное обучение 2           Нет     0.968610   \n",
       "343      Генеративные модели в машинном обучении            Да     0.094203   \n",
       "344  Промышленное программирование на языке Java            Да     0.107623   \n",
       "345                          Компьютерное зрение           Нет     0.471014   \n",
       "346   Дополнительные главы прикладной статистики           Нет     0.369955   \n",
       "\n",
       "    17_group                         blended  is_ml_student  \\\n",
       "0        0.0                                            0.0   \n",
       "1        0.0                                            0.0   \n",
       "2      173.0  Соревновательный анализ данных            0.0   \n",
       "3        0.0                                            1.0   \n",
       "4        0.0                                            0.0   \n",
       "..       ...                             ...            ...   \n",
       "342      0.0                                            0.0   \n",
       "343    171.0                          DevOps            0.0   \n",
       "344      0.0                                            0.0   \n",
       "345    171.0  Соревновательный анализ данных            0.0   \n",
       "346      0.0                                            1.0   \n",
       "\n",
       "                                       Набор дисциплин    new_date  \\\n",
       "0    , Анализ данных в бизнесе, Безопасность компью...  2020-05-18   \n",
       "1    , Statistical Learning Theory, Дискретная опти...  2020-05-18   \n",
       "2    Анализ неструктурированных данных, Компьютерно...  2020-05-18   \n",
       "3    , Statistical Learning Theory, Безопасность ко...  2020-05-18   \n",
       "4    , Безопасность компьютерных систем, Высокопрои...  2020-05-18   \n",
       "..                                                 ...         ...   \n",
       "342  , Анализ данных в бизнесе, Безопасность компью...  2020-05-18   \n",
       "343  DevOps, Анализ неструктурированных данных, Бай...  2020-05-18   \n",
       "344  , Анализ данных в бизнесе, Матричные вычислени...  2020-05-18   \n",
       "345  Statistical Learning Theory, Байесовские метод...  2020-05-18   \n",
       "346  , Дополнительные главы прикладной статистики, ...  2020-05-18   \n",
       "\n",
       "    count_courses  \n",
       "0               1  \n",
       "1               1  \n",
       "2               2  \n",
       "3               1  \n",
       "4               1  \n",
       "..            ...  \n",
       "342             2  \n",
       "343             2  \n",
       "344             1  \n",
       "345             2  \n",
       "346             1  \n",
       "\n",
       "[347 rows x 22 columns]"
      ]
     },
     "execution_count": 155,
     "metadata": {},
     "output_type": "execute_result"
    }
   ],
   "source": [
    "df"
   ]
  },
  {
   "cell_type": "raw",
   "metadata": {},
   "source": [
    "ООставшиеся места на курсах:\n",
    "Анализ данных в бизнесе: 23 мест(а) осталось\n",
    "Генеративные модели в машинном обучении: 16 мест(а) осталось\n",
    "Дискретная оптимизация: 30 мест(а) осталось\n",
    "Дополнительные главы прикладной статистики: 12 мест(а) осталось\n",
    "Компьютерное зрение: 29 мест(а) осталось\n",
    "Компьютерные сети: 30 мест(а) осталось\n",
    "Конфликты и кооперация: 19 мест(а) осталось\n",
    "Машинное обучение 2: 30 мест(а) осталось\n",
    "Методы сжатия и передачи медиаданных: 22 мест(а) осталось\n",
    "Обучение с подкреплением: 60 мест(а) осталось\n",
    "Проектирование и разработка высоконагруженных сервисов: 30 мест(а) осталось\n",
    "Промышленное программирование на языке Java: 30 мест(а) осталось\n",
    "Символьные вычисления: 9 мест(а) осталось\n",
    "Системы баз данных: 9 мест(а) осталось\n",
    "Численные методы: 11 мест(а) осталось"
   ]
  },
  {
   "cell_type": "code",
   "execution_count": 156,
   "metadata": {},
   "outputs": [
    {
     "data": {
      "text/html": [
       "<div>\n",
       "<style scoped>\n",
       "    .dataframe tbody tr th:only-of-type {\n",
       "        vertical-align: middle;\n",
       "    }\n",
       "\n",
       "    .dataframe tbody tr th {\n",
       "        vertical-align: top;\n",
       "    }\n",
       "\n",
       "    .dataframe thead th {\n",
       "        text-align: right;\n",
       "    }\n",
       "</style>\n",
       "<table border=\"1\" class=\"dataframe\">\n",
       "  <thead>\n",
       "    <tr style=\"text-align: right;\">\n",
       "      <th></th>\n",
       "      <th>id</th>\n",
       "      <th>assigned_course</th>\n",
       "    </tr>\n",
       "  </thead>\n",
       "  <tbody>\n",
       "    <tr>\n",
       "      <th>0</th>\n",
       "      <td>2662600c2c37e11e62f6ee0b88452f22</td>\n",
       "      <td>Промышленное программирование на языке Java</td>\n",
       "    </tr>\n",
       "    <tr>\n",
       "      <th>1</th>\n",
       "      <td>e8b314842f176be9051d14a07cb156cb</td>\n",
       "      <td>Компьютерные сети</td>\n",
       "    </tr>\n",
       "    <tr>\n",
       "      <th>2</th>\n",
       "      <td>42df9e301b39e4295fe849aa2abdfc7c</td>\n",
       "      <td>Компьютерные сети</td>\n",
       "    </tr>\n",
       "    <tr>\n",
       "      <th>3</th>\n",
       "      <td>d82c2df25b8b36cd655077b4a885e1f7</td>\n",
       "      <td>Компьютерные сети</td>\n",
       "    </tr>\n",
       "    <tr>\n",
       "      <th>4</th>\n",
       "      <td>f941beb89ecc5c59076bcfa79691116c</td>\n",
       "      <td>Системы баз данных</td>\n",
       "    </tr>\n",
       "    <tr>\n",
       "      <th>...</th>\n",
       "      <td>...</td>\n",
       "      <td>...</td>\n",
       "    </tr>\n",
       "    <tr>\n",
       "      <th>69</th>\n",
       "      <td>f5d9f99cb876ca0888d18b6e444fa1b1</td>\n",
       "      <td>Машинное обучение 2</td>\n",
       "    </tr>\n",
       "    <tr>\n",
       "      <th>70</th>\n",
       "      <td>79d14db48e4737af731960ae212d5134</td>\n",
       "      <td>Компьютерное зрение</td>\n",
       "    </tr>\n",
       "    <tr>\n",
       "      <th>71</th>\n",
       "      <td>40b18d40197e3db66312a026e06b8ff1</td>\n",
       "      <td>Компьютерные сети</td>\n",
       "    </tr>\n",
       "    <tr>\n",
       "      <th>72</th>\n",
       "      <td>be4fa2120de3397ae21eac38ff0060e3</td>\n",
       "      <td>Численные методы</td>\n",
       "    </tr>\n",
       "    <tr>\n",
       "      <th>73</th>\n",
       "      <td>d539461bf254cf8b3201cdf7990b119e</td>\n",
       "      <td>Компьютерное зрение</td>\n",
       "    </tr>\n",
       "  </tbody>\n",
       "</table>\n",
       "<p>74 rows × 2 columns</p>\n",
       "</div>"
      ],
      "text/plain": [
       "                                  id  \\\n",
       "0   2662600c2c37e11e62f6ee0b88452f22   \n",
       "1   e8b314842f176be9051d14a07cb156cb   \n",
       "2   42df9e301b39e4295fe849aa2abdfc7c   \n",
       "3   d82c2df25b8b36cd655077b4a885e1f7   \n",
       "4   f941beb89ecc5c59076bcfa79691116c   \n",
       "..                               ...   \n",
       "69  f5d9f99cb876ca0888d18b6e444fa1b1   \n",
       "70  79d14db48e4737af731960ae212d5134   \n",
       "71  40b18d40197e3db66312a026e06b8ff1   \n",
       "72  be4fa2120de3397ae21eac38ff0060e3   \n",
       "73  d539461bf254cf8b3201cdf7990b119e   \n",
       "\n",
       "                                assigned_course  \n",
       "0   Промышленное программирование на языке Java  \n",
       "1                             Компьютерные сети  \n",
       "2                             Компьютерные сети  \n",
       "3                             Компьютерные сети  \n",
       "4                            Системы баз данных  \n",
       "..                                          ...  \n",
       "69                          Машинное обучение 2  \n",
       "70                          Компьютерное зрение  \n",
       "71                            Компьютерные сети  \n",
       "72                             Численные методы  \n",
       "73                          Компьютерное зрение  \n",
       "\n",
       "[74 rows x 2 columns]"
      ]
     },
     "execution_count": 156,
     "metadata": {},
     "output_type": "execute_result"
    }
   ],
   "source": [
    "import pandas as pd\n",
    "import numpy as np\n",
    "\n",
    "# Словарь оставшихся мест для курсов\n",
    "remaining_seats = {   \n",
    "    'Анализ данных в бизнесе': 23,\n",
    "    'Генеративные модели в машинном обучении': 16,\n",
    "    'Дискретная оптимизация': 30,\n",
    "    'Дополнительные главы прикладной статистики': 12,\n",
    "    'Компьютерное зрение': 29,\n",
    "    'Компьютерные сети': 30,\n",
    "    'Конфликты и кооперация': 19,\n",
    "    'Машинное обучение 2': 30,\n",
    "    'Методы сжатия и передачи медиаданных': 22,\n",
    "    'Обучение с подкреплением': 60,\n",
    "    'Проектирование и разработка высоконагруженных сервисов': 30,\n",
    "    'Промышленное программирование на языке Java': 30,\n",
    "    'Символьные вычисления': 9,\n",
    "    'Системы баз данных': 9,\n",
    "    'Численные методы': 11      \n",
    "}\n",
    "\n",
    "students2 = df[\n",
    "    (df['course_2'] == '???') | \n",
    "    (df['course_1'] == '???') \n",
    "].sort_values(by='percentile_x', ascending=True)\n",
    "\n",
    "results = []\n",
    "for index, student in students2.iterrows():\n",
    "    preferred_course = student['spring_2']  \n",
    "    secondary_course = student['spring_3'] if student['count_courses'] == 2 else None\n",
    "\n",
    "    assigned_courses = set()\n",
    "    if student['course_1'] != '???':\n",
    "        assigned_courses.add(student['course_1'])\n",
    "    if student['course_2'] != '???':\n",
    "        assigned_courses.add(student['course_2'])\n",
    "\n",
    "    # Добавляем условие skip_mo\n",
    "    skip_mo = (student['17_group'] in (171, 172) or student['is_ml_student'] == 1) and (preferred_course == 'Машинное обучение 2')\n",
    "\n",
    "    # Проверка для предпочтительного курса\n",
    "    if not skip_mo and preferred_course in remaining_seats and remaining_seats[preferred_course] > 0 and preferred_course not in assigned_courses:\n",
    "        results.append((student['id'], preferred_course))\n",
    "        remaining_seats[preferred_course] -= 1\n",
    "    elif secondary_course and secondary_course in remaining_seats and remaining_seats[secondary_course] > 0 and secondary_course not in assigned_courses:\n",
    "        results.append((student['id'], secondary_course))\n",
    "        remaining_seats[secondary_course] -= 1\n",
    "\n",
    "results_df = pd.DataFrame(results, columns=['id', 'assigned_course'])\n",
    "\n",
    "\n",
    "results_df"
   ]
  },
  {
   "cell_type": "code",
   "execution_count": 157,
   "metadata": {},
   "outputs": [],
   "source": [
    "results_df = pd.DataFrame(results, columns=['student_id', 'course'])"
   ]
  },
  {
   "cell_type": "code",
   "execution_count": 158,
   "metadata": {},
   "outputs": [],
   "source": [
    "for index, row in results_df.iterrows():\n",
    "    student_id = row['student_id']\n",
    "    course_name = row['course']\n",
    "    # Замена \"???\" на курс в столбце course_1\n",
    "    df.loc[(df['id'] == student_id) & (df['course_1'] == '???'), 'course_1'] = course_name\n",
    "    # Замена \"???\" на курс в столбце course_2\n",
    "    df.loc[(df['id'] == student_id) & (df['course_2'] == '???'), 'course_2'] = course_name"
   ]
  },
  {
   "cell_type": "code",
   "execution_count": 159,
   "metadata": {},
   "outputs": [
    {
     "data": {
      "text/html": [
       "<div>\n",
       "<style scoped>\n",
       "    .dataframe tbody tr th:only-of-type {\n",
       "        vertical-align: middle;\n",
       "    }\n",
       "\n",
       "    .dataframe tbody tr th {\n",
       "        vertical-align: top;\n",
       "    }\n",
       "\n",
       "    .dataframe thead th {\n",
       "        text-align: right;\n",
       "    }\n",
       "</style>\n",
       "<table border=\"1\" class=\"dataframe\">\n",
       "  <thead>\n",
       "    <tr style=\"text-align: right;\">\n",
       "      <th></th>\n",
       "      <th>id</th>\n",
       "      <th>course_1</th>\n",
       "      <th>course_2</th>\n",
       "      <th>percentile_x</th>\n",
       "      <th>timestamp</th>\n",
       "      <th>rating</th>\n",
       "      <th>18_group</th>\n",
       "      <th>is_mi</th>\n",
       "      <th>fall_1</th>\n",
       "      <th>fall_2</th>\n",
       "      <th>...</th>\n",
       "      <th>spring_2</th>\n",
       "      <th>spring_3</th>\n",
       "      <th>is_first_time</th>\n",
       "      <th>percentile_y</th>\n",
       "      <th>17_group</th>\n",
       "      <th>blended</th>\n",
       "      <th>is_ml_student</th>\n",
       "      <th>Набор дисциплин</th>\n",
       "      <th>new_date</th>\n",
       "      <th>count_courses</th>\n",
       "    </tr>\n",
       "  </thead>\n",
       "  <tbody>\n",
       "    <tr>\n",
       "      <th>0</th>\n",
       "      <td>00b40fe7dbfd23e5daba765244509415</td>\n",
       "      <td>Компьютерные сети</td>\n",
       "      <td>-</td>\n",
       "      <td>0.896861</td>\n",
       "      <td>2020-05-18 22:08:11.668</td>\n",
       "      <td>542</td>\n",
       "      <td>187.0</td>\n",
       "      <td>0.0</td>\n",
       "      <td>Безопасность компьютерных систем</td>\n",
       "      <td>Язык SQL</td>\n",
       "      <td>...</td>\n",
       "      <td>Компьютерные сети</td>\n",
       "      <td>Анализ данных в бизнесе</td>\n",
       "      <td>Да</td>\n",
       "      <td>0.896861</td>\n",
       "      <td>0.0</td>\n",
       "      <td></td>\n",
       "      <td>0.0</td>\n",
       "      <td>, Анализ данных в бизнесе, Безопасность компью...</td>\n",
       "      <td>2020-05-18</td>\n",
       "      <td>1</td>\n",
       "    </tr>\n",
       "    <tr>\n",
       "      <th>1</th>\n",
       "      <td>014b72217e20370dab7acc48b20c47be</td>\n",
       "      <td>Системы баз данных</td>\n",
       "      <td>-</td>\n",
       "      <td>0.892377</td>\n",
       "      <td>2020-05-18 16:47:43.131</td>\n",
       "      <td>543</td>\n",
       "      <td>186.0</td>\n",
       "      <td>0.0</td>\n",
       "      <td>Сбор и обработка данных с помощью краудсорсинга</td>\n",
       "      <td>Statistical Learning Theory</td>\n",
       "      <td>...</td>\n",
       "      <td>Машинное обучение 2</td>\n",
       "      <td>Дискретная оптимизация</td>\n",
       "      <td>Да</td>\n",
       "      <td>0.892377</td>\n",
       "      <td>0.0</td>\n",
       "      <td></td>\n",
       "      <td>0.0</td>\n",
       "      <td>, Statistical Learning Theory, Дискретная опти...</td>\n",
       "      <td>2020-05-18</td>\n",
       "      <td>1</td>\n",
       "    </tr>\n",
       "    <tr>\n",
       "      <th>2</th>\n",
       "      <td>01b072a0cdb45814fc4ab8ca3e621f0e</td>\n",
       "      <td>Обучение с подкреплением</td>\n",
       "      <td>Компьютерное зрение</td>\n",
       "      <td>0.847826</td>\n",
       "      <td>2020-05-18 23:01:39.666</td>\n",
       "      <td>1058</td>\n",
       "      <td>0.0</td>\n",
       "      <td>0.0</td>\n",
       "      <td>Анализ неструктурированных данных</td>\n",
       "      <td>Сбор и обработка данных с помощью краудсорсинга</td>\n",
       "      <td>...</td>\n",
       "      <td>Компьютерное зрение</td>\n",
       "      <td>Символьные вычисления</td>\n",
       "      <td>Да</td>\n",
       "      <td>0.847826</td>\n",
       "      <td>173.0</td>\n",
       "      <td>Соревновательный анализ данных</td>\n",
       "      <td>0.0</td>\n",
       "      <td>Анализ неструктурированных данных, Компьютерно...</td>\n",
       "      <td>2020-05-18</td>\n",
       "      <td>2</td>\n",
       "    </tr>\n",
       "    <tr>\n",
       "      <th>3</th>\n",
       "      <td>044e038535ae5d2ff037150b77fdc6d1</td>\n",
       "      <td>Дискретная оптимизация</td>\n",
       "      <td>-</td>\n",
       "      <td>0.139013</td>\n",
       "      <td>2020-05-18 17:56:00.688</td>\n",
       "      <td>710</td>\n",
       "      <td>182.0</td>\n",
       "      <td>0.0</td>\n",
       "      <td>Безопасность компьютерных систем</td>\n",
       "      <td>Statistical Learning Theory</td>\n",
       "      <td>...</td>\n",
       "      <td>Промышленное программирование на языке Java</td>\n",
       "      <td>Дополнительные главы прикладной статистики</td>\n",
       "      <td>Да</td>\n",
       "      <td>0.139013</td>\n",
       "      <td>0.0</td>\n",
       "      <td></td>\n",
       "      <td>1.0</td>\n",
       "      <td>, Statistical Learning Theory, Безопасность ко...</td>\n",
       "      <td>2020-05-18</td>\n",
       "      <td>1</td>\n",
       "    </tr>\n",
       "    <tr>\n",
       "      <th>4</th>\n",
       "      <td>04b88fcbe5ba58aa8369c7de5e574de0</td>\n",
       "      <td>Дискретная оптимизация</td>\n",
       "      <td>-</td>\n",
       "      <td>0.121076</td>\n",
       "      <td>2020-05-18 17:00:34.890</td>\n",
       "      <td>719</td>\n",
       "      <td>181.0</td>\n",
       "      <td>0.0</td>\n",
       "      <td>Безопасность компьютерных систем</td>\n",
       "      <td>Моделирование временных рядов</td>\n",
       "      <td>...</td>\n",
       "      <td>Компьютерные сети</td>\n",
       "      <td>Промышленное программирование на языке Java</td>\n",
       "      <td>Да</td>\n",
       "      <td>0.121076</td>\n",
       "      <td>0.0</td>\n",
       "      <td></td>\n",
       "      <td>0.0</td>\n",
       "      <td>, Безопасность компьютерных систем, Высокопрои...</td>\n",
       "      <td>2020-05-18</td>\n",
       "      <td>1</td>\n",
       "    </tr>\n",
       "    <tr>\n",
       "      <th>...</th>\n",
       "      <td>...</td>\n",
       "      <td>...</td>\n",
       "      <td>...</td>\n",
       "      <td>...</td>\n",
       "      <td>...</td>\n",
       "      <td>...</td>\n",
       "      <td>...</td>\n",
       "      <td>...</td>\n",
       "      <td>...</td>\n",
       "      <td>...</td>\n",
       "      <td>...</td>\n",
       "      <td>...</td>\n",
       "      <td>...</td>\n",
       "      <td>...</td>\n",
       "      <td>...</td>\n",
       "      <td>...</td>\n",
       "      <td>...</td>\n",
       "      <td>...</td>\n",
       "      <td>...</td>\n",
       "      <td>...</td>\n",
       "      <td>...</td>\n",
       "    </tr>\n",
       "    <tr>\n",
       "      <th>342</th>\n",
       "      <td>feb53dcdd28fff9dc4a981c3419fea6f</td>\n",
       "      <td>Машинное обучение 2</td>\n",
       "      <td>Анализ данных в бизнесе</td>\n",
       "      <td>0.968610</td>\n",
       "      <td>2020-05-18 21:19:50.620</td>\n",
       "      <td>521</td>\n",
       "      <td>186.0</td>\n",
       "      <td>1.0</td>\n",
       "      <td>Безопасность компьютерных систем</td>\n",
       "      <td>Язык SQL</td>\n",
       "      <td>...</td>\n",
       "      <td>Анализ данных в бизнесе</td>\n",
       "      <td>Машинное обучение 2</td>\n",
       "      <td>Нет</td>\n",
       "      <td>0.968610</td>\n",
       "      <td>0.0</td>\n",
       "      <td></td>\n",
       "      <td>0.0</td>\n",
       "      <td>, Анализ данных в бизнесе, Безопасность компью...</td>\n",
       "      <td>2020-05-18</td>\n",
       "      <td>2</td>\n",
       "    </tr>\n",
       "    <tr>\n",
       "      <th>343</th>\n",
       "      <td>fecff7bd30995d16b59fb392d47b3760</td>\n",
       "      <td>Обучение с подкреплением</td>\n",
       "      <td>Компьютерное зрение</td>\n",
       "      <td>0.094203</td>\n",
       "      <td>2020-05-18 14:29:51.415</td>\n",
       "      <td>1278</td>\n",
       "      <td>0.0</td>\n",
       "      <td>0.0</td>\n",
       "      <td>Анализ неструктурированных данных</td>\n",
       "      <td>Безопасность компьютерных систем</td>\n",
       "      <td>...</td>\n",
       "      <td>Компьютерное зрение</td>\n",
       "      <td>Генеративные модели в машинном обучении</td>\n",
       "      <td>Да</td>\n",
       "      <td>0.094203</td>\n",
       "      <td>171.0</td>\n",
       "      <td>DevOps</td>\n",
       "      <td>0.0</td>\n",
       "      <td>DevOps, Анализ неструктурированных данных, Бай...</td>\n",
       "      <td>2020-05-18</td>\n",
       "      <td>2</td>\n",
       "    </tr>\n",
       "    <tr>\n",
       "      <th>344</th>\n",
       "      <td>ff549c331d45453052f28ad2614afda9</td>\n",
       "      <td>Численные методы</td>\n",
       "      <td>-</td>\n",
       "      <td>0.107623</td>\n",
       "      <td>2020-05-18 19:23:23.735</td>\n",
       "      <td>723</td>\n",
       "      <td>182.0</td>\n",
       "      <td>0.0</td>\n",
       "      <td>Моделирование временных рядов</td>\n",
       "      <td>Теория баз данных</td>\n",
       "      <td>...</td>\n",
       "      <td>Анализ данных в бизнесе</td>\n",
       "      <td>Промышленное программирование на языке Java</td>\n",
       "      <td>Да</td>\n",
       "      <td>0.107623</td>\n",
       "      <td>0.0</td>\n",
       "      <td></td>\n",
       "      <td>0.0</td>\n",
       "      <td>, Анализ данных в бизнесе, Матричные вычислени...</td>\n",
       "      <td>2020-05-18</td>\n",
       "      <td>1</td>\n",
       "    </tr>\n",
       "    <tr>\n",
       "      <th>345</th>\n",
       "      <td>ffc04c64d068f8d85e4dc44e7f297ecc</td>\n",
       "      <td>Обучение с подкреплением</td>\n",
       "      <td>Генеративные модели в машинном обучении</td>\n",
       "      <td>0.471014</td>\n",
       "      <td>2020-05-18 21:00:45.274</td>\n",
       "      <td>1163</td>\n",
       "      <td>0.0</td>\n",
       "      <td>0.0</td>\n",
       "      <td>Байесовские методы машинного обучения</td>\n",
       "      <td>Statistical Learning Theory</td>\n",
       "      <td>...</td>\n",
       "      <td>Генеративные модели в машинном обучении</td>\n",
       "      <td>Компьютерное зрение</td>\n",
       "      <td>Нет</td>\n",
       "      <td>0.471014</td>\n",
       "      <td>171.0</td>\n",
       "      <td>Соревновательный анализ данных</td>\n",
       "      <td>0.0</td>\n",
       "      <td>Statistical Learning Theory, Байесовские метод...</td>\n",
       "      <td>2020-05-18</td>\n",
       "      <td>2</td>\n",
       "    </tr>\n",
       "    <tr>\n",
       "      <th>346</th>\n",
       "      <td>ffc58d371e2f52e1c7f45d49d3d629d0</td>\n",
       "      <td>Системы баз данных</td>\n",
       "      <td>-</td>\n",
       "      <td>0.369955</td>\n",
       "      <td>2020-05-18 21:27:02.445</td>\n",
       "      <td>659</td>\n",
       "      <td>187.0</td>\n",
       "      <td>0.0</td>\n",
       "      <td>Матричные вычисления</td>\n",
       "      <td>Сбор и обработка данных с помощью краудсорсинга</td>\n",
       "      <td>...</td>\n",
       "      <td>Промышленное программирование на языке Java</td>\n",
       "      <td>Дополнительные главы прикладной статистики</td>\n",
       "      <td>Нет</td>\n",
       "      <td>0.369955</td>\n",
       "      <td>0.0</td>\n",
       "      <td></td>\n",
       "      <td>1.0</td>\n",
       "      <td>, Дополнительные главы прикладной статистики, ...</td>\n",
       "      <td>2020-05-18</td>\n",
       "      <td>1</td>\n",
       "    </tr>\n",
       "  </tbody>\n",
       "</table>\n",
       "<p>347 rows × 22 columns</p>\n",
       "</div>"
      ],
      "text/plain": [
       "                                   id                  course_1  \\\n",
       "0    00b40fe7dbfd23e5daba765244509415         Компьютерные сети   \n",
       "1    014b72217e20370dab7acc48b20c47be        Системы баз данных   \n",
       "2    01b072a0cdb45814fc4ab8ca3e621f0e  Обучение с подкреплением   \n",
       "3    044e038535ae5d2ff037150b77fdc6d1    Дискретная оптимизация   \n",
       "4    04b88fcbe5ba58aa8369c7de5e574de0    Дискретная оптимизация   \n",
       "..                                ...                       ...   \n",
       "342  feb53dcdd28fff9dc4a981c3419fea6f       Машинное обучение 2   \n",
       "343  fecff7bd30995d16b59fb392d47b3760  Обучение с подкреплением   \n",
       "344  ff549c331d45453052f28ad2614afda9          Численные методы   \n",
       "345  ffc04c64d068f8d85e4dc44e7f297ecc  Обучение с подкреплением   \n",
       "346  ffc58d371e2f52e1c7f45d49d3d629d0        Системы баз данных   \n",
       "\n",
       "                                    course_2  percentile_x  \\\n",
       "0                                          -      0.896861   \n",
       "1                                          -      0.892377   \n",
       "2                        Компьютерное зрение      0.847826   \n",
       "3                                          -      0.139013   \n",
       "4                                          -      0.121076   \n",
       "..                                       ...           ...   \n",
       "342                  Анализ данных в бизнесе      0.968610   \n",
       "343                      Компьютерное зрение      0.094203   \n",
       "344                                        -      0.107623   \n",
       "345  Генеративные модели в машинном обучении      0.471014   \n",
       "346                                        -      0.369955   \n",
       "\n",
       "                  timestamp  rating  18_group  is_mi  \\\n",
       "0   2020-05-18 22:08:11.668     542     187.0    0.0   \n",
       "1   2020-05-18 16:47:43.131     543     186.0    0.0   \n",
       "2   2020-05-18 23:01:39.666    1058       0.0    0.0   \n",
       "3   2020-05-18 17:56:00.688     710     182.0    0.0   \n",
       "4   2020-05-18 17:00:34.890     719     181.0    0.0   \n",
       "..                      ...     ...       ...    ...   \n",
       "342 2020-05-18 21:19:50.620     521     186.0    1.0   \n",
       "343 2020-05-18 14:29:51.415    1278       0.0    0.0   \n",
       "344 2020-05-18 19:23:23.735     723     182.0    0.0   \n",
       "345 2020-05-18 21:00:45.274    1163       0.0    0.0   \n",
       "346 2020-05-18 21:27:02.445     659     187.0    0.0   \n",
       "\n",
       "                                              fall_1  \\\n",
       "0                   Безопасность компьютерных систем   \n",
       "1    Сбор и обработка данных с помощью краудсорсинга   \n",
       "2                  Анализ неструктурированных данных   \n",
       "3                   Безопасность компьютерных систем   \n",
       "4                   Безопасность компьютерных систем   \n",
       "..                                               ...   \n",
       "342                 Безопасность компьютерных систем   \n",
       "343                Анализ неструктурированных данных   \n",
       "344                    Моделирование временных рядов   \n",
       "345            Байесовские методы машинного обучения   \n",
       "346                             Матричные вычисления   \n",
       "\n",
       "                                              fall_2  ...  \\\n",
       "0                                           Язык SQL  ...   \n",
       "1                        Statistical Learning Theory  ...   \n",
       "2    Сбор и обработка данных с помощью краудсорсинга  ...   \n",
       "3                        Statistical Learning Theory  ...   \n",
       "4                      Моделирование временных рядов  ...   \n",
       "..                                               ...  ...   \n",
       "342                                         Язык SQL  ...   \n",
       "343                 Безопасность компьютерных систем  ...   \n",
       "344                                Теория баз данных  ...   \n",
       "345                      Statistical Learning Theory  ...   \n",
       "346  Сбор и обработка данных с помощью краудсорсинга  ...   \n",
       "\n",
       "                                        spring_2  \\\n",
       "0                              Компьютерные сети   \n",
       "1                            Машинное обучение 2   \n",
       "2                            Компьютерное зрение   \n",
       "3    Промышленное программирование на языке Java   \n",
       "4                              Компьютерные сети   \n",
       "..                                           ...   \n",
       "342                      Анализ данных в бизнесе   \n",
       "343                          Компьютерное зрение   \n",
       "344                      Анализ данных в бизнесе   \n",
       "345      Генеративные модели в машинном обучении   \n",
       "346  Промышленное программирование на языке Java   \n",
       "\n",
       "                                        spring_3 is_first_time percentile_y  \\\n",
       "0                        Анализ данных в бизнесе            Да     0.896861   \n",
       "1                         Дискретная оптимизация            Да     0.892377   \n",
       "2                          Символьные вычисления            Да     0.847826   \n",
       "3     Дополнительные главы прикладной статистики            Да     0.139013   \n",
       "4    Промышленное программирование на языке Java            Да     0.121076   \n",
       "..                                           ...           ...          ...   \n",
       "342                          Машинное обучение 2           Нет     0.968610   \n",
       "343      Генеративные модели в машинном обучении            Да     0.094203   \n",
       "344  Промышленное программирование на языке Java            Да     0.107623   \n",
       "345                          Компьютерное зрение           Нет     0.471014   \n",
       "346   Дополнительные главы прикладной статистики           Нет     0.369955   \n",
       "\n",
       "    17_group                         blended  is_ml_student  \\\n",
       "0        0.0                                            0.0   \n",
       "1        0.0                                            0.0   \n",
       "2      173.0  Соревновательный анализ данных            0.0   \n",
       "3        0.0                                            1.0   \n",
       "4        0.0                                            0.0   \n",
       "..       ...                             ...            ...   \n",
       "342      0.0                                            0.0   \n",
       "343    171.0                          DevOps            0.0   \n",
       "344      0.0                                            0.0   \n",
       "345    171.0  Соревновательный анализ данных            0.0   \n",
       "346      0.0                                            1.0   \n",
       "\n",
       "                                       Набор дисциплин    new_date  \\\n",
       "0    , Анализ данных в бизнесе, Безопасность компью...  2020-05-18   \n",
       "1    , Statistical Learning Theory, Дискретная опти...  2020-05-18   \n",
       "2    Анализ неструктурированных данных, Компьютерно...  2020-05-18   \n",
       "3    , Statistical Learning Theory, Безопасность ко...  2020-05-18   \n",
       "4    , Безопасность компьютерных систем, Высокопрои...  2020-05-18   \n",
       "..                                                 ...         ...   \n",
       "342  , Анализ данных в бизнесе, Безопасность компью...  2020-05-18   \n",
       "343  DevOps, Анализ неструктурированных данных, Бай...  2020-05-18   \n",
       "344  , Анализ данных в бизнесе, Матричные вычислени...  2020-05-18   \n",
       "345  Statistical Learning Theory, Байесовские метод...  2020-05-18   \n",
       "346  , Дополнительные главы прикладной статистики, ...  2020-05-18   \n",
       "\n",
       "    count_courses  \n",
       "0               1  \n",
       "1               1  \n",
       "2               2  \n",
       "3               1  \n",
       "4               1  \n",
       "..            ...  \n",
       "342             2  \n",
       "343             2  \n",
       "344             1  \n",
       "345             2  \n",
       "346             1  \n",
       "\n",
       "[347 rows x 22 columns]"
      ]
     },
     "execution_count": 159,
     "metadata": {},
     "output_type": "execute_result"
    }
   ],
   "source": [
    "df"
   ]
  },
  {
   "cell_type": "code",
   "execution_count": 162,
   "metadata": {},
   "outputs": [
    {
     "name": "stdout",
     "output_type": "stream",
     "text": [
      "Оставшиеся места на курсах:\n",
      "Анализ данных в бизнесе: 23 мест(а) осталось\n",
      "Генеративные модели в машинном обучении: 16 мест(а) осталось\n",
      "Дискретная оптимизация: 30 мест(а) осталось\n",
      "Дополнительные главы прикладной статистики: 14 мест(а) осталось\n",
      "Компьютерное зрение: 29 мест(а) осталось\n",
      "Компьютерные сети: 30 мест(а) осталось\n",
      "Конфликты и кооперация: 19 мест(а) осталось\n",
      "Машинное обучение 2: 30 мест(а) осталось\n",
      "Методы сжатия и передачи медиаданных: 23 мест(а) осталось\n",
      "Обучение с подкреплением: 60 мест(а) осталось\n",
      "Проектирование и разработка высоконагруженных сервисов: 30 мест(а) осталось\n",
      "Промышленное программирование на языке Java: 30 мест(а) осталось\n",
      "Символьные вычисления: 10 мест(а) осталось\n",
      "Системы баз данных: 9 мест(а) осталось\n",
      "Численные методы: 11 мест(а) осталось\n"
     ]
    }
   ],
   "source": [
    "print(\"Оставшиеся места на курсах:\")\n",
    "for course, seats in remaining_seats_spring.items():\n",
    "    print(f\"{course}: {seats} мест(а) осталось\")"
   ]
  },
  {
   "cell_type": "code",
   "execution_count": 161,
   "metadata": {},
   "outputs": [
    {
     "data": {
      "text/html": [
       "<div>\n",
       "<style scoped>\n",
       "    .dataframe tbody tr th:only-of-type {\n",
       "        vertical-align: middle;\n",
       "    }\n",
       "\n",
       "    .dataframe tbody tr th {\n",
       "        vertical-align: top;\n",
       "    }\n",
       "\n",
       "    .dataframe thead th {\n",
       "        text-align: right;\n",
       "    }\n",
       "</style>\n",
       "<table border=\"1\" class=\"dataframe\">\n",
       "  <thead>\n",
       "    <tr style=\"text-align: right;\">\n",
       "      <th></th>\n",
       "      <th>id</th>\n",
       "      <th>assigned_course</th>\n",
       "    </tr>\n",
       "  </thead>\n",
       "  <tbody>\n",
       "  </tbody>\n",
       "</table>\n",
       "</div>"
      ],
      "text/plain": [
       "Empty DataFrame\n",
       "Columns: [id, assigned_course]\n",
       "Index: []"
      ]
     },
     "execution_count": 161,
     "metadata": {},
     "output_type": "execute_result"
    }
   ],
   "source": [
    "import pandas as pd\n",
    "import numpy as np\n",
    "\n",
    "# Словарь оставшихся мест для курсов\n",
    "remaining_seats_spring = {   \n",
    "    'Анализ данных в бизнесе': 23,\n",
    "    'Генеративные модели в машинном обучении': 16,\n",
    "    'Дискретная оптимизация': 30,\n",
    "    'Дополнительные главы прикладной статистики': 14,\n",
    "    'Компьютерное зрение': 29,\n",
    "    'Компьютерные сети': 30,\n",
    "    'Конфликты и кооперация': 19,\n",
    "    'Машинное обучение 2': 30,\n",
    "    'Методы сжатия и передачи медиаданных': 23,\n",
    "    'Обучение с подкреплением': 60,\n",
    "    'Проектирование и разработка высоконагруженных сервисов': 30,\n",
    "    'Промышленное программирование на языке Java': 30,\n",
    "    'Символьные вычисления': 10,\n",
    "    'Системы баз данных': 9,\n",
    "    'Численные методы': 11      \n",
    "}\n",
    "\n",
    "# Получение студентов, которые не зачислены на курсы (count_courses != 2)\n",
    "students3 = df[\n",
    "    ((df['course_2'] == '???') | (df['course_1'] == '???')) & (df['count_courses'] != 2)\n",
    "].sort_values(by='percentile_x', ascending=True)\n",
    "\n",
    "results = []\n",
    "for index, student in students3.iterrows():\n",
    "    preferred_course = student['spring_3']\n",
    "    \n",
    "    # Check if the preferred course is already assigned to this student\n",
    "    assigned_courses = set()\n",
    "    if student['course_1'] != '???':\n",
    "        assigned_courses.add(student['course_1'])\n",
    "    if student['course_2'] != '???':\n",
    "        assigned_courses.add(student['course_2'])\n",
    "\n",
    "    # Добавляем условие skip_mo\n",
    "    skip_mo = (student['17_group'] in (171, 172) or student['is_ml_student'] == 1) and (preferred_course == 'Машинное обучение 2')\n",
    "\n",
    "    # Проверка доступных мест и того, что курс не был уже зачислен\n",
    "    if not skip_mo and preferred_course in remaining_seats and remaining_seats[preferred_course] > 0 and preferred_course not in assigned_courses:\n",
    "        results.append((student['id'], preferred_course))\n",
    "        remaining_seats[preferred_course] -= 1\n",
    "\n",
    "# Преобразование результатов в DataFrame, если это необходимо\n",
    "results_df = pd.DataFrame(results, columns=['id', 'assigned_course'])\n",
    "\n",
    "results_df"
   ]
  },
  {
   "cell_type": "code",
   "execution_count": 163,
   "metadata": {},
   "outputs": [],
   "source": [
    "results_df = pd.DataFrame(results, columns=['student_id', 'course'])"
   ]
  },
  {
   "cell_type": "code",
   "execution_count": 164,
   "metadata": {},
   "outputs": [],
   "source": [
    "for index, row in results_df.iterrows():\n",
    "    student_id = row['student_id']\n",
    "    course_name = row['course']\n",
    "    # Замена \"???\" на курс в столбце course_1\n",
    "    df.loc[(df['id'] == student_id) & (df['course_1'] == '???'), 'course_1'] = course_name\n",
    "    # Замена \"???\" на курс в столбце course_2\n",
    "    df.loc[(df['id'] == student_id) & (df['course_2'] == '???'), 'course_2'] = course_name"
   ]
  },
  {
   "cell_type": "code",
   "execution_count": 165,
   "metadata": {},
   "outputs": [],
   "source": [
    "df.to_excel('df.xlsx')"
   ]
  },
  {
   "cell_type": "code",
   "execution_count": 166,
   "metadata": {},
   "outputs": [],
   "source": [
    "res_spring = df[['id','course_1', 'course_2']].rename(columns={'id': 'ID','course_1':'course1','course_2':'course2'})"
   ]
  },
  {
   "cell_type": "code",
   "execution_count": 167,
   "metadata": {},
   "outputs": [],
   "source": [
    "res_spring.to_csv('res_spring.csv', index=False)"
   ]
  },
  {
   "cell_type": "markdown",
   "metadata": {
    "id": "It7QQZLYhLu7"
   },
   "source": [
    "**Отправьте свой файл res_spring.csv в контест (https://contest.yandex.ru/contest/52663/problems/A) и прикрепите/укажите ниже ваш никнейм и ссылку на успешную посылку.**"
   ]
  },
  {
   "cell_type": "markdown",
   "metadata": {
    "id": "1YcouVTihLu7"
   },
   "source": [
    "На всякий случай просим вас сдать вместе с ноутбуком файл res_spring.csv в anytask"
   ]
  },
  {
   "cell_type": "markdown",
   "metadata": {
    "id": "uY_OY6inhLu7"
   },
   "source": [
    "Вставьте картинку, описывающую ваш опыт выполнения этого задания:"
   ]
  },
  {
   "cell_type": "code",
   "execution_count": null,
   "metadata": {
    "id": "R9_7CnSFhLu7"
   },
   "outputs": [],
   "source": []
  }
 ],
 "metadata": {
  "colab": {
   "name": "homework-practice-01-pandas.ipynb",
   "provenance": []
  },
  "kernelspec": {
   "display_name": "Python 3 (ipykernel)",
   "language": "python",
   "name": "python3"
  },
  "language_info": {
   "codemirror_mode": {
    "name": "ipython",
    "version": 3
   },
   "file_extension": ".py",
   "mimetype": "text/x-python",
   "name": "python",
   "nbconvert_exporter": "python",
   "pygments_lexer": "ipython3",
   "version": "3.11.7"
  },
  "varInspector": {
   "cols": {
    "lenName": 16,
    "lenType": 16,
    "lenVar": 40
   },
   "kernels_config": {
    "python": {
     "delete_cmd_postfix": "",
     "delete_cmd_prefix": "del ",
     "library": "var_list.py",
     "varRefreshCmd": "print(var_dic_list())"
    },
    "r": {
     "delete_cmd_postfix": ") ",
     "delete_cmd_prefix": "rm(",
     "library": "var_list.r",
     "varRefreshCmd": "cat(var_dic_list()) "
    }
   },
   "types_to_exclude": [
    "module",
    "function",
    "builtin_function_or_method",
    "instance",
    "_Feature"
   ],
   "window_display": false
  },
  "vscode": {
   "interpreter": {
    "hash": "e7370f93d1d0cde622a1f8e1c04877d8463912d04d973331ad4851f04de6915a"
   }
  }
 },
 "nbformat": 4,
 "nbformat_minor": 4
}
